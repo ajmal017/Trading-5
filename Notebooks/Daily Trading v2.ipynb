{
 "cells": [
  {
   "cell_type": "markdown",
   "metadata": {},
   "source": [
    "# Portfolio Methodolgy\n",
    "\n",
    "1. DGI/Growth Names - Rebalance every 6 months picking around 2 - 3 names from CA and US universe\n",
    "    - Sell Covered Calls on names and re-enter if called away.\n",
    "    - **GTC Stop Limit of 5% on each name**\n",
    "2. VAA/PAA - Rebalance every month on trading day 1\n",
    "3. LEAPS - Rebalance every 3 months picking around 3 - 8 names from US universe (high growth potential names)\n",
    "    - Current Holdings: LOPE STOR PNW SBUX\n",
    "    - LOPE Earnings: Nov 8\n",
    "    - PNW Earnings: Nov 8\n",
    "    - SBUX Earnings: Jan 23\n",
    "        - **Exit Criteria: When the call option drops below 60 delta**\n",
    "4. Short Vol - Short SPX Spreads at the beginning of the month and hold until second or last week to maturity\n",
    "    - Potentially long UVXY/VXX puts at beginning of the month with bracket orders\n",
    "    - **Short ATM SPX Put spreads around 25 points wide**\n",
    "        - **Long bi-weekly unit puts, around -7% or so of SPX spot (or something with a cost of 15% of the credit)**\n",
    "        - **The SPX put spread will have a capped max loss of 2,500 per contract, while in low volatility, the bi-weekly units are severely underpriced and will explode 10X to 20X in value if the long strike in the spread gets tested. Vega and Gamma play a huge factor in the repricing of these units.**\n",
    "        - Initiate the units every 2 weeks letting them run to expiry\n",
    "    - ***When in lower vol environment or when skew is less pronounced in high vol environments, it is possible to select spreads and units with the same expiry and still receive a deccent net credit. Otherwise, when IV is very high, check if same expiries are possible, otherwise choose units that expire in half the time.***\n",
    "5. Barbell Hedging\n",
    "    - Long SPX puts or VIX calls during high crisis potential moments\n",
    "        - Initiate bracket orders with SPX Puts: +/- 30% of Cost Basis\n",
    "    - Check VIX Futures volume trends and see impact of Feb 5, 2018\n",
    "    - Only trade 4 naked SPX puts in Reg accounts\n",
    "        - Sell half into profits/losses \n",
    "    - Only trade 6 3:1 Put back ratios in Reg Account: Leg into these positions because of how illiquid the market is\n",
    "    - Take losses immediately (10% - 30% of Cost Basis)\n",
    "    - NEVER EVER try to put on a position of the market is illiquid: YOU WILL get filled at horrible prices\n",
    "    - **Put on 1-5 Delta strangles on the open of the day and close position at the end of the day around 2 pm to 3 pm**\n",
    "6. Treasuries - Re-establish monthly bills beginning of month or at maturity\n",
    "7. Earnings\n",
    "    - Filter stocks with market cap > 500M and with post-earnings returns greater than 2% in magnitude for at least 3 quarters\n",
    "    - Then filter stocks whose options have bid-ask spreads less than 1 dollar ATM\n",
    "    - Aggregate all insider share buys and sells and calculate the ratio Buy/Sells\n",
    "        - Candidates for Puts have Buy/Sell < 0.5\n",
    "        - Candidates for Calls have Buy/Sell > 2\n",
    "\n",
    "##### Strategy Weights\n",
    "|Strategy|Weight|Last Rebal|Next Check|Next Full Rebal|\n",
    "|-|-|-|-|-|\n",
    "|VAA/PAA|25%|11/01/2018|12/01/2018|12/01/2018|\n",
    "|LEAPs|5%|11/01/2018|12/01/2018|01/01/2019|\n",
    "|Short Vol|2%|NA|NA|NA|\n",
    "|Barbell Hedging|1.5%|11/06/2018|11/09/2018|11/19/2018|\n",
    "|Treasuries|60%|11/01/2018|11/29/2018|12/01/2018|"
   ]
  },
  {
   "cell_type": "markdown",
   "metadata": {},
   "source": [
    "## Key Modules to Run\n",
    "\n",
    "- fundamental_data_collect.py to run monthly to collected latest financial statements and key stats from yahoo\n",
    "- finstatement_cleaning.py to run right after fundamental_data_collect.py to create cleaned data for earnings plays\n",
    "\n"
   ]
  },
  {
   "cell_type": "code",
   "execution_count": 1,
   "metadata": {},
   "outputs": [
    {
     "data": {
      "text/html": [
       "<script>requirejs.config({paths: { 'plotly': ['https://cdn.plot.ly/plotly-latest.min']},});if(!window.Plotly) {{require(['plotly'],function(plotly) {window.Plotly=plotly;});}}</script>"
      ],
      "text/vnd.plotly.v1+html": [
       "<script>requirejs.config({paths: { 'plotly': ['https://cdn.plot.ly/plotly-latest.min']},});if(!window.Plotly) {{require(['plotly'],function(plotly) {window.Plotly=plotly;});}}</script>"
      ]
     },
     "metadata": {},
     "output_type": "display_data"
    }
   ],
   "source": [
    "# Importing necessary models\n",
    "import warnings\n",
    "warnings.filterwarnings('ignore')\n",
    "\n",
    "import smtplib\n",
    "import pandas as pd\n",
    "import numpy as np\n",
    "import datetime as dt\n",
    "import pandas.stats.moments as st\n",
    "import time\n",
    "%matplotlib inline\n",
    "from bs4 import BeautifulSoup as bs\n",
    "import requests\n",
    "import plotly.plotly as py\n",
    "import plotly.graph_objs as go\n",
    "from plotly.offline import download_plotlyjs, init_notebook_mode, plot, iplot\n",
    "from sqlalchemy import *\n",
    "from sqlalchemy import create_engine\n",
    "import calendar\n",
    "import sqlite3 as sql\n",
    "pd.options.display.float_format = '{:,.2f}'.format\n",
    "\n",
    "init_notebook_mode(connected=True)\n",
    "\n",
    "import os\n",
    "main_dir = os.getcwd()\n",
    "\n",
    "dbs_dir = 'C:\\\\Users\\\\Fang\\\\Desktop\\\\Python Trading\\\\Trading\\\\Data\\\\DBs'\n",
    "\n",
    "os.chdir('C:\\\\Users\\\\Fang\\\\Desktop\\\\Python Trading\\\\Trading\\\\Trading\\\\Modules\\\\DataCollection')\n",
    "\n",
    "from alphavantage import *\n",
    "from yahoo_query import *\n",
    "from option_slam_earnings import *\n",
    "from reuters_query import reuters_query, reuters_insiders\n",
    "from alphaquery import alphaquery\n",
    "\n",
    "os.chdir('C:\\\\Users\\\\Fang\\\\Desktop\\\\Python Trading\\\\Trading\\\\Trading\\\\Modules\\\\Options')\n",
    "from optionsFunctions import *\n",
    "\n",
    "os.chdir('C:\\\\Users\\\\Fang\\\\Desktop\\\\Python Trading\\\\Trading\\\\Trading\\\\Modules\\\\Earnings')\n",
    "from yahoo_earnings import *\n",
    "from lookup_earnings import lookup_earnings\n",
    "\n",
    "os.chdir('C:\\\\Users\\\\Fang\\\\Desktop\\\\Python Trading\\\\Trading\\\\Trading\\\\Modules\\\\Processing')\n",
    "from hv_calc import *\n",
    "\n",
    "os.chdir(main_dir)\n",
    "\n",
    "dbs_dir = 'C:\\\\Users\\\\Fang\\\\Desktop\\\\Python Trading\\\\Trading\\\\Data\\\\DBs'\n",
    "\n",
    "os.chdir(dbs_dir)\n",
    "\n",
    "earn_engine = create_engine('sqlite:///earningsHistory.db', echo=False)\n",
    "yahoo_engine = create_engine('sqlite:///yahoo.db', echo = False)\n",
    "reuters_engine = create_engine('sqlite:///reuters.db', echo=False)"
   ]
  },
  {
   "cell_type": "markdown",
   "metadata": {},
   "source": [
    "# Allocate Smartly Checking"
   ]
  },
  {
   "cell_type": "code",
   "execution_count": 2,
   "metadata": {},
   "outputs": [
    {
     "data": {
      "text/html": [
       "<div>\n",
       "<style>\n",
       "    .dataframe thead tr:only-child th {\n",
       "        text-align: right;\n",
       "    }\n",
       "\n",
       "    .dataframe thead th {\n",
       "        text-align: left;\n",
       "    }\n",
       "\n",
       "    .dataframe tbody tr th {\n",
       "        vertical-align: top;\n",
       "    }\n",
       "</style>\n",
       "<table border=\"1\" class=\"dataframe\">\n",
       "  <thead>\n",
       "    <tr style=\"text-align: right;\">\n",
       "      <th></th>\n",
       "      <th>Allocation</th>\n",
       "      <th>price</th>\n",
       "      <th>Market Value</th>\n",
       "      <th>Holdings</th>\n",
       "    </tr>\n",
       "    <tr>\n",
       "      <th>symbol</th>\n",
       "      <th></th>\n",
       "      <th></th>\n",
       "      <th></th>\n",
       "      <th></th>\n",
       "    </tr>\n",
       "  </thead>\n",
       "  <tbody>\n",
       "    <tr>\n",
       "      <th>DBC</th>\n",
       "      <td>0.00</td>\n",
       "      <td>15.71</td>\n",
       "      <td>0.00</td>\n",
       "      <td>0.00</td>\n",
       "    </tr>\n",
       "    <tr>\n",
       "      <th>HYG</th>\n",
       "      <td>0.00</td>\n",
       "      <td>82.83</td>\n",
       "      <td>0.00</td>\n",
       "      <td>0.00</td>\n",
       "    </tr>\n",
       "    <tr>\n",
       "      <th>IEF</th>\n",
       "      <td>1.00</td>\n",
       "      <td>102.81</td>\n",
       "      <td>200,000.00</td>\n",
       "      <td>1,945.00</td>\n",
       "    </tr>\n",
       "    <tr>\n",
       "      <th>IWM</th>\n",
       "      <td>0.00</td>\n",
       "      <td>144.40</td>\n",
       "      <td>0.00</td>\n",
       "      <td>0.00</td>\n",
       "    </tr>\n",
       "    <tr>\n",
       "      <th>LQD</th>\n",
       "      <td>0.00</td>\n",
       "      <td>111.89</td>\n",
       "      <td>0.00</td>\n",
       "      <td>0.00</td>\n",
       "    </tr>\n",
       "    <tr>\n",
       "      <th>QQQ</th>\n",
       "      <td>0.00</td>\n",
       "      <td>161.43</td>\n",
       "      <td>0.00</td>\n",
       "      <td>0.00</td>\n",
       "    </tr>\n",
       "    <tr>\n",
       "      <th>SPY</th>\n",
       "      <td>0.00</td>\n",
       "      <td>264.04</td>\n",
       "      <td>0.00</td>\n",
       "      <td>0.00</td>\n",
       "    </tr>\n",
       "    <tr>\n",
       "      <th>VNQ</th>\n",
       "      <td>0.00</td>\n",
       "      <td>82.14</td>\n",
       "      <td>0.00</td>\n",
       "      <td>0.00</td>\n",
       "    </tr>\n",
       "  </tbody>\n",
       "</table>\n",
       "</div>"
      ],
      "text/plain": [
       "        Allocation  price  Market Value  Holdings\n",
       "symbol                                           \n",
       "DBC           0.00  15.71          0.00      0.00\n",
       "HYG           0.00  82.83          0.00      0.00\n",
       "IEF           1.00 102.81    200,000.00  1,945.00\n",
       "IWM           0.00 144.40          0.00      0.00\n",
       "LQD           0.00 111.89          0.00      0.00\n",
       "QQQ           0.00 161.43          0.00      0.00\n",
       "SPY           0.00 264.04          0.00      0.00\n",
       "VNQ           0.00  82.14          0.00      0.00"
      ]
     },
     "execution_count": 2,
     "metadata": {},
     "output_type": "execute_result"
    }
   ],
   "source": [
    "# Short Call Assignment Price - 287.5\n",
    "\n",
    "portfolio_value =  200000\n",
    "\n",
    "as_lst = ['DBC',\n",
    "        'HYG',\n",
    "        'IEF',\n",
    "        'IWM',\n",
    "        'LQD',\n",
    "        'QQQ',\n",
    "        'SPY',\n",
    "        'VNQ']\n",
    "as_wgt = [0.0,\n",
    "        0.0,\n",
    "        1.0,\n",
    "        0.0,\n",
    "        0.0,\n",
    "        0.0,\n",
    "        0.0,\n",
    "        0.0]\n",
    "\n",
    "as_df = pd.DataFrame({'Allocation': as_wgt}, index = as_lst)\n",
    "curr_spot = curr_batch_quotes(as_lst)\n",
    "as_df = pd.concat([as_df,curr_spot[['price']]], axis = 1)\n",
    "\n",
    "as_df['Market Value'] = portfolio_value*as_df.Allocation\n",
    "as_df['Holdings'] = np.round(as_df['Market Value']/as_df.price,0)\n",
    "\n",
    "as_df"
   ]
  },
  {
   "cell_type": "markdown",
   "metadata": {},
   "source": [
    "## Checking market correlations - https://fang-trading-dashboard.herokuapp.com"
   ]
  },
  {
   "cell_type": "code",
   "execution_count": 3,
   "metadata": {},
   "outputs": [],
   "source": [
    "# rolling_window = 60\n",
    "# plot_window = 10000\n",
    "\n",
    "# corr_df, sector_df = check_mkt_corr(rolling_window, plot_window)\n",
    "# print(corr_df.tail())"
   ]
  },
  {
   "cell_type": "code",
   "execution_count": 4,
   "metadata": {},
   "outputs": [],
   "source": [
    "# ((sector_df.dropna() + 1).cumprod()-1).tail()"
   ]
  },
  {
   "cell_type": "code",
   "execution_count": 5,
   "metadata": {},
   "outputs": [],
   "source": [
    "# corr_df.iloc[:,:-2].plot(figsize = (20,10))"
   ]
  },
  {
   "cell_type": "markdown",
   "metadata": {},
   "source": [
    "## Earnings"
   ]
  },
  {
   "cell_type": "code",
   "execution_count": 6,
   "metadata": {},
   "outputs": [],
   "source": [
    "# Fin Statement \n",
    "\n",
    "def balancesheet_sum(balance_sheet, period):\n",
    "    balance_sheet = balance_sheet.fillna(np.nan)\n",
    "    \n",
    "    bs_summary = balance_sheet[[period, 'cash', 'totalCurrentAssets', 'totalAssets', 'totalLiab','totalStockholderEquity']]\n",
    "\n",
    "    bs_ratios = balance_sheet[[period]]\n",
    "\n",
    "    bs_ratios['current_ratio'] = pd.to_numeric(balance_sheet['totalCurrentAssets'])/pd.to_numeric(balance_sheet['totalCurrentLiabilities'])\n",
    "    bs_ratios['total_debt_equity_ratio'] = pd.to_numeric(balance_sheet['totalCurrentLiabilities'])/pd.to_numeric(balance_sheet['totalStockholderEquity'])\n",
    "\n",
    "    bs_summary[bs_summary.columns.tolist()[1:]] = bs_summary[bs_summary.columns.tolist()[1:]].apply(lambda x: pd.to_numeric(x)).pct_change()\n",
    "    bs_ratios[['current_ratio_changes','total_debt_equity_changes']] = bs_ratios[['current_ratio','total_debt_equity_ratio']].pct_change()\n",
    "    bs_summary = bs_summary.merge(bs_ratios, on = period)\n",
    "    bs_summary['Underlying'] = ticker\n",
    "    bs_summary = bs_summary.set_index('Underlying')\n",
    "    return bs_summary\n",
    "\n",
    "def cashflows_sum(cashflows, period):\n",
    "    cashflows['fcf'] = pd.to_numeric(cashflows['totalCashFromOperatingActivities']) - pd.to_numeric(cashflows['totalCashflowsFromInvestingActivities'])\n",
    "    cashflow_sum = cashflows[[period, 'fcf', 'capitalExpenditures', 'dividendsPaid', 'investments']].fillna(0)\n",
    "    cashflow_sum[cashflow_sum.columns.tolist()[1:]] = cashflow_sum[cashflow_sum.columns.tolist()[1:]].apply(lambda x: pd.to_numeric(x)).pct_change()\n",
    "    cashflow_sum['changeToOperatingActivities'] = pd.to_numeric(cashflows['changeToOperatingActivities'])/pd.to_numeric(cashflows['totalCashFromOperatingActivities'])\n",
    "    cashflow_sum['Underlying'] = ticker\n",
    "    cashflow_sum = cashflow_sum.set_index('Underlying')\n",
    "    \n",
    "    return cashflow_sum\n",
    "\n",
    "\n",
    "def income_summary(incomestatement, period):\n",
    "\n",
    "    income_sum = incomestatement[[period, 'grossProfit','operatingIncome', 'netIncome', 'totalRevenue', 'totalOperatingExpenses', 'researchDevelopment']]\n",
    "    income_sum = income_sum.fillna(np.nan)\n",
    "    income_ratios = income_sum[[period]]\n",
    "    income_ratios['gross_margin'] = pd.to_numeric(income_sum['grossProfit'])/pd.to_numeric(income_sum['totalRevenue'])\n",
    "    income_ratios['operating_margin'] = pd.to_numeric(income_sum['operatingIncome'])/pd.to_numeric(income_sum['totalRevenue'])\n",
    "    income_ratios['net_profit_margin'] = pd.to_numeric(income_sum['netIncome'])/pd.to_numeric(income_sum['totalRevenue'])\n",
    "    income_sum[[x + '_changes' for x in income_ratios.columns.tolist()[1:]]] = income_ratios[income_ratios.columns.tolist()[1:]]\n",
    "    income_sum[income_sum.columns.tolist()[1:]] = income_sum[income_sum.columns.tolist()[1:]].apply(lambda x: pd.to_numeric(x)).pct_change()\n",
    "    income_sum = income_sum.merge(income_ratios, on = period)\n",
    "    income_sum['Underlying'] = ticker\n",
    "    income_sum = income_sum.set_index('Underlying')\n",
    "    \n",
    "    return income_sum\n",
    "\n",
    "def score_statement(statement):\n",
    "\n",
    "    short_score = 0\n",
    "    long_score = 0\n",
    "\n",
    "    require_positives = ['cash', 'current_ratio_changes', 'fcf', 'capitalExpenditures', 'investments',\n",
    "                         'grossProfit', 'operatingIncome', 'netIncome', 'totalRevenue' ,'researchDevelopment',\n",
    "                         'gross_margin_changes','net_profit_margin_changes','operating_margin_changes',\n",
    "                         'gross_margin','operating_margin','net_profit_margin','earnings','revenue']\n",
    "    require_negatives = ['totalLiab','total_debt_equity_ratio','total_debt_equity_changes','totalOperatingExpenses']\n",
    "\n",
    "    for idx, row in statement.T.iterrows():\n",
    "        num_of_periods = len(statement)\n",
    "        if idx == 'year' or idx == 'quarter':\n",
    "            continue\n",
    "        curr_line_check = sum(row.values > 0)\n",
    "\n",
    "        if idx in require_positives and curr_line_check == num_of_periods:\n",
    "            long_score += 1\n",
    "\n",
    "        if idx in require_positives and curr_line_check == 0:\n",
    "            short_score += 1\n",
    "\n",
    "        if idx in require_negatives and curr_line_check == 0:\n",
    "            long_score += 1\n",
    "\n",
    "        if idx in require_negatives and curr_line_check == num_of_periods:\n",
    "            short_score += 1\n",
    "            \n",
    "    return [long_score, short_score]\n",
    "\n",
    "def yahoo_assess(yahoo_info, ticker):\n",
    "    annual_statements = []\n",
    "    quarterly_statements = []\n",
    "\n",
    "    for k, v in yahoo_info.items():\n",
    "        current_table = v[v.index == ticker].drop_duplicates().replace('na',np.nan)\n",
    "        if len(current_table) > 0:\n",
    "            if 'BalanceSheet' in k:\n",
    "                period = list(filter(lambda x: x in ['year','quarter'], current_table.columns.tolist()))[0]\n",
    "                balancesheet = balancesheet_sum(current_table, period)\n",
    "                if period == 'year':\n",
    "                    annual_statements.append(balancesheet)\n",
    "                else:\n",
    "                    quarterly_statements.append(balancesheet)\n",
    "                #yahoo_info[k] = balancesheet\n",
    "            elif 'CashFlow' in k:\n",
    "                period = list(filter(lambda x: x in ['year','quarter'], current_table.columns.tolist()))[0]\n",
    "                cashflows = cashflows_sum(current_table, period)\n",
    "                if period == 'year':\n",
    "                    annual_statements.append(cashflows)\n",
    "                else:\n",
    "                    quarterly_statements.append(cashflows)\n",
    "                #yahoo_info[k] = cashflows\n",
    "            elif 'annualEarnings' in k:\n",
    "                period = list(filter(lambda x: x in ['year','quarter'], current_table.columns.tolist()))[0]\n",
    "                earnings = current_table\n",
    "                earnings[earnings.columns.tolist()[1:]] = earnings[earnings.columns.tolist()[1:]].apply(lambda x: pd.to_numeric(x)).pct_change()\n",
    "                #yahoo_info[k] = earnings\n",
    "            elif 'IncomeStatement' in k:\n",
    "                period = list(filter(lambda x: x in ['year','quarter'], current_table.columns.tolist()))[0]\n",
    "                incomestatement = income_summary(current_table, period)\n",
    "                if period == 'year':\n",
    "                    annual_statements.append(incomestatement)\n",
    "                else:\n",
    "                    quarterly_statements.append(incomestatement)\n",
    "                #yahoo_info[k] = incomestatement\n",
    "            elif k == 'finData':\n",
    "                finData = current_table[['earningsGrowth','revenueGrowth','freeCashflow','totalCash']].drop_duplicates()\n",
    "            else:\n",
    "                profile = current_table[['industry','sector']].drop_duplicates()\n",
    "\n",
    "    annual_statements = pd.concat(annual_statements, axis = 1)\n",
    "    annual_statements = annual_statements.T[~annual_statements.T.index.duplicated(keep='first')].T\n",
    "    annual_statements['year'] = pd.to_datetime(annual_statements['year'])\n",
    "    #annual_statements[['earnings','revenue']] = earnings[['earnings','revenue']]\n",
    "    annual_statements['earnings'] = earnings['earnings'].values\n",
    "    annual_statements['revenue'] = earnings['revenue'].values\n",
    "    annual_statements = annual_statements.tail(len(annual_statements) - 1)\n",
    "\n",
    "    quarterly_statements = pd.concat(quarterly_statements, axis = 1)\n",
    "    quarterly_statements = quarterly_statements.T[~quarterly_statements.T.index.duplicated(keep='first')].T\n",
    "    quarterly_statements['quarter'] = pd.to_datetime(quarterly_statements['quarter'])\n",
    "    quarterly_statements = quarterly_statements.tail(len(quarterly_statements) - 1)\n",
    "\n",
    "    ticker_profile = profile.join(finData)\n",
    "\n",
    "    annual_scores = score_statement(annual_statements)\n",
    "    quarterly_scores = score_statement(quarterly_statements)\n",
    "\n",
    "    ticker_profile.loc[ticker, 'annualLongScore'] = annual_scores[0]\n",
    "    ticker_profile.loc[ticker, 'annualShortScore'] = annual_scores[1]\n",
    "    ticker_profile.loc[ticker, 'quarterlyLongScore'] = quarterly_scores[0]\n",
    "    ticker_profile.loc[ticker, 'quarterlyshortScore'] = quarterly_scores[1]\n",
    "\n",
    "    return ticker_profile, annual_statements, quarterly_statements\n",
    "\n",
    "def convertReportDate(reportdate):\n",
    "    curr_date = dt.datetime.strptime(reportdate.split(' ')[-1], '%b-%y')\n",
    "    date_range = calendar.monthrange(curr_date.year,curr_date.month)\n",
    "    date = dt.datetime(curr_date.year,curr_date.month,date_range[1])\n",
    "    return date"
   ]
  },
  {
   "cell_type": "code",
   "execution_count": 7,
   "metadata": {},
   "outputs": [],
   "source": [
    "def reuters_assess(ticker, reuters_info):\n",
    "    reuters_fundamentals = []\n",
    "\n",
    "    reuters_long_score = 0\n",
    "    reuters_short_score = 0\n",
    "\n",
    "    for k, v in reuters_info.items():\n",
    "        if k in ['earningsAnalysis','efficiency','performanceSummary','salesAnalysis']:\n",
    "            continue\n",
    "        current_table = v[v.index == ticker].drop_duplicates()\n",
    "        if len(current_table) > 0:\n",
    "            if 'PullDate' in current_table.columns:\n",
    "                current_table = current_table.sort_values('PullDate', ascending = False)\n",
    "                current_table = current_table[current_table['PullDate'] == current_table.PullDate.values[0]]\n",
    "                del current_table['PullDate']\n",
    "\n",
    "            if k == 'overviews':\n",
    "                reuter_overview = current_table[['LastPrice', 'High52Week','Low52Week']]\n",
    "            if k in ['dividends', 'financialStrength','growthRates','managementAbilities','profitability']:\n",
    "                reuters_fundamentals.append(current_table)\n",
    "                fund_table = current_table.set_index('Field')\n",
    "                for field in fund_table.index:\n",
    "                    if field not in ['LT Debt to Equity (MRQ)','Total Debt to Equity (MRQ)','Effective Tax Rate (TTM)','Effective Tax Rate - 5 Yr. Avg.']:\n",
    "                        if fund_table.loc[field,'Company'] > fund_table.loc[field,'industry'] and fund_table.loc[field,'Company'] > fund_table.loc[field,'sector']:\n",
    "                            reuters_long_score += 1\n",
    "                        if fund_table.loc[field,'Company'] < fund_table.loc[field,'industry'] and fund_table.loc[field,'Company'] < fund_table.loc[field,'sector']:\n",
    "                            reuters_short_score += 1\n",
    "                    elif field in ['LT Debt to Equity (MRQ)','Total Debt to Equity (MRQ)']:\n",
    "                        if fund_table.loc[field,'Company'] > fund_table.loc[field,'industry'] and fund_table.loc[field,'Company'] > fund_table.loc[field,'sector']:\n",
    "                            reuters_short_score += 1\n",
    "                        if fund_table.loc[field,'Company'] < fund_table.loc[field,'industry'] and fund_table.loc[field,'Company'] < fund_table.loc[field,'sector']:\n",
    "                            reuters_long_score += 1\n",
    "\n",
    "                if k == 'dividends':\n",
    "                    try:\n",
    "                        if fund_table.loc['Dividend Yield', 'Company'] > fund_table.loc['Dividend Yield - 5 Year Avg', 'Company']:\n",
    "                            reuters_long_score += 1\n",
    "                        if fund_table.loc['Dividend Yield', 'Company'] < fund_table.loc['Dividend Yield - 5 Year Avg', 'Company']:\n",
    "                            reuters_short_score += 1\n",
    "                    except:\n",
    "                        None\n",
    "\n",
    "                if k == 'growthRates':\n",
    "                    try:\n",
    "                        if fund_table.loc['Sales (TTM) vs TTM 1 Yr. Ago', 'Company'] > fund_table.loc['Sales - 5 Yr. Growth Rate', 'Company']:\n",
    "                            reuters_long_score += 1\n",
    "                        if fund_table.loc['Sales (TTM) vs TTM 1 Yr. Ago', 'Company'] < fund_table.loc['Sales - 5 Yr. Growth Rate', 'Company']:\n",
    "                            reuters_short_score += 1\n",
    "                    except:\n",
    "                        None\n",
    "                    try:\n",
    "                        if fund_table.loc['EPS (TTM) vs TTM 1 Yr. Ago', 'Company'] > fund_table.loc['EPS - 5 Yr. Growth Rate', 'Company']:\n",
    "                            reuters_long_score += 1\n",
    "                        if fund_table.loc['EPS (TTM) vs TTM 1 Yr. Ago', 'Company'] < fund_table.loc['EPS - 5 Yr. Growth Rate', 'Company']:\n",
    "                            reuters_short_score += 1\n",
    "                    except:\n",
    "                        None\n",
    "\n",
    "                if k == 'managementAbilities':\n",
    "                    try:\n",
    "                        if fund_table.loc['Return on Assets (TTM)', 'Company'] > fund_table.loc['Return on Assets - 5 Yr. Avg.', 'Company']:\n",
    "                            reuters_long_score += 1\n",
    "                        if fund_table.loc['Return on Assets (TTM)', 'Company'] < fund_table.loc['Return on Assets - 5 Yr. Avg.', 'Company']:\n",
    "                            reuters_short_score += 1\n",
    "                    except:\n",
    "                        None\n",
    "                        \n",
    "                    try:\n",
    "                        if fund_table.loc['Return on Investment (TTM)', 'Company'] > fund_table.loc['Return on Investment - 5 Yr. Avg.', 'Company']:\n",
    "                            reuters_long_score += 1\n",
    "                        if fund_table.loc['Return on Investment (TTM)', 'Company'] < fund_table.loc['Return on Investment - 5 Yr. Avg.', 'Company']:\n",
    "                            reuters_short_score += 1\n",
    "                    except:\n",
    "                        None\n",
    "                    \n",
    "                    try:\n",
    "                        if fund_table.loc['Return on Equity (TTM)','Company'] > fund_table.loc['Return on Equity - 5 Yr. Avg.', 'Company']:\n",
    "                            reuters_long_score += 1\n",
    "                        if fund_table.loc['Return on Equity (TTM)','Company'] < fund_table.loc['Return on Equity - 5 Yr. Avg.', 'Company']:\n",
    "                            reuters_short_score += 1\n",
    "                    except:\n",
    "                        None\n",
    "\n",
    "                if k == 'profitability':\n",
    "                    try:\n",
    "                        if fund_table.loc['Gross Margin (TTM)', 'Company'] > fund_table.loc['Gross Margin - 5 Yr. Avg.', 'Company']:\n",
    "                            reuters_long_score += 1\n",
    "                        if fund_table.loc['Gross Margin (TTM)', 'Company'] < fund_table.loc['Gross Margin - 5 Yr. Avg.', 'Company']:\n",
    "                            reuters_short_score += 1\n",
    "                    except:\n",
    "                        None\n",
    "                        \n",
    "                    try:\n",
    "                        if fund_table.loc['EBITD Margin (TTM)', 'Company'] > fund_table.loc['EBITD - 5 Yr. Avg', 'Company']:\n",
    "                            reuters_long_score += 1\n",
    "                        if fund_table.loc['EBITD Margin (TTM)', 'Company'] < fund_table.loc['EBITD - 5 Yr. Avg', 'Company']:\n",
    "                            reuters_short_score += 1\n",
    "                    except:\n",
    "                        None\n",
    "                        \n",
    "                    try:\n",
    "                        if fund_table.loc['Operating Margin (TTM)','Company'] > fund_table.loc['Operating Margin - 5 Yr. Avg.', 'Company']:\n",
    "                            reuters_long_score += 1\n",
    "                        if fund_table.loc['Operating Margin (TTM)','Company'] < fund_table.loc['Operating Margin - 5 Yr. Avg.', 'Company']:\n",
    "                            reuters_short_score += 1\n",
    "                    except:\n",
    "                        None\n",
    "                        \n",
    "                    try:\n",
    "                        if fund_table.loc['Pre-Tax Margin (TTM)','Company'] > fund_table.loc['Pre-Tax Margin - 5 Yr. Avg.', 'Company']:\n",
    "                            reuters_long_score += 1\n",
    "                        if fund_table.loc['Pre-Tax Margin (TTM)','Company'] < fund_table.loc['Pre-Tax Margin - 5 Yr. Avg.', 'Company']:\n",
    "                            reuters_short_score += 1\n",
    "                    except:\n",
    "                        None\n",
    "                    \n",
    "                    try:\n",
    "                        if fund_table.loc['Net Profit Margin (TTM)','Company'] > fund_table.loc['Net Profit Margin - 5 Yr. Avg.', 'Company']:\n",
    "                            reuters_long_score += 1\n",
    "                        if fund_table.loc['Net Profit Margin (TTM)','Company'] < fund_table.loc['Net Profit Margin - 5 Yr. Avg.', 'Company']:\n",
    "                            reuters_short_score += 1\n",
    "                    except:\n",
    "                        None\n",
    "\n",
    "    reuters_fundamentals = pd.concat(reuters_fundamentals, axis = 0)\n",
    "    reuter_overview.loc[ticker, 'longScore'] = reuters_long_score\n",
    "    reuter_overview.loc[ticker, 'shortScore'] = reuters_short_score\n",
    "    return reuter_overview, reuters_fundamentals\n",
    "\n",
    "def aggregate_txns_date(trade_date):\n",
    "    \n",
    "    trade_month = trade_date.month\n",
    "    trade_year = trade_date.year\n",
    "    if trade_month <= 3:\n",
    "        return dt.datetime(trade_year,3,31).date()\n",
    "    elif trade_month <= 6:\n",
    "        return dt.datetime(trade_year,6,30).date()\n",
    "    elif trade_month <= 9:\n",
    "        return dt.datetime(trade_year,9,30).date()\n",
    "    else:\n",
    "        return dt.datetime(trade_year,12,31).date()"
   ]
  },
  {
   "cell_type": "code",
   "execution_count": 8,
   "metadata": {
    "scrolled": true
   },
   "outputs": [
    {
     "ename": "AttributeError",
     "evalue": "'NoneType' object has no attribute 'find'",
     "output_type": "error",
     "traceback": [
      "\u001b[1;31m---------------------------------------------------------------------------\u001b[0m",
      "\u001b[1;31mAttributeError\u001b[0m                            Traceback (most recent call last)",
      "\u001b[1;32m<ipython-input-8-c93776fcfbaf>\u001b[0m in \u001b[0;36m<module>\u001b[1;34m()\u001b[0m\n\u001b[0;32m     10\u001b[0m \u001b[1;32mfor\u001b[0m \u001b[0mi\u001b[0m \u001b[1;32min\u001b[0m \u001b[0mdays_list\u001b[0m\u001b[1;33m:\u001b[0m\u001b[1;33m\u001b[0m\u001b[0m\n\u001b[0;32m     11\u001b[0m     \u001b[0mdate_lookup\u001b[0m \u001b[1;33m=\u001b[0m \u001b[1;34m'{0}-{1}-{2}'\u001b[0m\u001b[1;33m.\u001b[0m\u001b[0mformat\u001b[0m\u001b[1;33m(\u001b[0m\u001b[0myear\u001b[0m\u001b[1;33m,\u001b[0m\u001b[0mmonth\u001b[0m\u001b[1;33m,\u001b[0m\u001b[1;34m'0'\u001b[0m\u001b[1;33m+\u001b[0m\u001b[1;33m(\u001b[0m\u001b[0mstr\u001b[0m\u001b[1;33m(\u001b[0m\u001b[0mi\u001b[0m\u001b[1;33m)\u001b[0m\u001b[1;33m)\u001b[0m\u001b[1;33m)\u001b[0m\u001b[1;33m\u001b[0m\u001b[0m\n\u001b[1;32m---> 12\u001b[1;33m     \u001b[0mcurr_earnings\u001b[0m \u001b[1;33m=\u001b[0m \u001b[0mdate_earnings\u001b[0m\u001b[1;33m(\u001b[0m\u001b[0mdate_lookup\u001b[0m\u001b[1;33m)\u001b[0m\u001b[1;33m\u001b[0m\u001b[0m\n\u001b[0m\u001b[0;32m     13\u001b[0m     \u001b[0mcurr_earnings\u001b[0m \u001b[1;33m=\u001b[0m \u001b[0mcurr_earnings\u001b[0m\u001b[1;33m[\u001b[0m\u001b[0mcurr_earnings\u001b[0m\u001b[1;33m[\u001b[0m\u001b[1;34m'Call Time'\u001b[0m\u001b[1;33m]\u001b[0m\u001b[1;33m.\u001b[0m\u001b[0misin\u001b[0m\u001b[1;33m(\u001b[0m\u001b[1;33m[\u001b[0m\u001b[1;34m'After Market Close'\u001b[0m\u001b[1;33m,\u001b[0m \u001b[1;34m'Before Market Open'\u001b[0m\u001b[1;33m]\u001b[0m\u001b[1;33m)\u001b[0m\u001b[1;33m]\u001b[0m\u001b[1;33m\u001b[0m\u001b[0m\n\u001b[0;32m     14\u001b[0m     \u001b[0mcurr_earnings\u001b[0m\u001b[1;33m[\u001b[0m\u001b[1;34m'EarningsDate'\u001b[0m\u001b[1;33m]\u001b[0m \u001b[1;33m=\u001b[0m \u001b[0mdate_lookup\u001b[0m\u001b[1;33m\u001b[0m\u001b[0m\n",
      "\u001b[1;32mC:\\Users\\Fang\\Desktop\\Python Trading\\Trading\\Trading\\Modules\\Earnings\\yahoo_earnings.py\u001b[0m in \u001b[0;36mdate_earnings\u001b[1;34m(earnings_date_string)\u001b[0m\n\u001b[0;32m     52\u001b[0m     \u001b[0mtable_div\u001b[0m \u001b[1;33m=\u001b[0m \u001b[0msoup\u001b[0m\u001b[1;33m.\u001b[0m\u001b[0mfind\u001b[0m\u001b[1;33m(\u001b[0m\u001b[1;34m'div'\u001b[0m\u001b[1;33m,\u001b[0m \u001b[1;33m{\u001b[0m\u001b[1;34m'id'\u001b[0m\u001b[1;33m:\u001b[0m\u001b[1;34m'fin-cal-table'\u001b[0m\u001b[1;33m}\u001b[0m\u001b[1;33m)\u001b[0m\u001b[1;33m\u001b[0m\u001b[0m\n\u001b[0;32m     53\u001b[0m     total_names = str(list(filter(lambda x: 'results' in str(x), \n\u001b[1;32m---> 54\u001b[1;33m                                   table_div.find('h3').findAll('span')))[-1]).replace('</span>','').split('results')[-2]\n\u001b[0m\u001b[0;32m     55\u001b[0m     \u001b[0mtotal_names\u001b[0m \u001b[1;33m=\u001b[0m \u001b[0mint\u001b[0m\u001b[1;33m(\u001b[0m\u001b[0mtotal_names\u001b[0m\u001b[1;33m.\u001b[0m\u001b[0mstrip\u001b[0m\u001b[1;33m(\u001b[0m\u001b[1;33m)\u001b[0m\u001b[1;33m.\u001b[0m\u001b[0msplit\u001b[0m\u001b[1;33m(\u001b[0m\u001b[1;34m' '\u001b[0m\u001b[1;33m)\u001b[0m\u001b[1;33m[\u001b[0m\u001b[1;33m-\u001b[0m\u001b[1;36m1\u001b[0m\u001b[1;33m]\u001b[0m\u001b[1;33m)\u001b[0m\u001b[1;33m\u001b[0m\u001b[0m\n\u001b[0;32m     56\u001b[0m \u001b[1;33m\u001b[0m\u001b[0m\n",
      "\u001b[1;31mAttributeError\u001b[0m: 'NoneType' object has no attribute 'find'"
     ]
    }
   ],
   "source": [
    "month = 12\n",
    "year = 2018\n",
    "check_options = True\n",
    "days_list = list(range(10, 14))\n",
    "\n",
    "start_time = time.time()\n",
    "\n",
    "week_earnings = []\n",
    "\n",
    "for i in days_list:\n",
    "    date_lookup = '{0}-{1}-{2}'.format(year,month,'0'+(str(i)))\n",
    "    curr_earnings = date_earnings(date_lookup)\n",
    "    curr_earnings = curr_earnings[curr_earnings['Call Time'].isin(['After Market Close', 'Before Market Open'])]\n",
    "    curr_earnings['EarningsDate'] = date_lookup\n",
    "    week_earnings.append(curr_earnings)\n",
    "    \n",
    "curr_earnings = pd.concat(week_earnings,axis = 0)\n",
    "\n",
    "focus_names = []\n",
    "max_spread = 1\n",
    "\n",
    "for ticker in curr_earnings.index:\n",
    "    try:\n",
    "        curr_options = all_options(ticker, 100, 1)\n",
    "    except:\n",
    "        curr_options = []\n",
    "    \n",
    "    if len(curr_options) == 0:\n",
    "        continue\n",
    "    elif (curr_options['Ask'] - curr_options['Bid']).mean() <= max_spread:\n",
    "        focus_names.append(ticker)\n",
    "    else:\n",
    "        continue\n",
    "        \n",
    "curr_earnings = curr_earnings[curr_earnings.index.isin(focus_names)]\n",
    "acs = curr_earnings[curr_earnings['Call Time'] == 'After Market Close']\n",
    "bcs = curr_earnings[curr_earnings['Call Time'] == 'Before Market Open']\n",
    "\n",
    "## Filtering Market Cap\n",
    "curr_table = pd.read_sql_query('SELECT * FROM overviews WHERE Underlying IN ' + str(tuple(curr_earnings.index)),\n",
    "                               con = reuters_engine, index_col = 'Underlying').drop_duplicates()\n",
    "curr_table = curr_table[curr_table['Market Cap(Mil.)'] > 500]\n",
    "curr_table['PullDate'] = pd.to_datetime(curr_table['PullDate'])\n",
    "curr_table = curr_table.sort_values('PullDate', ascending = False)[~curr_table.index.duplicated(keep='first')]\n",
    "\n",
    "selected_names = curr_table.index.tolist()\n",
    "\n",
    "### Filtering Option Spread\n",
    "\n",
    "if check_options:\n",
    "    options_dict = {}\n",
    "\n",
    "    for name in selected_names:\n",
    "\n",
    "        try:\n",
    "            curr_options = all_options(name,100,1,moneyness=0.1)\n",
    "            if len(curr_options) > 0 and (curr_options['Ask'] - curr_options['Bid']).mean() < 1:\n",
    "                options_dict[name] = curr_options\n",
    "        except:\n",
    "            None\n",
    "\n",
    "    selected_names = list(options_dict.keys())\n",
    "\n",
    "### Filtering IV vs HV\n",
    "vols_list = []\n",
    "\n",
    "for selected_name in selected_names:\n",
    "    curr_vol = historical_data(selected_name, dt.datetime(2018,1,1))[['daily_ann','intra_ann','ovrnt_ann']].tail(1)\n",
    "    curr_vol.index = [selected_name]\n",
    "    \n",
    "    aq = alphaquery(selected_name)\n",
    "    \n",
    "    curr_iv = aq.vol_df.loc[['Implied Volatility (Calls)', 'Implied Volatility (Puts)', \n",
    "                             'Put-Call Implied Volatility Ratio',\n",
    "                             'Implied Volatility Skew'],['20-Day']].T\n",
    "    curr_iv.index = [selected_name]\n",
    "    vols_list.append(curr_vol.join(curr_iv))\n",
    "    \n",
    "hv_df = pd.concat(vols_list,axis = 0)\n",
    "\n",
    "further_reduce = hv_df[(hv_df['intra_ann'] > hv_df['Implied Volatility (Calls)']) &\n",
    "                       (hv_df['intra_ann'] > hv_df['Implied Volatility (Puts)'])].dropna().sort_values('intra_ann')\n",
    "selected_names = further_reduce.index.tolist()\n",
    "\n",
    "## Getting Insider Trading Data\n",
    "insiderstxns_dict = {}\n",
    "\n",
    "for ticker in selected_names:\n",
    "    insider_trades = reuters_insiders(ticker)\n",
    "    try:\n",
    "        insider_trades['Trading Date'] = pd.to_datetime(insider_trades['Trading Date'])\n",
    "        insider_trades['Trading Date'] = insider_trades['Trading Date'].apply(aggregate_txns_date)\n",
    "        insiderstxns_dict[ticker] = insider_trades\n",
    "    except:\n",
    "        insidertxns_dict[ticker] = []\n",
    "\n",
    "insider_agg_lst = []\n",
    "\n",
    "txns_time = dt.date(2018,1,1)\n",
    "\n",
    "for ticker,txns in insiderstxns_dict.items():\n",
    "    try:\n",
    "        curr_insider_agg = txns[txns['Trading Date'] >= txns_time]\n",
    "        curr_insider_agg = curr_insider_agg.groupby(['Type']).agg({'Shares Traded': 'sum'}).T\n",
    "        curr_insider_agg.index = [ticker]\n",
    "    except:\n",
    "        continue\n",
    "    \n",
    "    insider_agg_lst.append(curr_insider_agg)\n",
    "    \n",
    "insider_agg = pd.concat(insider_agg_lst,axis = 0)\n",
    "insider_agg['BuyToSell'] = insider_agg['Buy']/insider_agg['Sell']\n",
    "\n",
    "further_reduce = further_reduce.join(insider_agg).join(curr_earnings[['Call Time',\n",
    "                                                                      'EarningsDate']], how = 'left').sort_values(['EarningsDate',\n",
    "                                                                                                                   'Call Time'],ascending = True)\n",
    "print(\"--- %s seconds ---\" % (time.time() - start_time))\n",
    "further_reduce"
   ]
  },
  {
   "cell_type": "code",
   "execution_count": null,
   "metadata": {
    "scrolled": true
   },
   "outputs": [],
   "source": [
    "# Querying Info from DBs\n",
    "os.chdir(dbs_dir)\n",
    "namesToExclude = []\n",
    "\n",
    "selected_names = further_reduce.index.tolist()\n",
    "\n",
    "selected_names = list(filter(lambda x: x not in namesToExclude, selected_names))\n",
    "\n",
    "earnings_query = 'SELECT * FROM postEarningsReturns WHERE Underlying IN ' + str(tuple(selected_names))\n",
    "\n",
    "earnings_info = pd.read_sql_query(earnings_query, con = earn_engine, index_col = 'Underlying')\n",
    "earnings_info['earningsDate'] = pd.to_datetime(earnings_info['earningsDate'])\n",
    "\n",
    "inspector = inspect(yahoo_engine)\n",
    "\n",
    "irrelevant_yahoo = ['insiderHolders', 'insiderTxns', 'institutionOwners','quarterlyEarnings','keyStats',\n",
    "                    'recommendationTrend','majorHolderInfo','purchaseActivity','insiderHolders']\n",
    "\n",
    "yahoo_info = {}\n",
    "for table in inspector.get_table_names():\n",
    "    \n",
    "    if table not in irrelevant_yahoo:\n",
    "        curr_table = pd.read_sql_query('SELECT * FROM {0} WHERE Underlying IN '.format(table) + str(tuple(selected_names)),\n",
    "                                       con = yahoo_engine, index_col = 'Underlying').drop_duplicates()\n",
    "        if 'year' in curr_table.columns.tolist():\n",
    "            if table != 'annualEarnings':\n",
    "                curr_table['year'] = pd.to_datetime(curr_table['year'])\n",
    "            curr_table = curr_table.sort_values('year')\n",
    "        elif 'quarter' in curr_table.columns.tolist():\n",
    "            curr_table['quarter'] = pd.to_datetime(curr_table['quarter'])\n",
    "            curr_table = curr_table.sort_values('quarter')\n",
    "        elif 'PullDate' in curr_table.columns.tolist():\n",
    "            curr_table['PullDate'] = pd.to_datetime(curr_table['PullDate'])\n",
    "        yahoo_info[table] = curr_table\n",
    "        \n",
    "inspector = inspect(reuters_engine)\n",
    "\n",
    "irrelevant_reuters = ['analystRecommendations', 'salesEstimates', 'earningsEstimates',\n",
    "                      'earningsRevisions','earningsTrend','insiderTxns', #'earningsSurprises',\n",
    "                      'institutionHoldings','recommendations','revenueRevisions',\n",
    "                      'salesSurprises','salesTrend']\n",
    "\n",
    "reuters_info = {}\n",
    "for table in inspector.get_table_names():\n",
    "    if table not in irrelevant_reuters:\n",
    "        curr_table = pd.read_sql_query('SELECT * FROM {0} WHERE Underlying IN '.format(table) + str(tuple(selected_names)),\n",
    "                                       con = reuters_engine, index_col = 'Underlying').drop_duplicates()\n",
    "        if 'PullDate' in curr_table.columns.tolist():\n",
    "            curr_table['PullDate'] = pd.to_datetime(curr_table['PullDate'])\n",
    "        if table == 'earningsSurprises':\n",
    "            curr_table['ReportDate'] = curr_table['ReportDate'].apply(lambda x: convertReportDate(x))\n",
    "        reuters_info[table] = curr_table\n",
    "        \n",
    "yahoo_profiles = []\n",
    "annual_fin = []\n",
    "quarterly_fin = []\n",
    "\n",
    "reuters_profiles = []\n",
    "reuters_fundamentals = {}\n",
    "\n",
    "for ticker in selected_names:\n",
    "    ticker_profile, annual_statements, quarterly_statements = yahoo_assess(yahoo_info, ticker)\n",
    "    yahoo_profiles.append(ticker_profile)\n",
    "    annual_fin.append(annual_statements)\n",
    "    quarterly_fin.append(quarterly_statements)\n",
    "    \n",
    "    reuters_overview, reuters_fund = reuters_assess(ticker, reuters_info)\n",
    "    reuters_profiles.append(reuters_overview)\n",
    "    reuters_fundamentals[ticker] = reuters_fund\n",
    "\n",
    "reuters_profiles = pd.concat(reuters_profiles, axis = 0)\n",
    "yahoo_profiles = pd.concat(yahoo_profiles, axis = 0)\n",
    "annual_fin = pd.concat(annual_fin, axis = 0)\n",
    "quarterly_fin = pd.concat(quarterly_fin, axis = 0)\n",
    "\n",
    "earnings_analysis = yahoo_profiles[~yahoo_profiles.index.duplicated(keep='first')].join(reuters_profiles)"
   ]
  },
  {
   "cell_type": "code",
   "execution_count": null,
   "metadata": {
    "scrolled": false
   },
   "outputs": [],
   "source": [
    "display_cols = ['EarningsDate','Call Time','daily_ann','intra_ann','Put-Call Implied Volatility Ratio',\n",
    "                'Implied Volatility (Calls)','Implied Volatility (Puts)',\n",
    "                'industry','sector','BuyToSell','TotalLongScore','TotalShortScore',\n",
    "                #'annualLongScore',\n",
    "                #'annualShortScore', 'quarterlyLongScore', 'quarterlyshortScore',\n",
    "                'LastPrice', 'High52Week', 'Low52Week', 'longScore', 'shortScore']\n",
    "\n",
    "display = earnings_analysis.join(further_reduce, how = 'left')\n",
    "display['TotalLongScore'] = display['annualLongScore'] + display['quarterlyLongScore'] + display['longScore']\n",
    "display['TotalShortScore'] = display['annualShortScore'] + display['quarterlyshortScore'] + display['shortScore']\n",
    "display[display_cols]"
   ]
  },
  {
   "cell_type": "code",
   "execution_count": null,
   "metadata": {
    "scrolled": true
   },
   "outputs": [],
   "source": [
    "ticker = 'LULU'\n",
    "\n",
    "reuters_fundamentals[ticker][reuters_fundamentals[ticker]['Company'].isnull() != True]"
   ]
  },
  {
   "cell_type": "code",
   "execution_count": null,
   "metadata": {
    "scrolled": true
   },
   "outputs": [],
   "source": [
    "quarterly_fin[quarterly_fin.index == ticker].T"
   ]
  },
  {
   "cell_type": "code",
   "execution_count": null,
   "metadata": {
    "scrolled": true
   },
   "outputs": [],
   "source": [
    "annual_fin[annual_fin.index == ticker].T"
   ]
  },
  {
   "cell_type": "code",
   "execution_count": null,
   "metadata": {
    "scrolled": true
   },
   "outputs": [],
   "source": []
  },
  {
   "cell_type": "code",
   "execution_count": null,
   "metadata": {
    "scrolled": false
   },
   "outputs": [],
   "source": [
    "aq = alphaquery(ticker)\n",
    "print(aq.vol_df.iloc[:7,:3])\n",
    "try:\n",
    "    latest_earnings_report = earnings_report(ticker)\n",
    "    print(latest_earnings_report[~latest_earnings_report.index.duplicated(keep='first')])\n",
    "except:\n",
    "    None\n",
    "earningsAnalysis = pd.read_sql_query('SELECT * FROM earningsSurprises WHERE Underlying = \"{0}\" '.format(ticker),\n",
    "                                     con = reuters_engine, index_col = 'Underlying').drop_duplicates()\n",
    "print(earningsAnalysis)\n",
    "\n",
    "select_trades = insiderstxns_dict[ticker].groupby(['Trading Date','Title',\n",
    "                                                   'Type']).agg({'Underlying':'count',\n",
    "                                                                 'Shares Traded': 'sum'}).reset_index()\n",
    "curr_overviews = reuters_info['overviews'][~reuters_info['overviews'].index.duplicated(keep='first')]\n",
    "select_trades['Percent of Float'] = 100*select_trades['Shares Traded']/(curr_overviews.loc[ticker,'Shares Outstanding(Mil.)']*10**6)\n",
    "select_trades.groupby(['Trading Date','Title',\n",
    "                       'Type']).agg({'Underlying':'count',\n",
    "                                     'Shares Traded': 'sum',\n",
    "                                     'Percent of Float': 'sum'})"
   ]
  },
  {
   "cell_type": "code",
   "execution_count": null,
   "metadata": {},
   "outputs": [],
   "source": [
    "trades = select_trades.groupby(['Trading Date','Type']).agg({'Shares Traded': 'sum'}).reset_index()\n",
    "trades[trades['Trading Date'] >= dt.datetime(2018,1,1).date()]"
   ]
  },
  {
   "cell_type": "code",
   "execution_count": null,
   "metadata": {
    "collapsed": true
   },
   "outputs": [],
   "source": []
  },
  {
   "cell_type": "code",
   "execution_count": null,
   "metadata": {
    "scrolled": true
   },
   "outputs": [],
   "source": []
  },
  {
   "cell_type": "code",
   "execution_count": null,
   "metadata": {
    "collapsed": true
   },
   "outputs": [],
   "source": []
  },
  {
   "cell_type": "code",
   "execution_count": null,
   "metadata": {
    "collapsed": true,
    "scrolled": true
   },
   "outputs": [],
   "source": []
  },
  {
   "cell_type": "code",
   "execution_count": null,
   "metadata": {
    "collapsed": true,
    "scrolled": true
   },
   "outputs": [],
   "source": []
  },
  {
   "cell_type": "code",
   "execution_count": null,
   "metadata": {
    "collapsed": true
   },
   "outputs": [],
   "source": []
  },
  {
   "cell_type": "code",
   "execution_count": null,
   "metadata": {
    "scrolled": false
   },
   "outputs": [],
   "source": []
  },
  {
   "cell_type": "code",
   "execution_count": null,
   "metadata": {
    "collapsed": true
   },
   "outputs": [],
   "source": []
  },
  {
   "cell_type": "code",
   "execution_count": null,
   "metadata": {
    "scrolled": true
   },
   "outputs": [],
   "source": []
  },
  {
   "cell_type": "code",
   "execution_count": null,
   "metadata": {
    "scrolled": true
   },
   "outputs": [],
   "source": []
  },
  {
   "cell_type": "code",
   "execution_count": null,
   "metadata": {},
   "outputs": [],
   "source": []
  },
  {
   "cell_type": "code",
   "execution_count": null,
   "metadata": {
    "collapsed": true
   },
   "outputs": [],
   "source": []
  },
  {
   "cell_type": "code",
   "execution_count": null,
   "metadata": {
    "collapsed": true,
    "scrolled": true
   },
   "outputs": [],
   "source": []
  },
  {
   "cell_type": "code",
   "execution_count": null,
   "metadata": {
    "scrolled": true
   },
   "outputs": [],
   "source": []
  },
  {
   "cell_type": "code",
   "execution_count": null,
   "metadata": {
    "collapsed": true
   },
   "outputs": [],
   "source": []
  },
  {
   "cell_type": "code",
   "execution_count": null,
   "metadata": {
    "scrolled": true
   },
   "outputs": [],
   "source": []
  },
  {
   "cell_type": "code",
   "execution_count": null,
   "metadata": {
    "scrolled": false
   },
   "outputs": [],
   "source": []
  },
  {
   "cell_type": "code",
   "execution_count": null,
   "metadata": {
    "collapsed": true
   },
   "outputs": [],
   "source": []
  },
  {
   "cell_type": "code",
   "execution_count": null,
   "metadata": {
    "collapsed": true
   },
   "outputs": [],
   "source": [
    "# Writing to Excel\n",
    "os.chdir('C:\\\\Users\\\\Fang\\\\Desktop\\\\Python Trading\\\\Trading\\\\Data\\\\Historical Queries\\\\Earnings')\n",
    "datenow = dt.datetime.today().strftime('%Y-%m-%d')\n",
    "writer = pd.ExcelWriter('earnings-{}.xlsx'.format(datenow), engine='xlsxwriter')\n",
    "\n",
    "# Write each dataframe to a different worksheet.\n",
    "further_reduce.join(earnings_analysis).to_excel(writer, sheet_name='Summary')\n",
    "\n",
    "        \n",
    "# Close the Pandas Excel writer and output the Excel file.\n",
    "writer.save()\n",
    "os.chdir(main_dir)\n",
    "writer.save()"
   ]
  },
  {
   "cell_type": "markdown",
   "metadata": {},
   "source": [
    "## Barbell Hedging"
   ]
  },
  {
   "cell_type": "code",
   "execution_count": null,
   "metadata": {
    "collapsed": true
   },
   "outputs": [],
   "source": [
    "# ratios = spx_put_backratios(50, 1, 0.2, 2, 25)"
   ]
  },
  {
   "cell_type": "code",
   "execution_count": null,
   "metadata": {
    "collapsed": true
   },
   "outputs": [],
   "source": [
    "# ratios"
   ]
  },
  {
   "cell_type": "code",
   "execution_count": null,
   "metadata": {
    "collapsed": true
   },
   "outputs": [],
   "source": [
    "# spx_options = all_greeks(all_options('^SPX',50,1,0.2))\n",
    "# spx_options = spx_options[(spx_options['Type'] == 'put') &\n",
    "#                           (spx_options['Strike'] < spx_options['Underlying_Price'])]"
   ]
  },
  {
   "cell_type": "code",
   "execution_count": null,
   "metadata": {
    "collapsed": true
   },
   "outputs": [],
   "source": [
    "# spx_options[(spx_options['DTE'] == 7) &\n",
    "#             (spx_options['Strike'] == 2390.0)]"
   ]
  },
  {
   "cell_type": "code",
   "execution_count": null,
   "metadata": {
    "collapsed": true
   },
   "outputs": [],
   "source": []
  },
  {
   "cell_type": "code",
   "execution_count": null,
   "metadata": {
    "collapsed": true
   },
   "outputs": [],
   "source": []
  },
  {
   "cell_type": "code",
   "execution_count": null,
   "metadata": {
    "collapsed": true
   },
   "outputs": [],
   "source": []
  },
  {
   "cell_type": "code",
   "execution_count": null,
   "metadata": {
    "collapsed": true
   },
   "outputs": [],
   "source": []
  },
  {
   "cell_type": "code",
   "execution_count": null,
   "metadata": {
    "collapsed": true
   },
   "outputs": [],
   "source": []
  },
  {
   "cell_type": "code",
   "execution_count": null,
   "metadata": {
    "collapsed": true
   },
   "outputs": [],
   "source": []
  },
  {
   "cell_type": "code",
   "execution_count": null,
   "metadata": {
    "collapsed": true
   },
   "outputs": [],
   "source": []
  },
  {
   "cell_type": "code",
   "execution_count": null,
   "metadata": {
    "collapsed": true
   },
   "outputs": [],
   "source": []
  },
  {
   "cell_type": "code",
   "execution_count": null,
   "metadata": {
    "collapsed": true
   },
   "outputs": [],
   "source": [
    "# ticker = 'FSNR'\n",
    "# aq_url = 'https://www.alphaquery.com/stock/{}/earnings-history'.format(ticker)\n",
    "# s = req.session()\n",
    "\n",
    "# curr_aq = bs(s.get(aq_url).text, 'lxml')\n",
    "\n",
    "# s.cookies.clear()"
   ]
  },
  {
   "cell_type": "code",
   "execution_count": null,
   "metadata": {},
   "outputs": [],
   "source": [
    "# curr_earnings_table = curr_aq.select_one('table')\n",
    "\n",
    "# for row in curr_earnings_table.find_all('tr'):\n",
    "#     print(row)\n",
    "#     break"
   ]
  },
  {
   "cell_type": "code",
   "execution_count": null,
   "metadata": {
    "collapsed": true
   },
   "outputs": [],
   "source": []
  },
  {
   "cell_type": "code",
   "execution_count": null,
   "metadata": {
    "collapsed": true
   },
   "outputs": [],
   "source": []
  },
  {
   "cell_type": "code",
   "execution_count": null,
   "metadata": {
    "collapsed": true
   },
   "outputs": [],
   "source": []
  },
  {
   "cell_type": "code",
   "execution_count": null,
   "metadata": {},
   "outputs": [],
   "source": [
    "ticker = 'DOCU'\n",
    "\n",
    "modules = '%2C'.join(['assetProfile','incomeStatementHistory', 'balanceSheetHistoryQuarterly',\n",
    "                              'balanceSheetHistory','cashflowStatementHistory', 'cashflowStatementHistoryQuarterly',\n",
    "                              'defaultKeyStatistics','financialData','incomeStatementHistoryQuarterly',\n",
    "                              'calendarEvents','secFilings', 'recommendationTrend', 'institutionOwnership',\n",
    "                              'fundOwnership', 'majorDirectHolders', 'majorHoldersBreakdown',\n",
    "                              'insiderTransactions', 'insiderHolders', 'netSharePurchaseActivity',\n",
    "                              'earnings', 'earningsHistory', 'earningsTrend', 'industryTrend', 'indexTrend',\n",
    "                              'sectorTrend'])\n",
    "full_info_url = 'https://query1.finance.yahoo.com/v10/finance/quoteSummary/{0}?modules={1}'.format(ticker, modules)"
   ]
  },
  {
   "cell_type": "code",
   "execution_count": null,
   "metadata": {},
   "outputs": [],
   "source": [
    "full_info_url"
   ]
  },
  {
   "cell_type": "code",
   "execution_count": null,
   "metadata": {},
   "outputs": [],
   "source": []
  },
  {
   "cell_type": "code",
   "execution_count": null,
   "metadata": {},
   "outputs": [],
   "source": []
  },
  {
   "cell_type": "code",
   "execution_count": null,
   "metadata": {
    "collapsed": true
   },
   "outputs": [],
   "source": []
  },
  {
   "cell_type": "code",
   "execution_count": null,
   "metadata": {
    "collapsed": true
   },
   "outputs": [],
   "source": []
  },
  {
   "cell_type": "code",
   "execution_count": null,
   "metadata": {
    "collapsed": true
   },
   "outputs": [],
   "source": []
  },
  {
   "cell_type": "code",
   "execution_count": null,
   "metadata": {
    "collapsed": true
   },
   "outputs": [],
   "source": []
  },
  {
   "cell_type": "code",
   "execution_count": null,
   "metadata": {
    "collapsed": true
   },
   "outputs": [],
   "source": []
  },
  {
   "cell_type": "code",
   "execution_count": null,
   "metadata": {
    "collapsed": true
   },
   "outputs": [],
   "source": []
  },
  {
   "cell_type": "code",
   "execution_count": null,
   "metadata": {
    "collapsed": true
   },
   "outputs": [],
   "source": []
  },
  {
   "cell_type": "code",
   "execution_count": null,
   "metadata": {
    "collapsed": true
   },
   "outputs": [],
   "source": []
  },
  {
   "cell_type": "code",
   "execution_count": null,
   "metadata": {
    "collapsed": true
   },
   "outputs": [],
   "source": []
  },
  {
   "cell_type": "code",
   "execution_count": null,
   "metadata": {
    "collapsed": true
   },
   "outputs": [],
   "source": []
  },
  {
   "cell_type": "code",
   "execution_count": null,
   "metadata": {
    "collapsed": true
   },
   "outputs": [],
   "source": []
  },
  {
   "cell_type": "code",
   "execution_count": null,
   "metadata": {
    "collapsed": true
   },
   "outputs": [],
   "source": []
  },
  {
   "cell_type": "code",
   "execution_count": null,
   "metadata": {
    "collapsed": true
   },
   "outputs": [],
   "source": []
  },
  {
   "cell_type": "code",
   "execution_count": null,
   "metadata": {
    "collapsed": true
   },
   "outputs": [],
   "source": []
  },
  {
   "cell_type": "code",
   "execution_count": null,
   "metadata": {
    "collapsed": true
   },
   "outputs": [],
   "source": []
  },
  {
   "cell_type": "code",
   "execution_count": null,
   "metadata": {
    "collapsed": true
   },
   "outputs": [],
   "source": []
  },
  {
   "cell_type": "code",
   "execution_count": null,
   "metadata": {
    "collapsed": true
   },
   "outputs": [],
   "source": []
  },
  {
   "cell_type": "code",
   "execution_count": null,
   "metadata": {
    "collapsed": true
   },
   "outputs": [],
   "source": []
  },
  {
   "cell_type": "code",
   "execution_count": null,
   "metadata": {
    "collapsed": true
   },
   "outputs": [],
   "source": []
  },
  {
   "cell_type": "code",
   "execution_count": null,
   "metadata": {
    "collapsed": true
   },
   "outputs": [],
   "source": []
  },
  {
   "cell_type": "code",
   "execution_count": null,
   "metadata": {
    "collapsed": true
   },
   "outputs": [],
   "source": []
  }
 ],
 "metadata": {
  "kernelspec": {
   "display_name": "Python 3",
   "language": "python",
   "name": "python3"
  },
  "language_info": {
   "codemirror_mode": {
    "name": "ipython",
    "version": 3
   },
   "file_extension": ".py",
   "mimetype": "text/x-python",
   "name": "python",
   "nbconvert_exporter": "python",
   "pygments_lexer": "ipython3",
   "version": "3.6.1"
  }
 },
 "nbformat": 4,
 "nbformat_minor": 2
}
