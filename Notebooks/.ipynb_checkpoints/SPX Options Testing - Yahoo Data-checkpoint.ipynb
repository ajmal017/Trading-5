{
 "cells": [
  {
   "cell_type": "code",
   "execution_count": 77,
   "metadata": {
    "collapsed": true
   },
   "outputs": [],
   "source": [
    "import warnings\n",
    "warnings.filterwarnings('ignore')\n",
    "import os\n",
    "import numpy as np\n",
    "import pandas as pd\n",
    "import datetime as dt\n",
    "import time\n",
    "pd.options.display.float_format = '{:,.4f}'.format\n",
    "%matplotlib inline"
   ]
  },
  {
   "cell_type": "code",
   "execution_count": 12,
   "metadata": {
    "collapsed": true
   },
   "outputs": [],
   "source": [
    "os.chdir('D:\\Options Data\\SPX')\n",
    "spx_options_files = os.listdir()\n",
    "spx_file_dates = list(map(lambda x: dt.datetime.strptime(x.split('spx_')[-1].strip('.csv'), '%Y-%m-%d-%H-%M'), \n",
    "                          spx_options_files))"
   ]
  },
  {
   "cell_type": "code",
   "execution_count": 17,
   "metadata": {},
   "outputs": [],
   "source": [
    "files_df = pd.DataFrame(list(zip(spx_file_dates,spx_options_files))).rename(columns = {0:'datetime',\n",
    "                                                                                       1: 'file'})"
   ]
  },
  {
   "cell_type": "code",
   "execution_count": 45,
   "metadata": {},
   "outputs": [],
   "source": [
    "puts = pd.DataFrame()\n",
    "\n",
    "for i, row in files_df[(files_df.datetime > dt.datetime(2018,10,8)) &\n",
    "                       (files_df.datetime < dt.datetime(2019,1,1))].iterrows():\n",
    "    curr_puts = pd.read_csv(row.file, index_col = 0, parse_dates = ['Expiry','Quote_Time', 'Last_Trade_Date'])\n",
    "    curr_puts = curr_puts[(curr_puts.Expiry > dt.datetime(2018,11,20)) &\n",
    "                          (curr_puts.Type == 'put') &\n",
    "                          (curr_puts.Strike < 2800)]\n",
    "    curr_puts.Quote_Time = row.datetime\n",
    "    curr_puts['Mid'] = (curr_puts.Bid + curr_puts.Ask)/2\n",
    "    curr_puts[['Strike','Expiry','Symbol','Mid','IV','Underlying_Price','Quote_Time']]\n",
    "    puts = puts.append(curr_puts)"
   ]
  },
  {
   "cell_type": "code",
   "execution_count": 51,
   "metadata": {
    "scrolled": true
   },
   "outputs": [],
   "source": [
    "puts['Quote_Date'] = puts.Quote_Time.dt.date"
   ]
  },
  {
   "cell_type": "code",
   "execution_count": 56,
   "metadata": {},
   "outputs": [
    {
     "data": {
      "text/html": [
       "<div>\n",
       "<style>\n",
       "    .dataframe thead tr:only-child th {\n",
       "        text-align: right;\n",
       "    }\n",
       "\n",
       "    .dataframe thead th {\n",
       "        text-align: left;\n",
       "    }\n",
       "\n",
       "    .dataframe tbody tr th {\n",
       "        vertical-align: top;\n",
       "    }\n",
       "</style>\n",
       "<table border=\"1\" class=\"dataframe\">\n",
       "  <thead>\n",
       "    <tr style=\"text-align: right;\">\n",
       "      <th></th>\n",
       "      <th>Quote_Date</th>\n",
       "      <th>Symbol</th>\n",
       "      <th>Quote_Time</th>\n",
       "    </tr>\n",
       "  </thead>\n",
       "  <tbody>\n",
       "    <tr>\n",
       "      <th>0</th>\n",
       "      <td>2018-10-08</td>\n",
       "      <td>SPX181221P00100000</td>\n",
       "      <td>82</td>\n",
       "    </tr>\n",
       "    <tr>\n",
       "      <th>1</th>\n",
       "      <td>2018-10-08</td>\n",
       "      <td>SPX181221P00250000</td>\n",
       "      <td>82</td>\n",
       "    </tr>\n",
       "    <tr>\n",
       "      <th>2</th>\n",
       "      <td>2018-10-08</td>\n",
       "      <td>SPX181221P00300000</td>\n",
       "      <td>82</td>\n",
       "    </tr>\n",
       "    <tr>\n",
       "      <th>3</th>\n",
       "      <td>2018-10-08</td>\n",
       "      <td>SPX181221P00500000</td>\n",
       "      <td>82</td>\n",
       "    </tr>\n",
       "    <tr>\n",
       "      <th>4</th>\n",
       "      <td>2018-10-08</td>\n",
       "      <td>SPX181221P00650000</td>\n",
       "      <td>82</td>\n",
       "    </tr>\n",
       "  </tbody>\n",
       "</table>\n",
       "</div>"
      ],
      "text/plain": [
       "   Quote_Date              Symbol  Quote_Time\n",
       "0  2018-10-08  SPX181221P00100000          82\n",
       "1  2018-10-08  SPX181221P00250000          82\n",
       "2  2018-10-08  SPX181221P00300000          82\n",
       "3  2018-10-08  SPX181221P00500000          82\n",
       "4  2018-10-08  SPX181221P00650000          82"
      ]
     },
     "execution_count": 56,
     "metadata": {},
     "output_type": "execute_result"
    }
   ],
   "source": [
    "check_symbols = puts.groupby(['Quote_Date','Symbol']).agg({'Quote_Time':'count'}).reset_index()\n",
    "check_symbols.head()"
   ]
  },
  {
   "cell_type": "code",
   "execution_count": 67,
   "metadata": {
    "scrolled": true
   },
   "outputs": [],
   "source": [
    "symbols = check_symbols.groupby('Symbol').agg({'Quote_Date':'count'})\n"
   ]
  },
  {
   "cell_type": "code",
   "execution_count": 69,
   "metadata": {},
   "outputs": [],
   "source": [
    "puts = puts[puts.Symbol.isin(symbols[symbols.Quote_Date > 53].sort_values('Quote_Date').index)]"
   ]
  },
  {
   "cell_type": "code",
   "execution_count": null,
   "metadata": {},
   "outputs": [],
   "source": []
  },
  {
   "cell_type": "code",
   "execution_count": null,
   "metadata": {
    "collapsed": true
   },
   "outputs": [],
   "source": []
  }
 ],
 "metadata": {
  "kernelspec": {
   "display_name": "Python 3",
   "language": "python",
   "name": "python3"
  },
  "language_info": {
   "codemirror_mode": {
    "name": "ipython",
    "version": 3
   },
   "file_extension": ".py",
   "mimetype": "text/x-python",
   "name": "python",
   "nbconvert_exporter": "python",
   "pygments_lexer": "ipython3",
   "version": "3.6.8"
  }
 },
 "nbformat": 4,
 "nbformat_minor": 2
}
