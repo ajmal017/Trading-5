{
 "cells": [
  {
   "cell_type": "markdown",
   "metadata": {},
   "source": [
    "# Portfolio Methodolgy\n",
    "\n",
    "1. DGI - Rebalance every 6 months picking around 10 - 30 names from CA and US universe\n",
    "    - Add names slowly, 2-3 names a month\n",
    "    - GTC Stop Limit of 3% on each name\n",
    "2. VAA/PAA - Rebalance every month on trading day 1\n",
    "3. LEAPS - Rebalance every 3 months picking around 3 - 8 names from US universe (high growth potential names)\n",
    "    - Current Holdings: MU AMD MSFT TTWO\n",
    "    - AMD Earnings: Oct 22\n",
    "    - MSFT Earnings: Oct 24\n",
    "    - TTWO Earnings: Nov 5\n",
    "    - MU Earnings: Dec 17\n",
    "4. Short Vol - Short SPX Spreads at the beginning of the month and hold until second or last week to maturity\n",
    "    - Potentially long UVXY/VXX puts at beginning of the month with bracket orders\n",
    "5. Barbell Hedging\n",
    "    - Long SPX puts or VIX calls during high crisis potential moments\n",
    "        - Initiate bracket orders with SPX Puts: +/- 30% of Cost Basis\n",
    "    - Check VIX Futures volume trends and see impact of Feb 5, 2018\n",
    "    - Only trade 4 naked SPX puts in Reg accounts\n",
    "        - Sell half into profits/losses \n",
    "    - Only trade 6 3:1 Put back ratios in Reg Account: Leg into these positions because of how illiquid the market is\n",
    "    - Take losses immediately (10% - 30% of Cost Basis)\n",
    "    - NEVER EVER try to put on a position of the market is illiquid: YOU WILL get filled at horrible prices\n",
    "    - **Put on 1-5 Delta strangles on the open of the day and close position at the end of the day around 2 pm to 3 pm**\n",
    "6. Treasuries - Re-establish monthly bills beginning of month or at maturity\n",
    "\n",
    "##### Strategy Weights\n",
    "|Strategy|Weight|Last Rebal|Next Check|Next Full Rebal|\n",
    "|-|-|-|-|-|\n",
    "|DGI|15%|10/01/2018|11/01/2018|1/2/2019|\n",
    "|VAA/PAA|15%|10/01/2018|11/01/2018|11/01/2018|\n",
    "|LEAPs|1.5%|10/4/2018|10/22/2018|12/1/2018|\n",
    "|Short Vol|2%|10/4/2018|10/5/2018|10/12/2018|\n",
    "|Barbell Hedging|1.5%||||\n",
    "|Treasuries|60%|10/4/2018|10/24/2018|10/5/2018|"
   ]
  },
  {
   "cell_type": "code",
   "execution_count": 2,
   "metadata": {},
   "outputs": [
    {
     "data": {
      "text/html": [
       "<script>requirejs.config({paths: { 'plotly': ['https://cdn.plot.ly/plotly-latest.min']},});if(!window.Plotly) {{require(['plotly'],function(plotly) {window.Plotly=plotly;});}}</script>"
      ],
      "text/vnd.plotly.v1+html": [
       "<script>requirejs.config({paths: { 'plotly': ['https://cdn.plot.ly/plotly-latest.min']},});if(!window.Plotly) {{require(['plotly'],function(plotly) {window.Plotly=plotly;});}}</script>"
      ]
     },
     "metadata": {},
     "output_type": "display_data"
    }
   ],
   "source": [
    "# Importing necessary models\n",
    "import smtplib\n",
    "import pandas as pd\n",
    "import numpy as np\n",
    "import datetime as dt\n",
    "import pandas.stats.moments as st\n",
    "import time\n",
    "%matplotlib inline\n",
    "import plotly.plotly as py\n",
    "import plotly.graph_objs as go\n",
    "from plotly.offline import download_plotlyjs, init_notebook_mode, plot, iplot\n",
    "\n",
    "init_notebook_mode(connected=True)\n",
    "\n",
    "import os\n",
    "main_dir = os.getcwd()\n",
    "\n",
    "os.chdir('C:\\\\Users\\\\Fang\\\\Desktop\\\\Python Trading\\\\Trading\\\\Trading\\\\Modules\\\\DataCollection')\n",
    "\n",
    "from alphavantage import *\n",
    "from yahoo_query import *\n",
    "from option_slam_earnings import *\n",
    "\n",
    "os.chdir('C:\\\\Users\\\\Fang\\\\Desktop\\\\Python Trading\\\\Trading\\\\Trading\\\\Modules\\\\Options')\n",
    "from optionsFunctions import *\n",
    "\n",
    "os.chdir('C:\\\\Users\\\\Fang\\\\Desktop\\\\Python Trading\\\\Trading\\\\Trading\\\\Modules\\\\Earnings')\n",
    "from yahoo_earnings import *\n",
    "\n",
    "os.chdir(main_dir)"
   ]
  },
  {
   "cell_type": "markdown",
   "metadata": {},
   "source": [
    "# Allocate Smartly Checking"
   ]
  },
  {
   "cell_type": "code",
   "execution_count": null,
   "metadata": {},
   "outputs": [],
   "source": [
    "# Short Call Assignment Price - 287.5\n",
    "\n",
    "portfolio_value =  200000\n",
    "\n",
    "as_lst = ['DBC',\n",
    "        'HYG',\n",
    "        'IEF',\n",
    "        'IWM',\n",
    "        'LQD',\n",
    "        'QQQ',\n",
    "        'SPY',\n",
    "        'VNQ']\n",
    "as_wgt = [0.014,\n",
    "        0.014,\n",
    "        0.417,\n",
    "        0.014,\n",
    "        0.500,\n",
    "        0.014,\n",
    "        0.014,\n",
    "        0.014]\n",
    "\n",
    "as_df = pd.DataFrame({'Allocation': as_wgt}, index = as_lst)\n",
    "curr_spot = curr_batch_quotes(as_lst)\n",
    "as_df = pd.concat([as_df,curr_spot[['price']]], axis = 1)\n",
    "\n",
    "as_df['Market Value'] = portfolio_value*as_df.Allocation\n",
    "as_df['Holdings'] = np.round(as_df['Market Value']/as_df.price,0)\n",
    "\n",
    "as_df"
   ]
  },
  {
   "cell_type": "markdown",
   "metadata": {},
   "source": [
    "## Checking market correlations"
   ]
  },
  {
   "cell_type": "code",
   "execution_count": null,
   "metadata": {},
   "outputs": [],
   "source": [
    "rolling_window = 60\n",
    "plot_window = 10000\n",
    "\n",
    "corr_df = check_mkt_corr(rolling_window, plot_window)\n",
    "print(corr_df.tail())"
   ]
  },
  {
   "cell_type": "markdown",
   "metadata": {},
   "source": [
    "## Earnings"
   ]
  },
  {
   "cell_type": "code",
   "execution_count": 3,
   "metadata": {},
   "outputs": [],
   "source": [
    "earnings_df = date_earnings('2018-10-18')"
   ]
  },
  {
   "cell_type": "code",
   "execution_count": 5,
   "metadata": {},
   "outputs": [
    {
     "data": {
      "text/html": [
       "<div>\n",
       "<style>\n",
       "    .dataframe thead tr:only-child th {\n",
       "        text-align: right;\n",
       "    }\n",
       "\n",
       "    .dataframe thead th {\n",
       "        text-align: left;\n",
       "    }\n",
       "\n",
       "    .dataframe tbody tr th {\n",
       "        vertical-align: top;\n",
       "    }\n",
       "</style>\n",
       "<table border=\"1\" class=\"dataframe\">\n",
       "  <thead>\n",
       "    <tr style=\"text-align: right;\">\n",
       "      <th></th>\n",
       "      <th>Call Time</th>\n",
       "      <th>EPS Estimate</th>\n",
       "      <th>Name</th>\n",
       "    </tr>\n",
       "  </thead>\n",
       "  <tbody>\n",
       "    <tr>\n",
       "      <th>WDFC</th>\n",
       "      <td>After Market Close</td>\n",
       "      <td>0.99</td>\n",
       "      <td>WD-40 Co</td>\n",
       "    </tr>\n",
       "    <tr>\n",
       "      <th>TEAM</th>\n",
       "      <td>After Market Close</td>\n",
       "      <td>-</td>\n",
       "      <td>Atlassian Corp PLC</td>\n",
       "    </tr>\n",
       "    <tr>\n",
       "      <th>WAL</th>\n",
       "      <td>After Market Close</td>\n",
       "      <td>1.03</td>\n",
       "      <td>Western Alliance Bancorp</td>\n",
       "    </tr>\n",
       "    <tr>\n",
       "      <th>AXP</th>\n",
       "      <td>After Market Close</td>\n",
       "      <td>1.76</td>\n",
       "      <td>American Express Co</td>\n",
       "    </tr>\n",
       "    <tr>\n",
       "      <th>ASB</th>\n",
       "      <td>After Market Close</td>\n",
       "      <td>0.49</td>\n",
       "      <td>Associated Banc-Corp</td>\n",
       "    </tr>\n",
       "    <tr>\n",
       "      <th>OZK</th>\n",
       "      <td>After Market Close</td>\n",
       "      <td>0.9</td>\n",
       "      <td>Bank Ozk</td>\n",
       "    </tr>\n",
       "    <tr>\n",
       "      <th>FFBC</th>\n",
       "      <td>After Market Close</td>\n",
       "      <td>0.57</td>\n",
       "      <td>First Financial Bancorp</td>\n",
       "    </tr>\n",
       "    <tr>\n",
       "      <th>INDB</th>\n",
       "      <td>After Market Close</td>\n",
       "      <td>1.2</td>\n",
       "      <td>Independent Bank Corp</td>\n",
       "    </tr>\n",
       "    <tr>\n",
       "      <th>GBCI</th>\n",
       "      <td>After Market Close</td>\n",
       "      <td>0.6</td>\n",
       "      <td>Glacier Bancorp Inc</td>\n",
       "    </tr>\n",
       "    <tr>\n",
       "      <th>ETFC</th>\n",
       "      <td>After Market Close</td>\n",
       "      <td>0.82</td>\n",
       "      <td>E*TRADE Financial Corp</td>\n",
       "    </tr>\n",
       "    <tr>\n",
       "      <th>ENFC</th>\n",
       "      <td>After Market Close</td>\n",
       "      <td>0.56</td>\n",
       "      <td>Entegra Financial Corp</td>\n",
       "    </tr>\n",
       "    <tr>\n",
       "      <th>CE</th>\n",
       "      <td>After Market Close</td>\n",
       "      <td>2.74</td>\n",
       "      <td>Celanese Corp</td>\n",
       "    </tr>\n",
       "    <tr>\n",
       "      <th>EGP</th>\n",
       "      <td>After Market Close</td>\n",
       "      <td>0.5</td>\n",
       "      <td>Eastgroup Properties Inc</td>\n",
       "    </tr>\n",
       "    <tr>\n",
       "      <th>EXPO</th>\n",
       "      <td>After Market Close</td>\n",
       "      <td>0.29</td>\n",
       "      <td>Exponent Inc</td>\n",
       "    </tr>\n",
       "    <tr>\n",
       "      <th>WERN</th>\n",
       "      <td>After Market Close</td>\n",
       "      <td>0.6</td>\n",
       "      <td>Werner Enterprises Inc</td>\n",
       "    </tr>\n",
       "    <tr>\n",
       "      <th>PBCT</th>\n",
       "      <td>After Market Close</td>\n",
       "      <td>0.33</td>\n",
       "      <td>People's United Financial Inc</td>\n",
       "    </tr>\n",
       "    <tr>\n",
       "      <th>ISRG</th>\n",
       "      <td>After Market Close</td>\n",
       "      <td>2.66</td>\n",
       "      <td>Intuitive Surgical Inc</td>\n",
       "    </tr>\n",
       "    <tr>\n",
       "      <th>SKX</th>\n",
       "      <td>After Market Close</td>\n",
       "      <td>0.51</td>\n",
       "      <td>Skechers USA Inc</td>\n",
       "    </tr>\n",
       "    <tr>\n",
       "      <th>PZN</th>\n",
       "      <td>After Market Close</td>\n",
       "      <td>0.2</td>\n",
       "      <td>Pzena Investment Management Inc</td>\n",
       "    </tr>\n",
       "  </tbody>\n",
       "</table>\n",
       "</div>"
      ],
      "text/plain": [
       "               Call Time EPS Estimate                             Name\n",
       "WDFC  After Market Close         0.99                         WD-40 Co\n",
       "TEAM  After Market Close            -               Atlassian Corp PLC\n",
       "WAL   After Market Close         1.03         Western Alliance Bancorp\n",
       "AXP   After Market Close         1.76              American Express Co\n",
       "ASB   After Market Close         0.49             Associated Banc-Corp\n",
       "OZK   After Market Close          0.9                         Bank Ozk\n",
       "FFBC  After Market Close         0.57          First Financial Bancorp\n",
       "INDB  After Market Close          1.2            Independent Bank Corp\n",
       "GBCI  After Market Close          0.6              Glacier Bancorp Inc\n",
       "ETFC  After Market Close         0.82           E*TRADE Financial Corp\n",
       "ENFC  After Market Close         0.56           Entegra Financial Corp\n",
       "CE    After Market Close         2.74                    Celanese Corp\n",
       "EGP   After Market Close          0.5         Eastgroup Properties Inc\n",
       "EXPO  After Market Close         0.29                     Exponent Inc\n",
       "WERN  After Market Close          0.6           Werner Enterprises Inc\n",
       "PBCT  After Market Close         0.33    People's United Financial Inc\n",
       "ISRG  After Market Close         2.66           Intuitive Surgical Inc\n",
       "SKX   After Market Close         0.51                 Skechers USA Inc\n",
       "PZN   After Market Close          0.2  Pzena Investment Management Inc"
      ]
     },
     "execution_count": 5,
     "metadata": {},
     "output_type": "execute_result"
    }
   ],
   "source": [
    "earnings_df[earnings_df['Call Time'] == 'After Market Close']"
   ]
  },
  {
   "cell_type": "code",
   "execution_count": null,
   "metadata": {
    "collapsed": true
   },
   "outputs": [],
   "source": [
    "earnings_report(\"WDFC\")"
   ]
  },
  {
   "cell_type": "markdown",
   "metadata": {},
   "source": [
    "## Barbell Hedging"
   ]
  },
  {
   "cell_type": "code",
   "execution_count": null,
   "metadata": {},
   "outputs": [],
   "source": [
    "ratios = spx_put_backratios(50, 5, 0.05, 2, 50)"
   ]
  },
  {
   "cell_type": "code",
   "execution_count": null,
   "metadata": {},
   "outputs": [],
   "source": [
    "ratios[(ratios.DTE == 7)]"
   ]
  },
  {
   "cell_type": "code",
   "execution_count": null,
   "metadata": {},
   "outputs": [],
   "source": []
  },
  {
   "cell_type": "code",
   "execution_count": null,
   "metadata": {
    "collapsed": true
   },
   "outputs": [],
   "source": []
  }
 ],
 "metadata": {
  "kernelspec": {
   "display_name": "Python 3",
   "language": "python",
   "name": "python3"
  },
  "language_info": {
   "codemirror_mode": {
    "name": "ipython",
    "version": 3
   },
   "file_extension": ".py",
   "mimetype": "text/x-python",
   "name": "python",
   "nbconvert_exporter": "python",
   "pygments_lexer": "ipython3",
   "version": "3.6.1"
  }
 },
 "nbformat": 4,
 "nbformat_minor": 2
}
