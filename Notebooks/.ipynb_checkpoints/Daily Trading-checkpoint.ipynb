{
 "cells": [
  {
   "cell_type": "markdown",
   "metadata": {},
   "source": [
    "# Portfolio Methodolgy\n",
    "\n",
    "1. DGI/Growth Names - Rebalance every 6 months picking around 2 - 3 names from CA and US universe\n",
    "    - Sell Covered Calls on names and re-enter if called away.\n",
    "    - **GTC Stop Limit of 5% on each name**\n",
    "2. VAA/PAA - Rebalance every month on trading day 1\n",
    "3. LEAPS - Rebalance every 3 months picking around 3 - 8 names from US universe (high growth potential names)\n",
    "    - Current Holdings: LOPE STOR PNW SBUX\n",
    "    - LOPE Earnings: Nov 8\n",
    "    - PNW Earnings: Nov 8\n",
    "    - SBUX Earnings: Jan 23\n",
    "        - **Exit Criteria: When the call option drops below 60 delta**\n",
    "4. Short Vol - Short SPX Spreads at the beginning of the month and hold until second or last week to maturity\n",
    "    - Potentially long UVXY/VXX puts at beginning of the month with bracket orders\n",
    "    - **Short ATM SPX Put spreads around 25 points wide**\n",
    "        - **Long bi-weekly unit puts, around -7% or so of SPX spot (or something with a cost of 15% of the credit)**\n",
    "        - **The SPX put spread will have a capped max loss of 2,500 per contract, while in low volatility, the bi-weekly units are severely underpriced and will explode 10X to 20X in value if the long strike in the spread gets tested. Vega and Gamma play a huge factor in the repricing of these units.**\n",
    "        - Initiate the units every 2 weeks letting them run to expiry\n",
    "    - ***When in lower vol environment or when skew is less pronounced in high vol environments, it is possible to select spreads and units with the same expiry and still receive a deccent net credit. Otherwise, when IV is very high, check if same expiries are possible, otherwise choose units that expire in half the time.***\n",
    "5. Barbell Hedging\n",
    "    - Long SPX puts or VIX calls during high crisis potential moments\n",
    "        - Initiate bracket orders with SPX Puts: +/- 30% of Cost Basis\n",
    "    - Check VIX Futures volume trends and see impact of Feb 5, 2018\n",
    "    - Only trade 4 naked SPX puts in Reg accounts\n",
    "        - Sell half into profits/losses \n",
    "    - Only trade 6 3:1 Put back ratios in Reg Account: Leg into these positions because of how illiquid the market is\n",
    "    - Take losses immediately (10% - 30% of Cost Basis)\n",
    "    - NEVER EVER try to put on a position of the market is illiquid: YOU WILL get filled at horrible prices\n",
    "    - **Put on 1-5 Delta strangles on the open of the day and close position at the end of the day around 2 pm to 3 pm**\n",
    "6. Treasuries - Re-establish monthly bills beginning of month or at maturity\n",
    "7. Earnings\n",
    "    - Filter stocks with market cap > 500M and with post-earnings returns greater than 2% in magnitude for at least 3 quarters\n",
    "    - Then filter stocks whose options have bid-ask spreads less than 1 dollar ATM\n",
    "    - Aggregate all insider share buys and sells and calculate the ratio Buy/Sells\n",
    "        - Candidates for Puts have Buy/Sell < 0.5\n",
    "        - Candidates for Calls have Buy/Sell > 2\n",
    "\n",
    "##### Strategy Weights\n",
    "|Strategy|Weight|Last Rebal|Next Check|Next Full Rebal|\n",
    "|-|-|-|-|-|\n",
    "|VAA/PAA|25%|11/01/2018|12/01/2018|12/01/2018|\n",
    "|LEAPs|5%|11/01/2018|12/01/2018|01/01/2019|\n",
    "|Short Vol|2%|NA|NA|NA|\n",
    "|Barbell Hedging|1.5%|11/06/2018|11/09/2018|11/19/2018|\n",
    "|Treasuries|60%|11/01/2018|11/29/2018|12/01/2018|"
   ]
  },
  {
   "cell_type": "markdown",
   "metadata": {},
   "source": [
    "## Key Modules to Run\n",
    "\n",
    "- fundamental_data_collect.py to run monthly to collected latest financial statements and key stats from yahoo\n",
    "- finstatement_cleaning.py to run right after fundamental_data_collect.py to create cleaned data for earnings plays\n",
    "\n"
   ]
  },
  {
   "cell_type": "code",
   "execution_count": 1,
   "metadata": {},
   "outputs": [
    {
     "data": {
      "text/html": [
       "<script>requirejs.config({paths: { 'plotly': ['https://cdn.plot.ly/plotly-latest.min']},});if(!window.Plotly) {{require(['plotly'],function(plotly) {window.Plotly=plotly;});}}</script>"
      ],
      "text/vnd.plotly.v1+html": [
       "<script>requirejs.config({paths: { 'plotly': ['https://cdn.plot.ly/plotly-latest.min']},});if(!window.Plotly) {{require(['plotly'],function(plotly) {window.Plotly=plotly;});}}</script>"
      ]
     },
     "metadata": {},
     "output_type": "display_data"
    }
   ],
   "source": [
    "# Importing necessary models\n",
    "import warnings\n",
    "warnings.filterwarnings('ignore')\n",
    "\n",
    "import smtplib\n",
    "import pandas as pd\n",
    "import numpy as np\n",
    "import datetime as dt\n",
    "import pandas.stats.moments as st\n",
    "import time\n",
    "%matplotlib inline\n",
    "import plotly.plotly as py\n",
    "import plotly.graph_objs as go\n",
    "from plotly.offline import download_plotlyjs, init_notebook_mode, plot, iplot\n",
    "\n",
    "init_notebook_mode(connected=True)\n",
    "\n",
    "import os\n",
    "main_dir = os.getcwd()\n",
    "\n",
    "os.chdir('C:\\\\Users\\\\Fang\\\\Desktop\\\\Python Trading\\\\Trading\\\\Trading\\\\Modules\\\\DataCollection')\n",
    "\n",
    "from alphavantage import *\n",
    "from yahoo_query import *\n",
    "from option_slam_earnings import *\n",
    "from reuters_query import reuters_query\n",
    "from alphaquery import alphaquery\n",
    "\n",
    "os.chdir('C:\\\\Users\\\\Fang\\\\Desktop\\\\Python Trading\\\\Trading\\\\Trading\\\\Modules\\\\Options')\n",
    "from optionsFunctions import *\n",
    "\n",
    "os.chdir('C:\\\\Users\\\\Fang\\\\Desktop\\\\Python Trading\\\\Trading\\\\Trading\\\\Modules\\\\Earnings')\n",
    "from yahoo_earnings import *\n",
    "from lookup_earnings import lookup_earnings\n",
    "\n",
    "os.chdir('C:\\\\Users\\\\Fang\\\\Desktop\\\\Python Trading\\\\Trading\\\\Trading\\\\Modules\\\\Processing')\n",
    "from hv_calc import *\n",
    "\n",
    "os.chdir(main_dir)"
   ]
  },
  {
   "cell_type": "markdown",
   "metadata": {},
   "source": [
    "# Allocate Smartly Checking"
   ]
  },
  {
   "cell_type": "code",
   "execution_count": null,
   "metadata": {},
   "outputs": [
    {
     "data": {
      "text/html": [
       "<div>\n",
       "<style>\n",
       "    .dataframe thead tr:only-child th {\n",
       "        text-align: right;\n",
       "    }\n",
       "\n",
       "    .dataframe thead th {\n",
       "        text-align: left;\n",
       "    }\n",
       "\n",
       "    .dataframe tbody tr th {\n",
       "        vertical-align: top;\n",
       "    }\n",
       "</style>\n",
       "<table border=\"1\" class=\"dataframe\">\n",
       "  <thead>\n",
       "    <tr style=\"text-align: right;\">\n",
       "      <th></th>\n",
       "      <th>Allocation</th>\n",
       "      <th>price</th>\n",
       "      <th>Market Value</th>\n",
       "      <th>Holdings</th>\n",
       "    </tr>\n",
       "    <tr>\n",
       "      <th>symbol</th>\n",
       "      <th></th>\n",
       "      <th></th>\n",
       "      <th></th>\n",
       "      <th></th>\n",
       "    </tr>\n",
       "  </thead>\n",
       "  <tbody>\n",
       "    <tr>\n",
       "      <th>DBC</th>\n",
       "      <td>0.014</td>\n",
       "      <td>15.310</td>\n",
       "      <td>2800.0</td>\n",
       "      <td>183.0</td>\n",
       "    </tr>\n",
       "    <tr>\n",
       "      <th>HYG</th>\n",
       "      <td>0.014</td>\n",
       "      <td>83.600</td>\n",
       "      <td>2800.0</td>\n",
       "      <td>33.0</td>\n",
       "    </tr>\n",
       "    <tr>\n",
       "      <th>IEF</th>\n",
       "      <td>0.417</td>\n",
       "      <td>101.775</td>\n",
       "      <td>83400.0</td>\n",
       "      <td>819.0</td>\n",
       "    </tr>\n",
       "    <tr>\n",
       "      <th>IWM</th>\n",
       "      <td>0.014</td>\n",
       "      <td>152.570</td>\n",
       "      <td>2800.0</td>\n",
       "      <td>18.0</td>\n",
       "    </tr>\n",
       "    <tr>\n",
       "      <th>LQD</th>\n",
       "      <td>0.500</td>\n",
       "      <td>111.460</td>\n",
       "      <td>100000.0</td>\n",
       "      <td>897.0</td>\n",
       "    </tr>\n",
       "    <tr>\n",
       "      <th>QQQ</th>\n",
       "      <td>0.014</td>\n",
       "      <td>169.420</td>\n",
       "      <td>2800.0</td>\n",
       "      <td>17.0</td>\n",
       "    </tr>\n",
       "    <tr>\n",
       "      <th>SPY</th>\n",
       "      <td>0.014</td>\n",
       "      <td>276.470</td>\n",
       "      <td>2800.0</td>\n",
       "      <td>10.0</td>\n",
       "    </tr>\n",
       "    <tr>\n",
       "      <th>VNQ</th>\n",
       "      <td>0.014</td>\n",
       "      <td>82.020</td>\n",
       "      <td>2800.0</td>\n",
       "      <td>34.0</td>\n",
       "    </tr>\n",
       "  </tbody>\n",
       "</table>\n",
       "</div>"
      ],
      "text/plain": [
       "        Allocation    price  Market Value  Holdings\n",
       "symbol                                             \n",
       "DBC          0.014   15.310        2800.0     183.0\n",
       "HYG          0.014   83.600        2800.0      33.0\n",
       "IEF          0.417  101.775       83400.0     819.0\n",
       "IWM          0.014  152.570        2800.0      18.0\n",
       "LQD          0.500  111.460      100000.0     897.0\n",
       "QQQ          0.014  169.420        2800.0      17.0\n",
       "SPY          0.014  276.470        2800.0      10.0\n",
       "VNQ          0.014   82.020        2800.0      34.0"
      ]
     },
     "execution_count": 2,
     "metadata": {},
     "output_type": "execute_result"
    }
   ],
   "source": [
    "# Short Call Assignment Price - 287.5\n",
    "\n",
    "portfolio_value =  200000\n",
    "\n",
    "as_lst = ['DBC',\n",
    "        'HYG',\n",
    "        'IEF',\n",
    "        'IWM',\n",
    "        'LQD',\n",
    "        'QQQ',\n",
    "        'SPY',\n",
    "        'VNQ']\n",
    "as_wgt = [0.014,\n",
    "        0.014,\n",
    "        0.417,\n",
    "        0.014,\n",
    "        0.500,\n",
    "        0.014,\n",
    "        0.014,\n",
    "        0.014]\n",
    "\n",
    "as_df = pd.DataFrame({'Allocation': as_wgt}, index = as_lst)\n",
    "curr_spot = curr_batch_quotes(as_lst)\n",
    "as_df = pd.concat([as_df,curr_spot[['price']]], axis = 1)\n",
    "\n",
    "as_df['Market Value'] = portfolio_value*as_df.Allocation\n",
    "as_df['Holdings'] = np.round(as_df['Market Value']/as_df.price,0)\n",
    "\n",
    "as_df"
   ]
  },
  {
   "cell_type": "markdown",
   "metadata": {},
   "source": [
    "## Checking market correlations"
   ]
  },
  {
   "cell_type": "code",
   "execution_count": null,
   "metadata": {},
   "outputs": [],
   "source": [
    "rolling_window = 60\n",
    "plot_window = 10000\n",
    "\n",
    "corr_df, sector_df = check_mkt_corr(rolling_window, plot_window)\n",
    "print(corr_df.tail())"
   ]
  },
  {
   "cell_type": "code",
   "execution_count": null,
   "metadata": {},
   "outputs": [],
   "source": [
    "((sector_df.dropna() + 1).cumprod()-1).tail()"
   ]
  },
  {
   "cell_type": "code",
   "execution_count": null,
   "metadata": {},
   "outputs": [],
   "source": [
    "corr_df.iloc[:,:-2].plot(figsize = (20,10))"
   ]
  },
  {
   "cell_type": "markdown",
   "metadata": {},
   "source": [
    "## Earnings"
   ]
  },
  {
   "cell_type": "code",
   "execution_count": null,
   "metadata": {
    "collapsed": true
   },
   "outputs": [],
   "source": [
    "date_lookup = '2018-11-21'\n",
    "\n",
    "curr_earnings = date_earnings(date_lookup)\n",
    "curr_earnings = curr_earnings[curr_earnings['Call Time'].isin(['After Market Close', 'Before Market Open'])]\n",
    "curr_earnings['EarningsDate'] = date_lookup\n"
   ]
  },
  {
   "cell_type": "code",
   "execution_count": null,
   "metadata": {
    "collapsed": true,
    "scrolled": true
   },
   "outputs": [],
   "source": [
    "month = 12\n",
    "year = 2018\n",
    "days_list = list(range(3, 7))\n",
    "\n",
    "week_earnings = []\n",
    "\n",
    "for i in days_list:\n",
    "    date_lookup = '{0}-{1}-{2}'.format(year,month,'0'+(str(i)))\n",
    "    curr_earnings = date_earnings(date_lookup)\n",
    "    curr_earnings = curr_earnings[curr_earnings['Call Time'].isin(['After Market Close', 'Before Market Open'])]\n",
    "    curr_earnings['EarningsDate'] = date_lookup\n",
    "    week_earnings.append(curr_earnings)\n",
    "    \n",
    "curr_earnings = pd.concat(week_earnings,axis = 0)\n",
    "\n",
    "focus_names = []\n",
    "max_spread = 1\n",
    "\n",
    "for ticker in curr_earnings.index:\n",
    "    try:\n",
    "        curr_options = all_options(ticker, 100, 1)\n",
    "    except:\n",
    "        curr_options = []\n",
    "    \n",
    "    if len(curr_options) == 0:\n",
    "        continue\n",
    "    elif (curr_options['Ask'] - curr_options['Bid']).mean() <= max_spread:\n",
    "        focus_names.append(ticker)\n",
    "    else:\n",
    "        continue\n",
    "        \n",
    "curr_earnings = curr_earnings[curr_earnings.index.isin(focus_names)]"
   ]
  },
  {
   "cell_type": "code",
   "execution_count": null,
   "metadata": {
    "scrolled": true
   },
   "outputs": [],
   "source": [
    "acs = curr_earnings[curr_earnings['Call Time'] == 'After Market Close']\n",
    "bcs = curr_earnings[curr_earnings['Call Time'] == 'Before Market Open']\n",
    "curr_earnings"
   ]
  },
  {
   "cell_type": "code",
   "execution_count": null,
   "metadata": {},
   "outputs": [],
   "source": [
    "acs "
   ]
  },
  {
   "cell_type": "code",
   "execution_count": null,
   "metadata": {},
   "outputs": [],
   "source": [
    "bcs "
   ]
  },
  {
   "cell_type": "code",
   "execution_count": null,
   "metadata": {
    "collapsed": true
   },
   "outputs": [],
   "source": []
  },
  {
   "cell_type": "code",
   "execution_count": null,
   "metadata": {
    "scrolled": true
   },
   "outputs": [],
   "source": [
    "start_time = time.time()\n",
    "\n",
    "start_date = dt.datetime(2018,1,1)\n",
    "\n",
    "earnings_data = lookup_earnings(focus_names, start_date)\n",
    "\n",
    "print(\"--- %s seconds ---\" % (time.time() - start_time))"
   ]
  },
  {
   "cell_type": "code",
   "execution_count": null,
   "metadata": {
    "collapsed": true
   },
   "outputs": [],
   "source": [
    "#################### Preliminary Name Selection ###################################\n",
    "summary_df = earnings_data[1]\n",
    "summary_df = summary_df[summary_df['Market Cap(Mil.)'] > 500].sort_values('Market Cap(Mil.)')\n",
    "\n",
    "eps_df = earnings_data[0]\n",
    "eps_df = eps_df[eps_df.Underlying.isin(summary_df.index)]\n",
    "eps_df['NegativeSurprise'] = eps_df['surprisePercent'] < 0 \n",
    "eps_df['PositiveSurprise'] = eps_df['surprisePercent'] > 0\n",
    "eps_df['returnDifferentFromEPS'] = eps_df['surprisePercent']*eps_df['Stock_closeToOpen'] < 0\n",
    "eps_df['LargeMoves'] = abs(eps_df['Stock_closeToOpen']) > 0.02\n",
    "\n",
    "eps_corr = eps_df[['Underlying','NegativeSurprise',\n",
    "                   'PositiveSurprise',\n",
    "                   'returnDifferentFromEPS']].groupby('Underlying').sum()\n",
    "eps_corr['surpriseReturnCorrelation'] = np.nan\n",
    "corrs = []\n",
    "for ticker in eps_corr.index:\n",
    "    curr_corr = eps_df[eps_df['Underlying'] == ticker]\n",
    "    corrs.append(curr_corr[['surprisePercent','Stock_closeToOpen']].corr().iloc[0,1])\n",
    "eps_corr['surpriseReturnCorrelation'] = corrs\n",
    "eps_corr['LargeMoves'] = eps_df[['Underlying','LargeMoves']].groupby('Underlying').sum()\n",
    "\n",
    "selected_names = eps_corr[eps_corr['LargeMoves'] > 2].index.tolist()\n",
    "\n",
    "#################### Filtering on Preliminary Name Selection ###################################\n",
    "summary_df = summary_df[summary_df.index.isin(selected_names)]\n",
    "\n",
    "eps_df = eps_df[eps_df.Underlying.isin(summary_df.index)]\n",
    "eps_corr = eps_corr[eps_corr.index.isin(summary_df.index)]\n",
    "\n",
    "scores_df = earnings_data[2]\n",
    "scores_df = scores_df[scores_df.index.isin(summary_df.index)]\n",
    "scores_df['TotalScore'] = scores_df.mean(axis = 1)\n",
    "scores_df = scores_df.sort_values('TotalScore')\n",
    "\n",
    "analyst_df = earnings_data[3]\n",
    "analyst_df = analyst_df[analyst_df.index.isin(summary_df.index)]\n",
    "\n",
    "valuations_df = earnings_data[4]\n",
    "valuations_df = valuations_df[valuations_df.Underlying.isin(summary_df.index)]\n",
    "\n",
    "growthrate_df = earnings_data[5]\n",
    "growthrate_df = growthrate_df[growthrate_df.Underlying.isin(summary_df.index)]\n",
    "\n",
    "profitability_df = earnings_data[6]\n",
    "profitability_df = profitability_df[profitability_df.Underlying.isin(summary_df.index)]\n",
    "\n",
    "finstrength_df = earnings_data[7]\n",
    "finstrength_df = finstrength_df[finstrength_df.Underlying.isin(summary_df.index)]\n",
    "\n",
    "perf_df = earnings_data[8]\n",
    "perf_df = perf_df[perf_df.Underlying.isin(summary_df.index)]\n",
    "\n",
    "rev_revisions_df = earnings_data[9]\n",
    "rev_revisions_df = rev_revisions_df[rev_revisions_df.Underlying.isin(summary_df.index)]\n",
    "\n",
    "earnings_revisions_df = earnings_data[10]\n",
    "earnings_revisions_df = earnings_revisions_df[earnings_revisions_df.Underlying.isin(summary_df.index)]\n",
    "\n",
    "insider_trades = earnings_data[11]\n",
    "insider_trades = insider_trades[insider_trades.Underlying.isin(summary_df.index)]\n",
    "insider_trades['Trading Date'] = pd.to_datetime(insider_trades['Trading Date'])\n",
    "def aggregate_txns_date(trade_date):\n",
    "    \n",
    "    trade_month = trade_date.month\n",
    "    trade_year = trade_date.year\n",
    "    if trade_month <= 3:\n",
    "        return dt.datetime(trade_year,3,31).date()\n",
    "    elif trade_month <= 6:\n",
    "        return dt.datetime(trade_year,6,30).date()\n",
    "    elif trade_month <= 9:\n",
    "        return dt.datetime(trade_year,9,30).date()\n",
    "    else:\n",
    "        return dt.datetime(trade_year,12,31).date()\n",
    "    \n",
    "insider_trades['Trading Date'] = insider_trades['Trading Date'].apply(aggregate_txns_date)\n",
    "\n",
    "growth_sums = earnings_data[12]\n",
    "growth_sums = growth_sums[growth_sums.Underlying.isin(summary_df.index)]\n"
   ]
  },
  {
   "cell_type": "code",
   "execution_count": null,
   "metadata": {
    "collapsed": true,
    "scrolled": true
   },
   "outputs": [],
   "source": []
  },
  {
   "cell_type": "code",
   "execution_count": null,
   "metadata": {
    "collapsed": true,
    "scrolled": true
   },
   "outputs": [],
   "source": [
    "selected_names = scores_df.sort_values(['ValuationScore','TotalScore']).index.tolist()\n",
    "\n",
    "options_dict = {}\n",
    "\n",
    "for name in selected_names:\n",
    "    \n",
    "    try:\n",
    "        curr_options = all_options(name,100,1,moneyness=0.1)\n",
    "        if len(curr_options) > 0 and (curr_options['Ask'] - curr_options['Bid']).mean() < 1:\n",
    "            options_dict[name] = curr_options\n",
    "    except:\n",
    "        None\n",
    "        \n",
    "selected_names = list(options_dict.keys())"
   ]
  },
  {
   "cell_type": "code",
   "execution_count": null,
   "metadata": {
    "collapsed": true
   },
   "outputs": [],
   "source": [
    "vols_list = []\n",
    "\n",
    "for selected_name in selected_names:\n",
    "    curr_vol = historical_data(selected_name, dt.datetime(2018,1,1))[['daily_ann','intra_ann','ovrnt_ann']].tail(1)\n",
    "    curr_vol.index = [selected_name]\n",
    "    \n",
    "    aq = alphaquery(selected_name)\n",
    "    \n",
    "    curr_iv = aq.vol_df.loc[['Implied Volatility (Calls)', 'Implied Volatility (Puts)', \n",
    "                             'Put-Call Implied Volatility Ratio',\n",
    "                             'Implied Volatility Skew'],['20-Day']].T\n",
    "    curr_iv.index = [selected_name]\n",
    "    vols_list.append(curr_vol.join(curr_iv))\n",
    "    \n",
    "hv_df = pd.concat(vols_list,axis = 0)"
   ]
  },
  {
   "cell_type": "code",
   "execution_count": null,
   "metadata": {
    "scrolled": false
   },
   "outputs": [],
   "source": [
    "insider_agg_lst = []\n",
    "\n",
    "\n",
    "for selected_name in selected_names:\n",
    "    curr_insider_agg = insider_trades[insider_trades.Underlying == selected_name].groupby(['Type']).agg({'Shares Traded': 'sum'}).T\n",
    "    curr_insider_agg.index = [selected_name]\n",
    "    insider_agg_lst.append(curr_insider_agg)\n",
    "    \n",
    "insider_agg = pd.concat(insider_agg_lst,axis = 0)\n",
    "insider_agg['BuyToSell'] = insider_agg['Buy']/insider_agg['Sell']\n",
    "\n",
    "\n",
    "further_reduce = hv_df[(hv_df['intra_ann'] > hv_df['Implied Volatility (Calls)']) &\n",
    "                       (hv_df['intra_ann'] > hv_df['Implied Volatility (Puts)'])].dropna().sort_values('intra_ann').join(insider_agg,\n",
    "                                                                                                        how = 'inner')\n",
    "selected_names = further_reduce.index.tolist()\n",
    "curr_shares_out = summary_df[summary_df.index.isin(selected_names)][['Shares Outstanding(Mil.)']]*1000000\n",
    "further_reduce.join(curr_earnings[['Call Time','EarningsDate']], how = 'left').sort_values(['EarningsDate','Call Time'],ascending = True)#.join(summary_df[summary_df.columns.tolist()[5:]], how = 'inner')\n"
   ]
  },
  {
   "cell_type": "code",
   "execution_count": null,
   "metadata": {
    "collapsed": true
   },
   "outputs": [],
   "source": []
  },
  {
   "cell_type": "code",
   "execution_count": null,
   "metadata": {
    "scrolled": true
   },
   "outputs": [],
   "source": [
    "shorts =  further_reduce.index.tolist()#['ASNA','DG','CONN', 'MOV', 'COUP'] #\n",
    "\n",
    "longs = []\n",
    "\n",
    "print(scores_df[scores_df.index.isin(shorts + longs)])\n",
    "print(eps_df[eps_df.Underlying.isin(shorts + longs)][['EarningsDate',\n",
    "                                                      'surprisePercent',\n",
    "                                                      'Underlying',\n",
    "                                                      'Quarter',\n",
    "                                                      'Stock_closeToOpen']].set_index('Underlying'))\n",
    "print(analyst_df[analyst_df.index.isin(shorts + longs)].sort_values('Current'))\n",
    "\n",
    "\n",
    "summary_df[summary_df.index.isin(shorts + longs)].T\n"
   ]
  },
  {
   "cell_type": "code",
   "execution_count": null,
   "metadata": {
    "scrolled": true
   },
   "outputs": [],
   "source": [
    "# Writing to Excel\n",
    "os.chdir('C:\\\\Users\\\\Fang\\\\Desktop\\\\Python Trading\\\\Trading\\\\Data\\\\Historical Queries\\\\Earnings')\n",
    "datenow = dt.datetime.today().strftime('%Y-%m-%d')\n",
    "writer = pd.ExcelWriter('earnings-{}.xlsx'.format(datenow), engine='xlsxwriter')\n",
    "\n",
    "# Write each dataframe to a different worksheet.\n",
    "further_reduce.join(summary_df[summary_df.columns.tolist()[5:]], \n",
    "                    how = 'inner').join(curr_earnings).to_excel(writer, sheet_name='Summary')\n",
    "\n",
    "eps_df[eps_df.Underlying.isin(shorts + longs)][['EarningsDate',\n",
    "                                                      'surprisePercent',\n",
    "                                                      'Underlying',\n",
    "                                                      'Quarter',\n",
    "                                                      'Stock_closeToOpen']].set_index('Underlying').to_excel(writer, sheet_name='EarningsHist')\n",
    "\n",
    "\n",
    "\n",
    "selected_names = shorts + longs#\n",
    "\n",
    "direction_points = pd.DataFrame(columns = ['PointsLong','PointsShort','ShortToLongRatio'])\n",
    "\n",
    "for selected_name in selected_names:\n",
    "    print(selected_name)\n",
    "    points_short = 0\n",
    "    points_long = 0\n",
    "    \n",
    "    for i, df in enumerate(earnings_data):\n",
    "        \n",
    "        try:\n",
    "            if i == 2 or i == 3 or i == 1:\n",
    "                None #print(df[df.index == selected_name])\n",
    "            elif i == 11:\n",
    "                #print(df[df.Underlying == selected_name][df.columns.tolist()[1:-1]])\n",
    "                insider_trades[insider_trades.Underlying == selected_name].groupby(['Trading Date','Title',\n",
    "                                                                                          'Type']).agg({'Underlying':'count',\n",
    "                                                                                                        'Shares Traded': 'sum'}).to_excel(writer, sheet_name='{} Txns'.format(selected_name))\n",
    "                print(insider_trades[insider_trades.Underlying == selected_name].groupby(['Trading Date','Title',\n",
    "                                                                                          'Type']).agg({'Underlying':'count',\n",
    "                                                                                                        'Shares Traded': 'sum'}))\n",
    "            else:\n",
    "                curr_info = df[df.Underlying == selected_name]\n",
    "                \n",
    "                if i == 5 and len(curr_info) != 0: # Growth Summaries (Sales)\n",
    "                    \n",
    "                    for info_idx in curr_info.index:\n",
    "                        if curr_info.loc[info_idx,'Company'] > curr_info.loc[info_idx,'industry'] and curr_info.loc[info_idx,'Company'] > curr_info.loc[info_idx,'sector']:\n",
    "                            points_long += 1\n",
    "                        if curr_info.loc[info_idx,'Company'] < curr_info.loc[info_idx,'industry'] and curr_info.loc[info_idx,'Company'] < curr_info.loc[info_idx,'sector']:\n",
    "                            points_short += 1\n",
    "                                            \n",
    "                    # Sales - 5 Yr. Growth Rate\n",
    "                    if curr_info.loc[1,'Company'] > curr_info.loc[2,'Company']:\n",
    "                        points_long += 1\n",
    "                    if curr_info.loc[1,'Company'] < curr_info.loc[2,'Company']:\n",
    "                        points_short += 1\n",
    "                        \n",
    "                    # EPS - 5 Yr. Growth Rate\n",
    "                    if curr_info.loc[4,'Company'] > curr_info.loc[5,'Company']:\n",
    "                        points_long += 1\n",
    "                    if curr_info.loc[4,'Company'] < curr_info.loc[5,'Company']:\n",
    "                        points_short += 1\n",
    "                        \n",
    "                    # Capital Spending - 5 Yr. Growth Rate\n",
    "                    if curr_info.loc[6,'Company'] > 0:\n",
    "                        points_long += 1\n",
    "                    if curr_info.loc[6,'Company'] < 0:\n",
    "                        points_long += 1\n",
    "                        \n",
    "                if i == 6 and len(curr_info) != 0: # Profitability Summmaries\n",
    "                    \n",
    "                    for info_idx in curr_info.index:\n",
    "                        if curr_info.loc[info_idx,'Company'] > curr_info.loc[info_idx,'industry'] and curr_info.loc[info_idx,'Company'] > curr_info.loc[info_idx,'sector']:\n",
    "                            points_long += 1\n",
    "                        if curr_info.loc[info_idx,'Company'] < curr_info.loc[info_idx,'industry'] and curr_info.loc[info_idx,'Company'] < curr_info.loc[info_idx,'sector']:\n",
    "                            points_short += 1\n",
    "                            \n",
    "                    # Gross Margin - 5 Yr. Avg. \n",
    "                    if curr_info.loc[0,'Company'] > curr_info.loc[1,'Company']:\n",
    "                        points_long += 1\n",
    "                    if curr_info.loc[0,'Company'] < curr_info.loc[1,'Company']:\n",
    "                        points_short += 1\n",
    "                        \n",
    "                    # EBITD - 5 Yr. Avg \n",
    "                    if curr_info.loc[2,'Company'] > curr_info.loc[3,'Company']:\n",
    "                        points_long += 1\n",
    "                    if curr_info.loc[2,'Company'] < curr_info.loc[3,'Company']:\n",
    "                        points_short += 1\n",
    "                        \n",
    "                    # Operating Margin - 5 Yr. Avg. \n",
    "                    if curr_info.loc[4,'Company'] > curr_info.loc[5,'Company']:\n",
    "                        points_long += 1\n",
    "                    if curr_info.loc[4,'Company'] < curr_info.loc[5,'Company']:\n",
    "                        points_short += 1\n",
    "                        \n",
    "                    # Pre-Tax Margin - 5 Yr. Avg.\n",
    "                    if curr_info.loc[6,'Company'] > curr_info.loc[7,'Company']:\n",
    "                        points_long += 1\n",
    "                    if curr_info.loc[6,'Company'] < curr_info.loc[7,'Company']:\n",
    "                        points_short += 1\n",
    "                        \n",
    "                    # Net Profit Margin - 5 Yr. Avg. \n",
    "                    if curr_info.loc[8,'Company'] > curr_info.loc[9,'Company']:\n",
    "                        points_long += 1\n",
    "                    if curr_info.loc[8,'Company'] < curr_info.loc[9,'Company']:\n",
    "                        points_short += 1\n",
    "                        \n",
    "                if i == 12 and len(curr_info) != 0:\n",
    "                    for info_idx in curr_info.index:\n",
    "                        if curr_info.loc[info_idx,'1 Year'] > curr_info.loc[info_idx,'3 Year'] and curr_info.loc[info_idx,'1 Year'] > curr_info.loc[info_idx,'5 Year']:\n",
    "                            points_long += 1\n",
    "                        if curr_info.loc[info_idx,'1 Year'] < curr_info.loc[info_idx,'3 Year'] and curr_info.loc[info_idx,'1 Year'] < curr_info.loc[info_idx,'5 Year']:\n",
    "                            points_short += 1\n",
    "                    \n",
    "                print(curr_info)\n",
    "            print('\\n')\n",
    "        except:\n",
    "            continue\n",
    "    try:\n",
    "        direction_points.loc[selected_name,:] = [points_long, points_short, points_short/points_long]\n",
    "        print('Points for short: {0} and Points for long: {1}'.format(points_short, points_long))\n",
    "        print('Ratio of Short to Long {}'.format(points_short/points_long))\n",
    "    except:\n",
    "        continue\n",
    "        \n",
    "# Close the Pandas Excel writer and output the Excel file.\n",
    "writer.save()\n",
    "os.chdir(main_dir)\n",
    "writer.save()"
   ]
  },
  {
   "cell_type": "code",
   "execution_count": null,
   "metadata": {},
   "outputs": [],
   "source": [
    "direction_points.join(curr_earnings[['Call Time',\n",
    "                                     'EarningsDate']], how = 'left').sort_values(['EarningsDate',\n",
    "                                                                                  'Call Time'],ascending = True)"
   ]
  },
  {
   "cell_type": "code",
   "execution_count": null,
   "metadata": {
    "collapsed": true
   },
   "outputs": [],
   "source": []
  },
  {
   "cell_type": "code",
   "execution_count": null,
   "metadata": {
    "collapsed": true,
    "scrolled": true
   },
   "outputs": [],
   "source": [
    "test = reuters_query('COUP')"
   ]
  },
  {
   "cell_type": "code",
   "execution_count": null,
   "metadata": {
    "scrolled": true
   },
   "outputs": [],
   "source": [
    "test.insiders_txns"
   ]
  },
  {
   "cell_type": "code",
   "execution_count": null,
   "metadata": {
    "collapsed": true
   },
   "outputs": [],
   "source": [
    "# BKE CRM RAVN"
   ]
  },
  {
   "cell_type": "code",
   "execution_count": 57,
   "metadata": {
    "scrolled": true
   },
   "outputs": [
    {
     "name": "stdout",
     "output_type": "stream",
     "text": [
      "                                        10-Day  20-Day  30-Day  60-Day  \\\n",
      "Field                                                                    \n",
      "Historical Volatility (Close-to-Close)  0.5939  0.6282  0.6893  0.7643   \n",
      "Historical Volatility (Parkinson)       0.6443  0.8068  0.7609  0.7672   \n",
      "Implied Volatility (Calls)              1.0613  1.0613  0.9931  0.8610   \n",
      "Implied Volatility (Puts)               1.0644  1.0644  0.9988  0.8830   \n",
      "Implied Volatility (Mean)               1.0628  1.0628  0.9960  0.8720   \n",
      "Put-Call Implied Volatility Ratio       1.0029  1.0029  1.0057  1.0256   \n",
      "Implied Volatility Skew                 0.0833  0.0833  0.0797  0.0628   \n",
      "Put-Call Ratio (Volume)                 0.7734  0.7734  0.6946  0.5320   \n",
      "Put-Call Ratio (Open Interest)          3.3550  3.3550  3.0433  2.0393   \n",
      "Forward Price                           3.1000  3.1000  3.1000  3.1000   \n",
      "Call Breakeven Price                    3.7300  3.7300  3.7400  3.8800   \n",
      "Put Breakeven Price                     2.9800  2.9800  2.9500  2.8100   \n",
      "Option Breakeven Price                  3.0400  3.0400  3.0600  3.2500   \n",
      "\n",
      "                                        90-Day  120-Day  150-Day  180-Day  \\\n",
      "Field                                                                       \n",
      "Historical Volatility (Close-to-Close)  0.7499   0.6994   0.6686   0.6846   \n",
      "Historical Volatility (Parkinson)       0.7632   0.7159   0.6940   0.7069   \n",
      "Implied Volatility (Calls)              0.8376   0.8155   0.7948   0.7741   \n",
      "Implied Volatility (Puts)               0.8884   0.8717   0.8356   0.7995   \n",
      "Implied Volatility (Mean)               0.8630   0.8436   0.8152   0.7868   \n",
      "Put-Call Implied Volatility Ratio       1.0606   1.0689   1.0513   1.0328   \n",
      "Implied Volatility Skew                 0.0366   0.0255   0.0279   0.0302   \n",
      "Put-Call Ratio (Volume)                 0.4867   0.4414   0.3961   0.3507   \n",
      "Put-Call Ratio (Open Interest)          0.9470   0.5393   0.7402   0.9411   \n",
      "Forward Price                           3.1000   3.1100   3.1200   3.1400   \n",
      "Call Breakeven Price                    4.1800   4.2800   4.2100   4.1400   \n",
      "Put Breakeven Price                     2.6100   2.4800   2.4300   2.3800   \n",
      "Option Breakeven Price                  3.6400   3.6900   3.4300   3.1700   \n",
      "\n",
      "                                       Underlying  \n",
      "Field                                              \n",
      "Historical Volatility (Close-to-Close)       ASNA  \n",
      "Historical Volatility (Parkinson)            ASNA  \n",
      "Implied Volatility (Calls)                   ASNA  \n",
      "Implied Volatility (Puts)                    ASNA  \n",
      "Implied Volatility (Mean)                    ASNA  \n",
      "Put-Call Implied Volatility Ratio            ASNA  \n",
      "Implied Volatility Skew                      ASNA  \n",
      "Put-Call Ratio (Volume)                      ASNA  \n",
      "Put-Call Ratio (Open Interest)               ASNA  \n",
      "Forward Price                                ASNA  \n",
      "Call Breakeven Price                         ASNA  \n",
      "Put Breakeven Price                          ASNA  \n",
      "Option Breakeven Price                       ASNA  \n"
     ]
    },
    {
     "data": {
      "text/html": [
       "<div>\n",
       "<style>\n",
       "    .dataframe thead tr:only-child th {\n",
       "        text-align: right;\n",
       "    }\n",
       "\n",
       "    .dataframe thead th {\n",
       "        text-align: left;\n",
       "    }\n",
       "\n",
       "    .dataframe tbody tr th {\n",
       "        vertical-align: top;\n",
       "    }\n",
       "</style>\n",
       "<table border=\"1\" class=\"dataframe\">\n",
       "  <thead>\n",
       "    <tr style=\"text-align: right;\">\n",
       "      <th></th>\n",
       "      <th></th>\n",
       "      <th></th>\n",
       "      <th>Underlying</th>\n",
       "      <th>Shares Traded</th>\n",
       "      <th>Percent of Float</th>\n",
       "    </tr>\n",
       "    <tr>\n",
       "      <th>Trading Date</th>\n",
       "      <th>Title</th>\n",
       "      <th>Type</th>\n",
       "      <th></th>\n",
       "      <th></th>\n",
       "      <th></th>\n",
       "    </tr>\n",
       "  </thead>\n",
       "  <tbody>\n",
       "    <tr>\n",
       "      <th rowspan=\"8\" valign=\"top\">2018-09-30</th>\n",
       "      <th>Chief Executive Officer</th>\n",
       "      <th>Buy</th>\n",
       "      <td>1</td>\n",
       "      <td>258590.0</td>\n",
       "      <td>0.131011</td>\n",
       "    </tr>\n",
       "    <tr>\n",
       "      <th rowspan=\"2\" valign=\"top\">Chief Financial Officer</th>\n",
       "      <th>Buy</th>\n",
       "      <td>1</td>\n",
       "      <td>10035.0</td>\n",
       "      <td>0.005084</td>\n",
       "    </tr>\n",
       "    <tr>\n",
       "      <th>Sell</th>\n",
       "      <td>1</td>\n",
       "      <td>10550.0</td>\n",
       "      <td>0.005345</td>\n",
       "    </tr>\n",
       "    <tr>\n",
       "      <th>Director</th>\n",
       "      <th>Buy</th>\n",
       "      <td>1</td>\n",
       "      <td>1664640.0</td>\n",
       "      <td>0.843368</td>\n",
       "    </tr>\n",
       "    <tr>\n",
       "      <th rowspan=\"2\" valign=\"top\">Officer</th>\n",
       "      <th>Buy</th>\n",
       "      <td>1</td>\n",
       "      <td>173020.0</td>\n",
       "      <td>0.087658</td>\n",
       "    </tr>\n",
       "    <tr>\n",
       "      <th>Sell</th>\n",
       "      <td>1</td>\n",
       "      <td>23560.0</td>\n",
       "      <td>0.011936</td>\n",
       "    </tr>\n",
       "    <tr>\n",
       "      <th rowspan=\"2\" valign=\"top\">President</th>\n",
       "      <th>Buy</th>\n",
       "      <td>1</td>\n",
       "      <td>163080.0</td>\n",
       "      <td>0.082622</td>\n",
       "    </tr>\n",
       "    <tr>\n",
       "      <th>Sell</th>\n",
       "      <td>1</td>\n",
       "      <td>59250.0</td>\n",
       "      <td>0.030018</td>\n",
       "    </tr>\n",
       "    <tr>\n",
       "      <th rowspan=\"2\" valign=\"top\">2018-12-31</th>\n",
       "      <th rowspan=\"2\" valign=\"top\">Officer</th>\n",
       "      <th>Buy</th>\n",
       "      <td>1</td>\n",
       "      <td>79995.0</td>\n",
       "      <td>0.040528</td>\n",
       "    </tr>\n",
       "    <tr>\n",
       "      <th>Sell</th>\n",
       "      <td>1</td>\n",
       "      <td>30575.0</td>\n",
       "      <td>0.015490</td>\n",
       "    </tr>\n",
       "  </tbody>\n",
       "</table>\n",
       "</div>"
      ],
      "text/plain": [
       "                                           Underlying  Shares Traded  \\\n",
       "Trading Date Title                   Type                              \n",
       "2018-09-30   Chief Executive Officer Buy            1       258590.0   \n",
       "             Chief Financial Officer Buy            1        10035.0   \n",
       "                                     Sell           1        10550.0   \n",
       "             Director                Buy            1      1664640.0   \n",
       "             Officer                 Buy            1       173020.0   \n",
       "                                     Sell           1        23560.0   \n",
       "             President               Buy            1       163080.0   \n",
       "                                     Sell           1        59250.0   \n",
       "2018-12-31   Officer                 Buy            1        79995.0   \n",
       "                                     Sell           1        30575.0   \n",
       "\n",
       "                                           Percent of Float  \n",
       "Trading Date Title                   Type                    \n",
       "2018-09-30   Chief Executive Officer Buy           0.131011  \n",
       "             Chief Financial Officer Buy           0.005084  \n",
       "                                     Sell          0.005345  \n",
       "             Director                Buy           0.843368  \n",
       "             Officer                 Buy           0.087658  \n",
       "                                     Sell          0.011936  \n",
       "             President               Buy           0.082622  \n",
       "                                     Sell          0.030018  \n",
       "2018-12-31   Officer                 Buy           0.040528  \n",
       "                                     Sell          0.015490  "
      ]
     },
     "execution_count": 57,
     "metadata": {},
     "output_type": "execute_result"
    }
   ],
   "source": [
    "selected_name = 'ASNA'\n",
    "\n",
    "aq = alphaquery(selected_name)\n",
    "print(aq.vol_df)\n",
    "\n",
    "\n",
    "select_trades = insider_trades[insider_trades.Underlying == selected_name].groupby(['Trading Date','Title',\n",
    "                                                                                    'Type']).agg({'Underlying':'count',\n",
    "                                                                                                  'Shares Traded': 'sum'}).reset_index()\n",
    "select_trades['Percent of Float'] = 100*select_trades['Shares Traded']/curr_shares_out.loc[selected_name,'Shares Outstanding(Mil.)']\n",
    "select_trades.groupby(['Trading Date','Title',\n",
    "                       'Type']).agg({'Underlying':'count',\n",
    "                                     'Shares Traded': 'sum',\n",
    "                                     'Percent of Float': 'sum'})\n"
   ]
  },
  {
   "cell_type": "code",
   "execution_count": 120,
   "metadata": {
    "scrolled": false
   },
   "outputs": [
    {
     "data": {
      "text/html": [
       "<div>\n",
       "<style>\n",
       "    .dataframe thead tr:only-child th {\n",
       "        text-align: right;\n",
       "    }\n",
       "\n",
       "    .dataframe thead th {\n",
       "        text-align: left;\n",
       "    }\n",
       "\n",
       "    .dataframe tbody tr th {\n",
       "        vertical-align: top;\n",
       "    }\n",
       "</style>\n",
       "<table border=\"1\" class=\"dataframe\">\n",
       "  <thead>\n",
       "    <tr style=\"text-align: right;\">\n",
       "      <th></th>\n",
       "      <th>daily_ann</th>\n",
       "      <th>intra_ann</th>\n",
       "      <th>ovrnt_ann</th>\n",
       "      <th>Implied Volatility (Calls)</th>\n",
       "      <th>Implied Volatility (Puts)</th>\n",
       "      <th>Put-Call Implied Volatility Ratio</th>\n",
       "      <th>Implied Volatility Skew</th>\n",
       "      <th>Buy</th>\n",
       "      <th>Gift</th>\n",
       "      <th>Sell</th>\n",
       "      <th>BuyToSell</th>\n",
       "    </tr>\n",
       "  </thead>\n",
       "  <tbody>\n",
       "    <tr>\n",
       "      <th>SAIC</th>\n",
       "      <td>0.293864</td>\n",
       "      <td>0.573031</td>\n",
       "      <td>0.134131</td>\n",
       "      <td>0.4161</td>\n",
       "      <td>0.4173</td>\n",
       "      <td>1.0029</td>\n",
       "      <td>0.0577</td>\n",
       "      <td>798885.0</td>\n",
       "      <td>178848.0</td>\n",
       "      <td>747882.0</td>\n",
       "      <td>1.068197</td>\n",
       "    </tr>\n",
       "    <tr>\n",
       "      <th>SNPS</th>\n",
       "      <td>0.334326</td>\n",
       "      <td>0.578436</td>\n",
       "      <td>0.144141</td>\n",
       "      <td>0.3483</td>\n",
       "      <td>0.3644</td>\n",
       "      <td>1.0462</td>\n",
       "      <td>0.0432</td>\n",
       "      <td>413100.0</td>\n",
       "      <td>239740.0</td>\n",
       "      <td>348850.0</td>\n",
       "      <td>1.184177</td>\n",
       "    </tr>\n",
       "    <tr>\n",
       "      <th>KR</th>\n",
       "      <td>0.332669</td>\n",
       "      <td>0.588991</td>\n",
       "      <td>0.115852</td>\n",
       "      <td>0.4399</td>\n",
       "      <td>0.4375</td>\n",
       "      <td>0.9945</td>\n",
       "      <td>0.0601</td>\n",
       "      <td>2088364.0</td>\n",
       "      <td>156149.0</td>\n",
       "      <td>1066845.0</td>\n",
       "      <td>1.957514</td>\n",
       "    </tr>\n",
       "    <tr>\n",
       "      <th>VRNT</th>\n",
       "      <td>0.355958</td>\n",
       "      <td>0.617114</td>\n",
       "      <td>0.139365</td>\n",
       "      <td>0.4268</td>\n",
       "      <td>0.4185</td>\n",
       "      <td>0.9806</td>\n",
       "      <td>0.0619</td>\n",
       "      <td>641436.0</td>\n",
       "      <td>NaN</td>\n",
       "      <td>651476.0</td>\n",
       "      <td>0.984589</td>\n",
       "    </tr>\n",
       "    <tr>\n",
       "      <th>PDCO</th>\n",
       "      <td>0.372313</td>\n",
       "      <td>0.692127</td>\n",
       "      <td>0.107568</td>\n",
       "      <td>0.5080</td>\n",
       "      <td>0.5074</td>\n",
       "      <td>0.9988</td>\n",
       "      <td>0.0567</td>\n",
       "      <td>840804.0</td>\n",
       "      <td>NaN</td>\n",
       "      <td>9468.0</td>\n",
       "      <td>88.804816</td>\n",
       "    </tr>\n",
       "    <tr>\n",
       "      <th>LULU</th>\n",
       "      <td>0.420008</td>\n",
       "      <td>0.706739</td>\n",
       "      <td>0.299062</td>\n",
       "      <td>0.6469</td>\n",
       "      <td>0.6522</td>\n",
       "      <td>1.0082</td>\n",
       "      <td>0.0575</td>\n",
       "      <td>77432.0</td>\n",
       "      <td>NaN</td>\n",
       "      <td>40096480.0</td>\n",
       "      <td>0.001931</td>\n",
       "    </tr>\n",
       "    <tr>\n",
       "      <th>THO</th>\n",
       "      <td>0.444668</td>\n",
       "      <td>0.709771</td>\n",
       "      <td>0.156784</td>\n",
       "      <td>0.6512</td>\n",
       "      <td>0.7023</td>\n",
       "      <td>1.0785</td>\n",
       "      <td>0.0153</td>\n",
       "      <td>700964.0</td>\n",
       "      <td>16400.0</td>\n",
       "      <td>549127.0</td>\n",
       "      <td>1.276506</td>\n",
       "    </tr>\n",
       "    <tr>\n",
       "      <th>FNSR</th>\n",
       "      <td>0.622683</td>\n",
       "      <td>0.721044</td>\n",
       "      <td>0.706454</td>\n",
       "      <td>0.2756</td>\n",
       "      <td>0.2713</td>\n",
       "      <td>0.9844</td>\n",
       "      <td>0.1576</td>\n",
       "      <td>939015.0</td>\n",
       "      <td>NaN</td>\n",
       "      <td>1585486.0</td>\n",
       "      <td>0.592257</td>\n",
       "    </tr>\n",
       "    <tr>\n",
       "      <th>PLCE</th>\n",
       "      <td>0.530534</td>\n",
       "      <td>0.800946</td>\n",
       "      <td>0.423058</td>\n",
       "      <td>0.4877</td>\n",
       "      <td>0.5167</td>\n",
       "      <td>1.0595</td>\n",
       "      <td>0.0336</td>\n",
       "      <td>139175.0</td>\n",
       "      <td>NaN</td>\n",
       "      <td>1526625.0</td>\n",
       "      <td>0.091165</td>\n",
       "    </tr>\n",
       "    <tr>\n",
       "      <th>TOL</th>\n",
       "      <td>0.452874</td>\n",
       "      <td>0.810301</td>\n",
       "      <td>0.222340</td>\n",
       "      <td>0.4530</td>\n",
       "      <td>0.4577</td>\n",
       "      <td>1.0104</td>\n",
       "      <td>0.0525</td>\n",
       "      <td>2102970.0</td>\n",
       "      <td>252767.0</td>\n",
       "      <td>2104829.0</td>\n",
       "      <td>0.999117</td>\n",
       "    </tr>\n",
       "    <tr>\n",
       "      <th>GWRE</th>\n",
       "      <td>0.494042</td>\n",
       "      <td>0.842905</td>\n",
       "      <td>0.240880</td>\n",
       "      <td>0.4222</td>\n",
       "      <td>0.4465</td>\n",
       "      <td>1.0576</td>\n",
       "      <td>0.0506</td>\n",
       "      <td>609600.0</td>\n",
       "      <td>NaN</td>\n",
       "      <td>1248096.0</td>\n",
       "      <td>0.488424</td>\n",
       "    </tr>\n",
       "    <tr>\n",
       "      <th>AOBC</th>\n",
       "      <td>0.409852</td>\n",
       "      <td>0.968303</td>\n",
       "      <td>0.348703</td>\n",
       "      <td>0.6560</td>\n",
       "      <td>0.6978</td>\n",
       "      <td>1.0637</td>\n",
       "      <td>0.0566</td>\n",
       "      <td>508599.0</td>\n",
       "      <td>NaN</td>\n",
       "      <td>80532.0</td>\n",
       "      <td>6.315489</td>\n",
       "    </tr>\n",
       "    <tr>\n",
       "      <th>CONN</th>\n",
       "      <td>0.564493</td>\n",
       "      <td>1.014881</td>\n",
       "      <td>0.209340</td>\n",
       "      <td>0.8436</td>\n",
       "      <td>0.8642</td>\n",
       "      <td>1.0244</td>\n",
       "      <td>0.0253</td>\n",
       "      <td>405435.0</td>\n",
       "      <td>NaN</td>\n",
       "      <td>200440.0</td>\n",
       "      <td>2.022725</td>\n",
       "    </tr>\n",
       "    <tr>\n",
       "      <th>MOMO</th>\n",
       "      <td>0.726729</td>\n",
       "      <td>1.151078</td>\n",
       "      <td>0.475162</td>\n",
       "      <td>0.8446</td>\n",
       "      <td>0.8482</td>\n",
       "      <td>1.0043</td>\n",
       "      <td>0.0247</td>\n",
       "      <td>NaN</td>\n",
       "      <td>NaN</td>\n",
       "      <td>NaN</td>\n",
       "      <td>NaN</td>\n",
       "    </tr>\n",
       "    <tr>\n",
       "      <th>ASNA</th>\n",
       "      <td>0.856926</td>\n",
       "      <td>1.646143</td>\n",
       "      <td>0.212730</td>\n",
       "      <td>0.9075</td>\n",
       "      <td>1.0739</td>\n",
       "      <td>1.1834</td>\n",
       "      <td>0.0230</td>\n",
       "      <td>2209305.0</td>\n",
       "      <td>NaN</td>\n",
       "      <td>123935.0</td>\n",
       "      <td>17.826320</td>\n",
       "    </tr>\n",
       "  </tbody>\n",
       "</table>\n",
       "</div>"
      ],
      "text/plain": [
       "      daily_ann  intra_ann  ovrnt_ann  Implied Volatility (Calls)  \\\n",
       "SAIC   0.293864   0.573031   0.134131                      0.4161   \n",
       "SNPS   0.334326   0.578436   0.144141                      0.3483   \n",
       "KR     0.332669   0.588991   0.115852                      0.4399   \n",
       "VRNT   0.355958   0.617114   0.139365                      0.4268   \n",
       "PDCO   0.372313   0.692127   0.107568                      0.5080   \n",
       "LULU   0.420008   0.706739   0.299062                      0.6469   \n",
       "THO    0.444668   0.709771   0.156784                      0.6512   \n",
       "FNSR   0.622683   0.721044   0.706454                      0.2756   \n",
       "PLCE   0.530534   0.800946   0.423058                      0.4877   \n",
       "TOL    0.452874   0.810301   0.222340                      0.4530   \n",
       "GWRE   0.494042   0.842905   0.240880                      0.4222   \n",
       "AOBC   0.409852   0.968303   0.348703                      0.6560   \n",
       "CONN   0.564493   1.014881   0.209340                      0.8436   \n",
       "MOMO   0.726729   1.151078   0.475162                      0.8446   \n",
       "ASNA   0.856926   1.646143   0.212730                      0.9075   \n",
       "\n",
       "      Implied Volatility (Puts)  Put-Call Implied Volatility Ratio  \\\n",
       "SAIC                     0.4173                             1.0029   \n",
       "SNPS                     0.3644                             1.0462   \n",
       "KR                       0.4375                             0.9945   \n",
       "VRNT                     0.4185                             0.9806   \n",
       "PDCO                     0.5074                             0.9988   \n",
       "LULU                     0.6522                             1.0082   \n",
       "THO                      0.7023                             1.0785   \n",
       "FNSR                     0.2713                             0.9844   \n",
       "PLCE                     0.5167                             1.0595   \n",
       "TOL                      0.4577                             1.0104   \n",
       "GWRE                     0.4465                             1.0576   \n",
       "AOBC                     0.6978                             1.0637   \n",
       "CONN                     0.8642                             1.0244   \n",
       "MOMO                     0.8482                             1.0043   \n",
       "ASNA                     1.0739                             1.1834   \n",
       "\n",
       "      Implied Volatility Skew        Buy      Gift        Sell  BuyToSell  \n",
       "SAIC                   0.0577   798885.0  178848.0    747882.0   1.068197  \n",
       "SNPS                   0.0432   413100.0  239740.0    348850.0   1.184177  \n",
       "KR                     0.0601  2088364.0  156149.0   1066845.0   1.957514  \n",
       "VRNT                   0.0619   641436.0       NaN    651476.0   0.984589  \n",
       "PDCO                   0.0567   840804.0       NaN      9468.0  88.804816  \n",
       "LULU                   0.0575    77432.0       NaN  40096480.0   0.001931  \n",
       "THO                    0.0153   700964.0   16400.0    549127.0   1.276506  \n",
       "FNSR                   0.1576   939015.0       NaN   1585486.0   0.592257  \n",
       "PLCE                   0.0336   139175.0       NaN   1526625.0   0.091165  \n",
       "TOL                    0.0525  2102970.0  252767.0   2104829.0   0.999117  \n",
       "GWRE                   0.0506   609600.0       NaN   1248096.0   0.488424  \n",
       "AOBC                   0.0566   508599.0       NaN     80532.0   6.315489  \n",
       "CONN                   0.0253   405435.0       NaN    200440.0   2.022725  \n",
       "MOMO                   0.0247        NaN       NaN         NaN        NaN  \n",
       "ASNA                   0.0230  2209305.0       NaN    123935.0  17.826320  "
      ]
     },
     "execution_count": 120,
     "metadata": {},
     "output_type": "execute_result"
    }
   ],
   "source": [
    "further_reduce"
   ]
  },
  {
   "cell_type": "code",
   "execution_count": null,
   "metadata": {
    "collapsed": true
   },
   "outputs": [],
   "source": []
  },
  {
   "cell_type": "code",
   "execution_count": null,
   "metadata": {
    "collapsed": true
   },
   "outputs": [],
   "source": [
    "# Saving Selected Names for Reference\n",
    "\n",
    "os.chdir('C:\\\\Users\\\\Fang\\\\Desktop\\\\Python Trading\\\\Trading\\\\Data\\\\Historical Queries\\\\Earnings')\n",
    "\n",
    "datenow = dt.datetime.today().strftime('%Y-%m-%d')\n",
    "\n",
    "scores_df[scores_df.index.isin(longs + shorts)].sort_values(['ValuationScore',\n",
    "                       'TotalScore']).join(summary_df.join(curr_earnings)).to_csv('earnings-{}.csv'.format(datenow))\n",
    "\n",
    "os.chdir(main_dir)"
   ]
  },
  {
   "cell_type": "markdown",
   "metadata": {},
   "source": [
    "## Barbell Hedging"
   ]
  },
  {
   "cell_type": "code",
   "execution_count": null,
   "metadata": {
    "collapsed": true
   },
   "outputs": [],
   "source": [
    "ratios = spx_put_backratios(50, 1, 0.2, 2, 25)"
   ]
  },
  {
   "cell_type": "code",
   "execution_count": null,
   "metadata": {
    "collapsed": true
   },
   "outputs": [],
   "source": [
    "ratios"
   ]
  },
  {
   "cell_type": "code",
   "execution_count": null,
   "metadata": {
    "collapsed": true
   },
   "outputs": [],
   "source": [
    "spx_options = all_greeks(all_options('^SPX',50,1,0.2))\n",
    "spx_options = spx_options[(spx_options['Type'] == 'put') &\n",
    "                          (spx_options['Strike'] < spx_options['Underlying_Price'])]"
   ]
  },
  {
   "cell_type": "code",
   "execution_count": null,
   "metadata": {
    "collapsed": true
   },
   "outputs": [],
   "source": [
    "spx_options[(spx_options['DTE'] == 7) &\n",
    "            (spx_options['Strike'] == 2390.0)]"
   ]
  },
  {
   "cell_type": "code",
   "execution_count": null,
   "metadata": {
    "collapsed": true
   },
   "outputs": [],
   "source": []
  },
  {
   "cell_type": "code",
   "execution_count": null,
   "metadata": {
    "collapsed": true
   },
   "outputs": [],
   "source": []
  },
  {
   "cell_type": "code",
   "execution_count": null,
   "metadata": {
    "collapsed": true
   },
   "outputs": [],
   "source": []
  },
  {
   "cell_type": "code",
   "execution_count": null,
   "metadata": {
    "collapsed": true
   },
   "outputs": [],
   "source": []
  },
  {
   "cell_type": "code",
   "execution_count": null,
   "metadata": {
    "collapsed": true
   },
   "outputs": [],
   "source": []
  },
  {
   "cell_type": "code",
   "execution_count": null,
   "metadata": {
    "collapsed": true
   },
   "outputs": [],
   "source": []
  },
  {
   "cell_type": "code",
   "execution_count": null,
   "metadata": {
    "collapsed": true
   },
   "outputs": [],
   "source": []
  },
  {
   "cell_type": "code",
   "execution_count": 147,
   "metadata": {
    "collapsed": true
   },
   "outputs": [],
   "source": [
    "import requests as req\n",
    "from bs4 import BeautifulSoup as soup"
   ]
  },
  {
   "cell_type": "code",
   "execution_count": 149,
   "metadata": {
    "collapsed": true
   },
   "outputs": [],
   "source": [
    "ticker = 'FSNR'\n",
    "aq_url = 'https://www.alphaquery.com/stock/{}/earnings-history'.format(ticker)\n",
    "s = req.session()\n",
    "\n",
    "curr_aq = bs(s.get(aq_url).text, 'lxml')\n",
    "\n",
    "s.cookies.clear()"
   ]
  },
  {
   "cell_type": "code",
   "execution_count": 156,
   "metadata": {},
   "outputs": [
    {
     "name": "stdout",
     "output_type": "stream",
     "text": [
      "<tr>\n",
      "<th class=\"text-center\">Announcement Date</th>\n",
      "<th class=\"text-center\">Fiscal Quarter End</th>\n",
      "<th class=\"text-center\">Estimated EPS</th>\n",
      "<th class=\"text-center\">Actual EPS</th>\n",
      "</tr>\n"
     ]
    }
   ],
   "source": [
    "curr_earnings_table = curr_aq.select_one('table')\n",
    "\n",
    "for row in curr_earnings_table.find_all('tr'):\n",
    "    print(row)\n",
    "    break"
   ]
  },
  {
   "cell_type": "code",
   "execution_count": null,
   "metadata": {
    "collapsed": true
   },
   "outputs": [],
   "source": []
  },
  {
   "cell_type": "code",
   "execution_count": null,
   "metadata": {
    "collapsed": true
   },
   "outputs": [],
   "source": []
  },
  {
   "cell_type": "code",
   "execution_count": null,
   "metadata": {
    "collapsed": true
   },
   "outputs": [],
   "source": []
  },
  {
   "cell_type": "code",
   "execution_count": null,
   "metadata": {
    "collapsed": true
   },
   "outputs": [],
   "source": []
  },
  {
   "cell_type": "code",
   "execution_count": null,
   "metadata": {
    "collapsed": true
   },
   "outputs": [],
   "source": []
  },
  {
   "cell_type": "code",
   "execution_count": null,
   "metadata": {
    "collapsed": true
   },
   "outputs": [],
   "source": []
  },
  {
   "cell_type": "code",
   "execution_count": null,
   "metadata": {
    "collapsed": true
   },
   "outputs": [],
   "source": []
  },
  {
   "cell_type": "code",
   "execution_count": null,
   "metadata": {
    "collapsed": true
   },
   "outputs": [],
   "source": []
  },
  {
   "cell_type": "code",
   "execution_count": null,
   "metadata": {
    "collapsed": true
   },
   "outputs": [],
   "source": []
  },
  {
   "cell_type": "code",
   "execution_count": null,
   "metadata": {
    "collapsed": true
   },
   "outputs": [],
   "source": []
  },
  {
   "cell_type": "code",
   "execution_count": null,
   "metadata": {
    "collapsed": true
   },
   "outputs": [],
   "source": []
  },
  {
   "cell_type": "code",
   "execution_count": null,
   "metadata": {
    "collapsed": true
   },
   "outputs": [],
   "source": []
  },
  {
   "cell_type": "code",
   "execution_count": null,
   "metadata": {
    "collapsed": true
   },
   "outputs": [],
   "source": []
  },
  {
   "cell_type": "code",
   "execution_count": null,
   "metadata": {
    "collapsed": true
   },
   "outputs": [],
   "source": []
  },
  {
   "cell_type": "code",
   "execution_count": null,
   "metadata": {
    "collapsed": true
   },
   "outputs": [],
   "source": []
  },
  {
   "cell_type": "code",
   "execution_count": null,
   "metadata": {
    "collapsed": true
   },
   "outputs": [],
   "source": []
  },
  {
   "cell_type": "code",
   "execution_count": null,
   "metadata": {
    "collapsed": true
   },
   "outputs": [],
   "source": []
  },
  {
   "cell_type": "code",
   "execution_count": null,
   "metadata": {
    "collapsed": true
   },
   "outputs": [],
   "source": []
  },
  {
   "cell_type": "code",
   "execution_count": null,
   "metadata": {
    "collapsed": true
   },
   "outputs": [],
   "source": []
  },
  {
   "cell_type": "code",
   "execution_count": null,
   "metadata": {
    "collapsed": true
   },
   "outputs": [],
   "source": []
  },
  {
   "cell_type": "code",
   "execution_count": null,
   "metadata": {
    "collapsed": true
   },
   "outputs": [],
   "source": []
  },
  {
   "cell_type": "code",
   "execution_count": null,
   "metadata": {
    "collapsed": true
   },
   "outputs": [],
   "source": []
  },
  {
   "cell_type": "code",
   "execution_count": null,
   "metadata": {
    "collapsed": true
   },
   "outputs": [],
   "source": []
  },
  {
   "cell_type": "code",
   "execution_count": null,
   "metadata": {
    "collapsed": true
   },
   "outputs": [],
   "source": []
  },
  {
   "cell_type": "code",
   "execution_count": null,
   "metadata": {
    "collapsed": true
   },
   "outputs": [],
   "source": []
  },
  {
   "cell_type": "code",
   "execution_count": null,
   "metadata": {
    "collapsed": true
   },
   "outputs": [],
   "source": []
  },
  {
   "cell_type": "code",
   "execution_count": null,
   "metadata": {
    "collapsed": true
   },
   "outputs": [],
   "source": []
  },
  {
   "cell_type": "code",
   "execution_count": null,
   "metadata": {
    "collapsed": true
   },
   "outputs": [],
   "source": []
  }
 ],
 "metadata": {
  "kernelspec": {
   "display_name": "Python 3",
   "language": "python",
   "name": "python3"
  },
  "language_info": {
   "codemirror_mode": {
    "name": "ipython",
    "version": 3
   },
   "file_extension": ".py",
   "mimetype": "text/x-python",
   "name": "python",
   "nbconvert_exporter": "python",
   "pygments_lexer": "ipython3",
   "version": "3.6.1"
  }
 },
 "nbformat": 4,
 "nbformat_minor": 2
}
