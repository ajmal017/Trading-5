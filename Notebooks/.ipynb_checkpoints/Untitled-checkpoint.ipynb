{
 "cells": [
  {
   "cell_type": "code",
   "execution_count": 3,
   "metadata": {},
   "outputs": [
    {
     "ename": "ModuleNotFoundError",
     "evalue": "No module named 'ibapi'",
     "output_type": "error",
     "traceback": [
      "\u001b[1;31m---------------------------------------------------------------------------\u001b[0m",
      "\u001b[1;31mModuleNotFoundError\u001b[0m                       Traceback (most recent call last)",
      "\u001b[1;32m<ipython-input-3-7570eb73e6fa>\u001b[0m in \u001b[0;36m<module>\u001b[1;34m()\u001b[0m\n\u001b[1;32m----> 1\u001b[1;33m \u001b[1;32mfrom\u001b[0m \u001b[0mibapi\u001b[0m\u001b[1;33m.\u001b[0m\u001b[0mwrapper\u001b[0m \u001b[1;32mimport\u001b[0m \u001b[0mEWrapper\u001b[0m\u001b[1;33m\u001b[0m\u001b[0m\n\u001b[0m\u001b[0;32m      2\u001b[0m \u001b[1;32mfrom\u001b[0m \u001b[0mibapi\u001b[0m\u001b[1;33m.\u001b[0m\u001b[0mclient\u001b[0m \u001b[1;32mimport\u001b[0m \u001b[0mEClient\u001b[0m\u001b[1;33m\u001b[0m\u001b[0m\n\u001b[0;32m      3\u001b[0m \u001b[1;32mfrom\u001b[0m \u001b[0mthreading\u001b[0m \u001b[1;32mimport\u001b[0m \u001b[0mThread\u001b[0m\u001b[1;33m\u001b[0m\u001b[0m\n\u001b[0;32m      4\u001b[0m \u001b[1;32mimport\u001b[0m \u001b[0mqueue\u001b[0m\u001b[1;33m\u001b[0m\u001b[0m\n",
      "\u001b[1;31mModuleNotFoundError\u001b[0m: No module named 'ibapi'"
     ]
    }
   ],
   "source": [
    "from ibapi.wrapper import EWrapper\n",
    "from ibapi.client import EClient\n",
    "from threading import Thread\n",
    "import queue\n"
   ]
  },
  {
   "cell_type": "code",
   "execution_count": 4,
   "metadata": {
    "collapsed": true
   },
   "outputs": [],
   "source": [
    "from bs4 import BeautifulSoup as bs\n",
    "import requests"
   ]
  },
  {
   "cell_type": "code",
   "execution_count": 8,
   "metadata": {
    "scrolled": true
   },
   "outputs": [
    {
     "data": {
      "text/plain": [
       "<!DOCTYPE html>\n",
       "<html lang=\"en\">\n",
       "<head>\n",
       "<meta charset=\"utf-8\"/>\n",
       "<meta content=\"width=device-width, initial-scale=1\" name=\"viewport\"/>\n",
       "<title>Access to this page has been denied.</title>\n",
       "<link href=\"https://fonts.googleapis.com/css?family=Open+Sans:300\" rel=\"stylesheet\"/>\n",
       "<style>\n",
       "    html, body {\n",
       "      margin: 0;\n",
       "      padding: 0;\n",
       "      font-family: 'Open Sans', sans-serif;\n",
       "      color: #000;\n",
       "    }\n",
       "\n",
       "    .container {\n",
       "      align-items: center;\n",
       "      display: flex;\n",
       "      flex: 1;\n",
       "      justify-content: space-between;\n",
       "      flex-direction: column;\n",
       "      height: 100%;\n",
       "    }\n",
       "\n",
       "    .container > div {\n",
       "      width: 100%;\n",
       "      display: flex;\n",
       "      justify-content: center;\n",
       "    }\n",
       "\n",
       "    .container > div > div {\n",
       "      display: flex;\n",
       "      width: 80%;\n",
       "    }\n",
       "\n",
       "    .customer-logo-wrapper {\n",
       "      padding-top: 2rem;\n",
       "      flex-grow: 0;\n",
       "      background-color: #fff;\n",
       "    }\n",
       "\n",
       "    .customer-logo {\n",
       "      border-bottom: 1px solid #000;\n",
       "    }\n",
       "\n",
       "    .customer-logo > img {\n",
       "      padding-bottom: 1rem;\n",
       "      max-height: 50px;\n",
       "      max-width: 100%;\n",
       "    }\n",
       "\n",
       "    .page-title-wrapper {\n",
       "      flex-grow: 0;  /* was 2, but that pushed it too far down the page */\n",
       "    }\n",
       "\n",
       "    .page-title {\n",
       "      flex-direction: column-reverse;\n",
       "    }\n",
       "\n",
       "    .content-wrapper {\n",
       "      flex-grow: 5;\n",
       "    }\n",
       "\n",
       "    .content {\n",
       "      flex-direction: column;\n",
       "    }\n",
       "\n",
       "    @media (min-width: 768px) {\n",
       "      html, body {\n",
       "        height: 100%;\n",
       "      }\n",
       "    }\n",
       "  </style>\n",
       "<script>\n",
       "    window._pxAppId = 'PXxgCxM9By';\n",
       "    window._pxJsClientSrc = '/xgCxM9By/init.js';\n",
       "    window._pxHostUrl = '/xgCxM9By/xhr';\n",
       "  </script>\n",
       "<script src=\"/xgCxM9By/captcha/PXxgCxM9By/captcha.js?a=c&amp;m=0\"></script>\n",
       "<script>\n",
       "    startTime = Date.now();\n",
       "    window._pxOnCaptchaSuccess = function(isValid){\n",
       "      var solutionTime = Math.floor((Date.now() - startTime) / 1000);\n",
       "      var reload = function(){ top.location.reload(); };\n",
       "      sendEvent(\"captcha/solved?px_uuid=\" + window._pxUuid + \"&time_to_solution=\" + solutionTime + '&isValid=' + isValid, reload);\n",
       "      setTimeout(reload, 700);\n",
       "    };\n",
       "\n",
       "    function sendEvent(event, onload){\n",
       "      var xhr = new XMLHttpRequest();\n",
       "      xhr.open(\"GET\", \"/_sa_track/\" + event);\n",
       "      if (onload) xhr.addEventListener(\"load\", onload);\n",
       "      xhr.send();\n",
       "    }\n",
       "  </script>\n",
       "<script type=\"text/javascript\">window._pxVid = \"\";window._pxUuid = \"b39486b0-258e-11e9-aed8-63bb984bcf05\";</script></head>\n",
       "<body>\n",
       "<section class=\"container\">\n",
       "<div class=\"page-title-wrapper\">\n",
       "<div class=\"page-title\">\n",
       "<h1>Please click âI am not a robotâ to continue</h1>\n",
       "</div>\n",
       "</div>\n",
       "<div class=\"content-wrapper\">\n",
       "<div class=\"content\">\n",
       "<div id=\"px-captcha\"></div>\n",
       "<p></p>\n",
       "<p>\n",
       "        To ensure this doesnât happen in the future, please enable Javascript and cookies in your browser.<br/>\n",
       "        Is this happening to you frequently? Please <a href=\"https://seekingalpha.userecho.com?source=captcha\">report it on our feedback forum</a>.\n",
       "      </p>\n",
       "<p>Reference ID: <span id=\"refid\"></span></p>\n",
       "</div>\n",
       "</div>\n",
       "<script>\n",
       "    document.getElementById(\"refid\").innerHTML = window._pxUuid;\n",
       "    sendEvent(\"captcha/shown?px_uuid=\" + window._pxUuid);\n",
       "  </script>\n",
       "</section>\n",
       "</body>\n",
       "</html>"
      ]
     },
     "execution_count": 8,
     "metadata": {},
     "output_type": "execute_result"
    }
   ],
   "source": [
    "bs(requests.get('https://seekingalpha.com/symbol/RCL/earnings','lxml').text,'lxml')"
   ]
  },
  {
   "cell_type": "code",
   "execution_count": null,
   "metadata": {
    "collapsed": true
   },
   "outputs": [],
   "source": []
  }
 ],
 "metadata": {
  "kernelspec": {
   "display_name": "Python 3",
   "language": "python",
   "name": "python3"
  },
  "language_info": {
   "codemirror_mode": {
    "name": "ipython",
    "version": 3
   },
   "file_extension": ".py",
   "mimetype": "text/x-python",
   "name": "python",
   "nbconvert_exporter": "python",
   "pygments_lexer": "ipython3",
   "version": "3.6.1"
  }
 },
 "nbformat": 4,
 "nbformat_minor": 2
}
