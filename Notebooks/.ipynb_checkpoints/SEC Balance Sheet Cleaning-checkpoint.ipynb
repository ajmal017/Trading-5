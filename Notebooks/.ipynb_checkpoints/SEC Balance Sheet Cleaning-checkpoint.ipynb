{
 "cells": [
  {
   "cell_type": "code",
   "execution_count": 1,
   "metadata": {
    "collapsed": true
   },
   "outputs": [],
   "source": [
    "import pandas as pd\n",
    "pd.options.display.float_format = '{:,.4f}'.format\n",
    "import numpy as np\n",
    "import datetime as dt\n",
    "from bs4 import BeautifulSoup as bs\n",
    "import requests\n",
    "import time\n",
    "from sqlalchemy import *\n",
    "from sqlalchemy import create_engine\n",
    "import sqlite3 as sql\n",
    "import operator\n",
    "import re\n",
    "import os\n",
    "os.chdir('C:\\\\Users\\\\Fang\\\\Desktop\\\\Python Trading\\\\Trading\\\\Data\\\\DBs')"
   ]
  },
  {
   "cell_type": "code",
   "execution_count": 2,
   "metadata": {
    "collapsed": true
   },
   "outputs": [],
   "source": [
    "def latest_sec_db_links(formtype, year, qtr, engine):\n",
    "    \n",
    "    if formtype == 'F4':\n",
    "        table_name = 'F4Links'\n",
    "    elif formtype == '10Q':\n",
    "        table_name = 'Links10Q'\n",
    "    elif formtype == '10K':\n",
    "        table_name = 'Links10K'\n",
    "    else:\n",
    "        print('formtypes are F4 10Q and 10K')\n",
    "        return\n",
    "    \n",
    "    query = 'SELECT * FROM {0} WHERE Year = {1} AND Quarter = {2}'.format(table_name, year, qtr)\n",
    "    \n",
    "    db_table = pd.read_sql_query(query, con=engine, index_col = 'idx')\n",
    "    \n",
    "    db_table['DateFiled'] = pd.to_datetime(db_table['DateFiled'])\n",
    "    \n",
    "    return db_table.reset_index(drop = True)\n",
    "\n",
    "\n",
    "def fin_statement_search(text_blob):\n",
    "    if 'statements of operations' in text_blob.lower():\n",
    "        return True\n",
    "    elif 'balance sheets' in text_blob.lower():\n",
    "        return True\n",
    "    elif 'statements of cash flows' in text_blob.lower():\n",
    "        return True\n",
    "    elif 'statements of stockholders' in text_blob.lower():\n",
    "        return True\n",
    "    else:\n",
    "        return False\n"
   ]
  },
  {
   "cell_type": "code",
   "execution_count": 3,
   "metadata": {},
   "outputs": [],
   "source": [
    "def retrieve_statements(sec_url):\n",
    "    \n",
    "    start_time = time.time()\n",
    "    \n",
    "    def check_statement(b):\n",
    "        # Checking for Balance Sheet\n",
    "        if 'balancesheets' in b or 'balance sheets' in b or 'statements of financial conditions' in b:\n",
    "            return 'balancesheet'\n",
    "        elif 'statements of operations' in b or 'statements ofoperations' in b or 'statements of income' in b or 'statements ofincome' in b:\n",
    "            return 'incomestatement'\n",
    "        elif 'statements of stockholders' in b or 'statements ofstockholders' in b:\n",
    "            return 'stockholdersequity'\n",
    "        elif 'statements of cash flows' in b or 'statements of cashflows' in b or 'statements ofcash flows' in b or 'statements ofcashflows' in b:\n",
    "            return 'cashflowstatement'\n",
    "        else:\n",
    "            return ''\n",
    "        \n",
    "    sec_req = requests.get(sec_url).text\n",
    "    all_hrs = [m.start() for m in re.finditer('<hr', sec_req)]\n",
    "    \n",
    "    sec_pages = [bs(sec_req[all_hrs[i - 1]:all_hrs[i]], 'lxml') for i in range(1,len(all_hrs))]\n",
    "    #sec_pages = list(filter(lambda x: x.find('table') != None, sec_pages))\n",
    "    \n",
    "    i = 0\n",
    "\n",
    "    for page in sec_pages:\n",
    "        titles = [x.text.lower().strip().replace('\\n','') for x in page.find_all('b')]\n",
    "        for b in titles:\n",
    "            if check_statement(b) == 'balancesheet':\n",
    "                balance_sheet = page\n",
    "                break\n",
    "            elif check_statement(b) == 'incomestatement':\n",
    "                income_statement = page\n",
    "                break\n",
    "            elif check_statement(b) == 'stockholdersequity':\n",
    "                stockholders_equity = page\n",
    "                break\n",
    "            elif check_statement(b) == 'cashflowstatement':\n",
    "                cashflow_statement = page\n",
    "                break\n",
    "    print('Completed in {} seconds'.format(time.time() - start_time))\n",
    "    try:\n",
    "        return balance_sheet, income_statement, cashflow_statement, stockholders_equity\n",
    "    except:\n",
    "        return balance_sheet, income_statement, cashflow_statement\n",
    "\n",
    "def parse_statement_table(curr_statement, cik, filedate):\n",
    "    start_time = time.time()\n",
    "    for b in [x.text.strip().lower() for x in curr_statement.find_all('b')]:\n",
    "        if 'hundreds' in b:\n",
    "            multiplier = 10**2\n",
    "            break\n",
    "        elif 'thousands' in b:\n",
    "            multiplier = 10**3\n",
    "            break\n",
    "        elif 'millions' in b:\n",
    "            multiplier = 10**6\n",
    "            break\n",
    "        else:\n",
    "            multiplier = 1\n",
    "\n",
    "    table = curr_statement.find('table')\n",
    "\n",
    "    rows = []\n",
    "\n",
    "    multiple_periods_exist = False\n",
    "\n",
    "    for row in table.find_all('tr'):\n",
    "        columns = [re.sub(' +',' ',x.text.strip().lower().replace('$', '').replace('\\n',' ')).replace('\\x97','-').replace('\\x92','') for x in row.find_all('td')]\n",
    "        columns = list(filter(lambda x: x != '' and x != ')' and x != '(', columns))\n",
    "        if len(columns) > 1:\n",
    "\n",
    "            if list(filter(lambda x: 'three month' in x, columns)) != []:\n",
    "                check_col = columns\n",
    "                multiple_periods_exist = True\n",
    "            elif multiple_periods_exist == False:\n",
    "                check_col = []\n",
    "\n",
    "            try:\n",
    "                columns = [dt.datetime.strptime(x, '%B %d, %Y').date() for x in columns]\n",
    "                rows.append(columns)\n",
    "                dates = columns\n",
    "            except:\n",
    "                rows.append(columns)\n",
    "\n",
    "    frame_width = max([len(x) for x in rows])\n",
    "    curr_statement_df = pd.DataFrame(columns = range(frame_width-1))\n",
    "    for i, row in enumerate(rows):\n",
    "\n",
    "        if len(row) == frame_width:\n",
    "            curr_statement_df.loc[row[0]] = [float(x.replace('-','0').replace('(','-').replace(',',''))*multiplier for x in row[1:]]\n",
    "\n",
    "    if check_col != []:\n",
    "        dates = dates[2*check_col.index(\"three months ended\"):check_col.index(\"three months ended\") + 2]\n",
    "\n",
    "    df_column, value = max(enumerate(dates), key=operator.itemgetter(1))\n",
    "    curr_statement_df = curr_statement_df[[df_column]]\n",
    "    curr_statement_df.columns = ['values']\n",
    "    curr_statement_df['endingQuarter'] = value\n",
    "    curr_statement_df['CIK'] = cik\n",
    "    curr_statement_df['DateFiled'] = filedate\n",
    "    \n",
    "    print('Completed in {} seconds'.format(time.time() - start_time))\n",
    "    return curr_statement_df"
   ]
  },
  {
   "cell_type": "code",
   "execution_count": 4,
   "metadata": {},
   "outputs": [],
   "source": [
    "sec_engine = create_engine('sqlite:///SEC_htm.db', echo=False)\n",
    "table_name = 'Links10Qs'\n",
    "query = 'SELECT * FROM {0}'.format(table_name)\n",
    "latest_db_10q = pd.read_sql_query(query, con=sec_engine, index_col = 'idx').reset_index(drop = True)\n",
    "latest_db_10q['DateFiled'] = pd.to_datetime(latest_db_10q['DateFiled'])"
   ]
  },
  {
   "cell_type": "code",
   "execution_count": 8,
   "metadata": {},
   "outputs": [
    {
     "name": "stdout",
     "output_type": "stream",
     "text": [
      "Completed in 0.9449155330657959 seconds\n"
     ]
    }
   ],
   "source": [
    "idx = 3873\n",
    "curr_filing = latest_db_10q.loc[idx,:]#'https://www.sec.gov/Archives/edgar/data/1001171/000110465918068475/a18-19054_110q.htm'#\n",
    "sec_url = curr_filing['Filename']\n",
    "curr_cik = curr_filing['CIK']\n",
    "file_date = curr_filing['DateFiled'].date()\n",
    "\n",
    "try:\n",
    "    bs, ins, cf, se = retrieve_statements(sec_url)\n",
    "except:\n",
    "    bs, ins, cf = retrieve_statements(sec_url)"
   ]
  },
  {
   "cell_type": "code",
   "execution_count": 10,
   "metadata": {
    "scrolled": true
   },
   "outputs": [
    {
     "name": "stdout",
     "output_type": "stream",
     "text": [
      "Completed in 0.04188823699951172 seconds\n",
      "Completed in 0.04434037208557129 seconds\n",
      "Completed in 0.04716038703918457 seconds\n",
      "Completed in 0.02859973907470703 seconds\n"
     ]
    }
   ],
   "source": [
    "try:\n",
    "    curr_balance_sheet = parse_statement_table(bs,curr_cik,file_date)\n",
    "except:\n",
    "    None\n",
    "try:\n",
    "    curr_income_statement = parse_statement_table(ins,curr_cik,file_date)\n",
    "except:\n",
    "    None\n",
    "try:\n",
    "    curr_cashflows = parse_statement_table(cf,curr_cik,file_date)\n",
    "except:\n",
    "    None\n",
    "try:\n",
    "    curr_stockequity = parse_statement_table(se,curr_cik,file_date)\n",
    "except:\n",
    "    None"
   ]
  },
  {
   "cell_type": "code",
   "execution_count": 14,
   "metadata": {},
   "outputs": [
    {
     "data": {
      "text/html": [
       "<div>\n",
       "<style>\n",
       "    .dataframe thead tr:only-child th {\n",
       "        text-align: right;\n",
       "    }\n",
       "\n",
       "    .dataframe thead th {\n",
       "        text-align: left;\n",
       "    }\n",
       "\n",
       "    .dataframe tbody tr th {\n",
       "        vertical-align: top;\n",
       "    }\n",
       "</style>\n",
       "<table border=\"1\" class=\"dataframe\">\n",
       "  <thead>\n",
       "    <tr style=\"text-align: right;\">\n",
       "      <th></th>\n",
       "      <th>2003-06-30</th>\n",
       "    </tr>\n",
       "  </thead>\n",
       "  <tbody>\n",
       "    <tr>\n",
       "      <th>balance, beginning of period</th>\n",
       "      <td>-4,285,000.0000</td>\n",
       "    </tr>\n",
       "    <tr>\n",
       "      <th>common stock issued</th>\n",
       "      <td>105,034,000.0000</td>\n",
       "    </tr>\n",
       "    <tr>\n",
       "      <th>balance, end of period</th>\n",
       "      <td>4,599,000.0000</td>\n",
       "    </tr>\n",
       "    <tr>\n",
       "      <th>compensation expense on option grants</th>\n",
       "      <td>891,000.0000</td>\n",
       "    </tr>\n",
       "    <tr>\n",
       "      <th>tax benefit on stock options</th>\n",
       "      <td>30,292,000.0000</td>\n",
       "    </tr>\n",
       "    <tr>\n",
       "      <th>other</th>\n",
       "      <td>0.0000</td>\n",
       "    </tr>\n",
       "    <tr>\n",
       "      <th>net income (loss)</th>\n",
       "      <td>50,828,000.0000</td>\n",
       "    </tr>\n",
       "    <tr>\n",
       "      <th>net unrealized gains (losses) on securities</th>\n",
       "      <td>2,593,000.0000</td>\n",
       "    </tr>\n",
       "    <tr>\n",
       "      <th>foreign currency translation adjustments</th>\n",
       "      <td>6,291,000.0000</td>\n",
       "    </tr>\n",
       "    <tr>\n",
       "      <th>total stockholders equity</th>\n",
       "      <td>2,556,833,000.0000</td>\n",
       "    </tr>\n",
       "    <tr>\n",
       "      <th>foreign currency translation adjustment</th>\n",
       "      <td>6,291,000.0000</td>\n",
       "    </tr>\n",
       "    <tr>\n",
       "      <th>comprehensive income (loss)</th>\n",
       "      <td>59,712,000.0000</td>\n",
       "    </tr>\n",
       "  </tbody>\n",
       "</table>\n",
       "</div>"
      ],
      "text/plain": [
       "                                                    2003-06-30\n",
       "balance, beginning of period                   -4,285,000.0000\n",
       "common stock issued                           105,034,000.0000\n",
       "balance, end of period                          4,599,000.0000\n",
       "compensation expense on option grants             891,000.0000\n",
       "tax benefit on stock options                   30,292,000.0000\n",
       "other                                                   0.0000\n",
       "net income (loss)                              50,828,000.0000\n",
       "net unrealized gains (losses) on securities     2,593,000.0000\n",
       "foreign currency translation adjustments        6,291,000.0000\n",
       "total stockholders equity                   2,556,833,000.0000\n",
       "foreign currency translation adjustment         6,291,000.0000\n",
       "comprehensive income (loss)                    59,712,000.0000"
      ]
     },
     "execution_count": 14,
     "metadata": {},
     "output_type": "execute_result"
    }
   ],
   "source": [
    "curr_stockequity"
   ]
  },
  {
   "cell_type": "code",
   "execution_count": null,
   "metadata": {},
   "outputs": [],
   "source": []
  },
  {
   "cell_type": "code",
   "execution_count": null,
   "metadata": {
    "scrolled": true
   },
   "outputs": [],
   "source": []
  },
  {
   "cell_type": "code",
   "execution_count": null,
   "metadata": {},
   "outputs": [],
   "source": []
  },
  {
   "cell_type": "code",
   "execution_count": null,
   "metadata": {},
   "outputs": [],
   "source": []
  },
  {
   "cell_type": "code",
   "execution_count": null,
   "metadata": {
    "collapsed": true
   },
   "outputs": [],
   "source": []
  },
  {
   "cell_type": "code",
   "execution_count": null,
   "metadata": {
    "collapsed": true
   },
   "outputs": [],
   "source": []
  },
  {
   "cell_type": "code",
   "execution_count": null,
   "metadata": {
    "collapsed": true
   },
   "outputs": [],
   "source": []
  },
  {
   "cell_type": "code",
   "execution_count": null,
   "metadata": {},
   "outputs": [],
   "source": []
  },
  {
   "cell_type": "code",
   "execution_count": null,
   "metadata": {
    "collapsed": true
   },
   "outputs": [],
   "source": []
  }
 ],
 "metadata": {
  "kernelspec": {
   "display_name": "Python 3",
   "language": "python",
   "name": "python3"
  },
  "language_info": {
   "codemirror_mode": {
    "name": "ipython",
    "version": 3
   },
   "file_extension": ".py",
   "mimetype": "text/x-python",
   "name": "python",
   "nbconvert_exporter": "python",
   "pygments_lexer": "ipython3",
   "version": "3.6.1"
  }
 },
 "nbformat": 4,
 "nbformat_minor": 2
}
