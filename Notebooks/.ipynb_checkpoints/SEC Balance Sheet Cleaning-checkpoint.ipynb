{
 "cells": [
  {
   "cell_type": "code",
   "execution_count": 1,
   "metadata": {
    "collapsed": true
   },
   "outputs": [],
   "source": [
    "import pandas as pd\n",
    "pd.options.display.float_format = '{:,.4f}'.format\n",
    "import numpy as np\n",
    "import datetime as dt\n",
    "from bs4 import BeautifulSoup as bs\n",
    "import requests\n",
    "import time\n",
    "from sqlalchemy import *\n",
    "from sqlalchemy import create_engine\n",
    "import sqlite3 as sql\n",
    "import operator\n",
    "import re\n",
    "import os\n",
    "os.chdir('C:\\\\Users\\\\Fang\\\\Desktop\\\\Python Trading\\\\Trading\\\\Data\\\\DBs')"
   ]
  },
  {
   "cell_type": "code",
   "execution_count": 2,
   "metadata": {
    "collapsed": true
   },
   "outputs": [],
   "source": [
    "def latest_sec_db_links(formtype, year, qtr, engine):\n",
    "    \n",
    "    if formtype == 'F4':\n",
    "        table_name = 'F4Links'\n",
    "    elif formtype == '10Q':\n",
    "        table_name = 'Links10Q'\n",
    "    elif formtype == '10K':\n",
    "        table_name = 'Links10K'\n",
    "    else:\n",
    "        print('formtypes are F4 10Q and 10K')\n",
    "        return\n",
    "    \n",
    "    query = 'SELECT * FROM {0} WHERE Year = {1} AND Quarter = {2}'.format(table_name, year, qtr)\n",
    "    \n",
    "    db_table = pd.read_sql_query(query, con=engine, index_col = 'idx')\n",
    "    \n",
    "    db_table['Date Filed'] = pd.to_datetime(db_table['Date Filed'])\n",
    "    \n",
    "    return db_table.reset_index(drop = True)\n",
    "\n",
    "\n",
    "def fin_statement_search(text_blob):\n",
    "    if 'statements of operations' in text_blob.lower():\n",
    "        return True\n",
    "    elif 'balance sheets' in text_blob.lower():\n",
    "        return True\n",
    "    elif 'statements of cash flows' in text_blob.lower():\n",
    "        return True\n",
    "    elif 'statements of stockholders' in text_blob.lower():\n",
    "        return True\n",
    "    else:\n",
    "        return False\n"
   ]
  },
  {
   "cell_type": "code",
   "execution_count": 3,
   "metadata": {},
   "outputs": [],
   "source": [
    "def retrieve_statements(sec_url):\n",
    "    \n",
    "    start_time = time.time()\n",
    "    \n",
    "    def check_statement(b):\n",
    "        # Checking for Balance Sheet\n",
    "        if 'balancesheets' in b or 'balance sheets' in b or 'statements of financial conditions' in b:\n",
    "            return 'balancesheet'\n",
    "        elif 'statements of operations' in b or 'statements ofoperations' in b or 'statements of income' in b or 'statements ofincome' in b:\n",
    "            return 'incomestatement'\n",
    "        elif 'statements of stockholders' in b or 'statements ofstockholders' in b:\n",
    "            return 'stockholdersequity'\n",
    "        elif 'statements of cash flows' in b or 'statements of cashflows' in b or 'statements ofcash flows' in b or 'statements ofcashflows' in b:\n",
    "            return 'cashflowstatement'\n",
    "        else:\n",
    "            return ''\n",
    "        \n",
    "    sec_req = requests.get(sec_url).text.lower()\n",
    "    all_hrs = [m.start() for m in re.finditer('<hr', sec_req)]\n",
    "    \n",
    "    sec_pages = [bs(sec_req[all_hrs[i - 1]:all_hrs[i]], 'lxml') for i in range(1,len(all_hrs))]\n",
    "    #sec_pages = list(filter(lambda x: x.find('table') != None, sec_pages))\n",
    "    \n",
    "    i = 0\n",
    "\n",
    "    for page in sec_pages:\n",
    "        titles = [x.text.lower().strip().replace('\\n','') for x in page.find_all('b')]\n",
    "        for b in titles:\n",
    "            if check_statement(b) == 'balancesheet':\n",
    "                balance_sheet = page\n",
    "                break\n",
    "            elif check_statement(b) == 'incomestatement':\n",
    "                income_statement = page\n",
    "                break\n",
    "            elif check_statement(b) == 'stockholdersequity':\n",
    "                stockholders_equity = page\n",
    "                break\n",
    "            elif check_statement(b) == 'cashflowstatement':\n",
    "                cashflow_statement = page\n",
    "                break\n",
    "    print('Completed in {} seconds'.format(time.time() - start_time))\n",
    "    \n",
    "    try:\n",
    "        return balance_sheet, income_statement, cashflow_statement, stockholders_equity\n",
    "    except:\n",
    "        try:\n",
    "            return balance_sheet, income_statement, cashflow_statement\n",
    "        except:\n",
    "            return None\n",
    "\n",
    "def parse_statement_table(curr_statement, cik, filedate):\n",
    "    start_time = time.time()\n",
    "    for b in [x.text.strip().lower() for x in curr_statement.find_all('b')]:\n",
    "        if 'hundreds' in b:\n",
    "            multiplier = 10**2\n",
    "            break\n",
    "        elif 'thousands' in b:\n",
    "            multiplier = 10**3\n",
    "            break\n",
    "        elif 'millions' in b:\n",
    "            multiplier = 10**6\n",
    "            break\n",
    "        else:\n",
    "            multiplier = 1\n",
    "\n",
    "    table = curr_statement.find('table')\n",
    "\n",
    "    rows = []\n",
    "\n",
    "    multiple_periods_exist = False\n",
    "\n",
    "    for row in table.find_all('tr'):\n",
    "        columns = [re.sub(' +',' ',x.text.strip().lower().replace('$', '').replace('\\n',' ')).replace('\\x97','-').replace('\\x92','') for x in row.find_all('td')]\n",
    "        columns = list(filter(lambda x: x != '' and x != ')' and x != '(', columns))\n",
    "        if len(columns) > 1:\n",
    "\n",
    "            if list(filter(lambda x: 'three month' in x, columns)) != []:\n",
    "                check_col = columns\n",
    "                multiple_periods_exist = True\n",
    "            elif multiple_periods_exist == False:\n",
    "                check_col = []\n",
    "\n",
    "            try:\n",
    "                columns = [dt.datetime.strptime(x, '%B %d, %Y').date() for x in columns]\n",
    "                rows.append(columns)\n",
    "                dates = columns\n",
    "            except:\n",
    "                rows.append(columns)\n",
    "\n",
    "    frame_width = max([len(x) for x in rows])\n",
    "    curr_statement_df = pd.DataFrame(columns = range(frame_width-1))\n",
    "    for i, row in enumerate(rows):\n",
    "\n",
    "        if len(row) == frame_width:\n",
    "            curr_statement_df.loc[row[0]] = [float(x.replace('-','0').replace('(','-').replace(',',''))*multiplier for x in row[1:]]\n",
    "\n",
    "    if check_col != []:\n",
    "        dates = dates[2*check_col.index(\"three months ended\"):check_col.index(\"three months ended\") + 2]\n",
    "\n",
    "    df_column, value = max(enumerate(dates), key=operator.itemgetter(1))\n",
    "    curr_statement_df = curr_statement_df[[df_column]]\n",
    "    curr_statement_df.columns = ['values']\n",
    "    curr_statement_df['endingQuarter'] = value\n",
    "    curr_statement_df['CIK'] = cik\n",
    "    curr_statement_df['DateFiled'] = filedate\n",
    "    \n",
    "    print('Completed in {} seconds'.format(time.time() - start_time))\n",
    "    return curr_statement_df"
   ]
  },
  {
   "cell_type": "code",
   "execution_count": null,
   "metadata": {},
   "outputs": [],
   "source": [
    "sec_engine = create_engine('sqlite:///SEC_txt.db', echo=False)\n",
    "latest_db_10q = latest_sec_db_links('10Q', 2003, 3, sec_engine)"
   ]
  },
  {
   "cell_type": "code",
   "execution_count": null,
   "metadata": {
    "scrolled": true
   },
   "outputs": [],
   "source": [
    "sec_fs_engine = create_engine('sqlite:///SEC_statements.db', echo=False)\n",
    "\n",
    "for idx in latest_db_10q.index:\n",
    "    curr_filing = latest_db_10q.loc[idx,:]\n",
    "    curr_filing['Date Filed'] = pd.to_datetime(curr_filing['Date Filed']).date()\n",
    "    sec_url = 'https://www.sec.gov/Archives/' + curr_filing['Filename']\n",
    "    curr_cik = curr_filing['CIK']\n",
    "    file_date = curr_filing['Date Filed']\n",
    "\n",
    "    failed_completely = False\n",
    "    \n",
    "    try:\n",
    "        bs, ins, cf, se = retrieve_statements(sec_url)\n",
    "    except:\n",
    "        try:\n",
    "            bs, ins, cf = retrieve_statements(sec_url)\n",
    "        except:\n",
    "            failed_completely = True\n",
    "            pd.DataFrame(curr_filing).T.to_sql('FailedFilings', con=sec_fs_engine, if_exists='append', index_label = 'idx')\n",
    "\n",
    "    if failed_completely == False:\n",
    "        try:\n",
    "            curr_balance_sheet = parse_statement_table(bs,curr_cik,file_date)\n",
    "            curr_balance_sheet.to_sql('BalanceSheets', con=sec_fs_engine, if_exists='append', index_label = 'idx')\n",
    "        except:\n",
    "            pd.DataFrame(curr_filing).T.to_sql('FailedBalanceSheets', con=sec_fs_engine, if_exists='append', index_label = 'idx')\n",
    "\n",
    "        try:\n",
    "            curr_income_statement = parse_statement_table(ins,curr_cik,file_date)\n",
    "            curr_income_statement.to_sql('IncomeStatements', con=sec_fs_engine, if_exists='append', index_label = 'idx')\n",
    "        except:\n",
    "            pd.DataFrame(curr_filing).T.to_sql('FailedIncomeStatements', con=sec_fs_engine, if_exists='append', index_label = 'idx')\n",
    "\n",
    "        try:\n",
    "            curr_cashflows = parse_statement_table(cf,curr_cik,file_date)\n",
    "            curr_cashflows.to_sql('CashFlows', con=sec_fs_engine, if_exists='append', index_label = 'idx')\n",
    "        except:\n",
    "            pd.DataFrame(curr_filing).T.to_sql('FailedCashFlows', con=sec_fs_engine, if_exists='append', index_label = 'idx')\n",
    "\n",
    "        try:\n",
    "            curr_stockequity = parse_statement_table(se,curr_cik,file_date)\n",
    "            curr_stockequity.to_sql('StockholdersEquity', con=sec_fs_engine, if_exists='append', index_label = 'idx')\n",
    "        except:\n",
    "            pd.DataFrame(curr_filing).T.to_sql('FailedStockholdersEquity', con=sec_fs_engine, if_exists='append', index_label = 'idx')"
   ]
  },
  {
   "cell_type": "code",
   "execution_count": 4,
   "metadata": {
    "scrolled": true
   },
   "outputs": [],
   "source": [
    "sec_url = 'https://www.sec.gov/Archives/edgar/data/225261/0001047469-03-023135.txt'"
   ]
  },
  {
   "cell_type": "code",
   "execution_count": 6,
   "metadata": {},
   "outputs": [
    {
     "name": "stdout",
     "output_type": "stream",
     "text": [
      "Completed in 0.432234525680542 seconds\n"
     ]
    }
   ],
   "source": [
    "bs, ins, cf = retrieve_statements(sec_url)"
   ]
  },
  {
   "cell_type": "code",
   "execution_count": 9,
   "metadata": {},
   "outputs": [
    {
     "data": {
      "text/plain": [
       "<html><body><hr noshade=\"\"/>\n",
       "<!-- zeq.=1,seq=4,efw=\"2114096\",cp=\"dmi furniture inc.\",dn=\"1\",chk=680605,folio='4',file='disk016:[03chi2.03chi3532]dg3532a.;4',user='dholbro',cd=';1-jul-2003;02:48' -->\n",
       "<a name=\"page_dg3532_1_5\"> </a>\n",
       "<p align=\"center\"><font size=\"2\"><a name=\"dg3532_dmi_furniture,_inc._consolidat__dmi03431\"> </a>\n",
       "<a name=\"toc_dg3532_2\"> </a>\n",
       "<br/></font><font size=\"2\"><b>dmi furniture, inc.<br/>  consolidated statements of cash flows<br/>  (amounts in thousands)<br/>  (unaudited)    <br/> </b></font></p>\n",
       "<!-- user-specified tagged table -->\n",
       "<table border=\"0\" cellpadding=\"0\" cellspacing=\"0\" width=\"85%\">\n",
       "<tr valign=\"bottom\">\n",
       "<th align=\"left\" colspan=\"4\"><font size=\"2\"> </font><br/></th>\n",
       "<th width=\"2%\"><font size=\"1\"> </font></th>\n",
       "<th align=\"center\" colspan=\"5\"><font size=\"1\"><b>nine months ended</b></font></th></tr></table></body></html>"
      ]
     },
     "execution_count": 9,
     "metadata": {},
     "output_type": "execute_result"
    }
   ],
   "source": [
    "cf"
   ]
  },
  {
   "cell_type": "code",
   "execution_count": null,
   "metadata": {
    "scrolled": true
   },
   "outputs": [],
   "source": []
  },
  {
   "cell_type": "code",
   "execution_count": null,
   "metadata": {},
   "outputs": [],
   "source": []
  },
  {
   "cell_type": "code",
   "execution_count": null,
   "metadata": {},
   "outputs": [],
   "source": []
  },
  {
   "cell_type": "code",
   "execution_count": null,
   "metadata": {
    "collapsed": true
   },
   "outputs": [],
   "source": []
  },
  {
   "cell_type": "code",
   "execution_count": null,
   "metadata": {
    "collapsed": true
   },
   "outputs": [],
   "source": []
  },
  {
   "cell_type": "code",
   "execution_count": null,
   "metadata": {
    "collapsed": true
   },
   "outputs": [],
   "source": []
  },
  {
   "cell_type": "code",
   "execution_count": null,
   "metadata": {},
   "outputs": [],
   "source": []
  },
  {
   "cell_type": "code",
   "execution_count": null,
   "metadata": {
    "collapsed": true
   },
   "outputs": [],
   "source": []
  }
 ],
 "metadata": {
  "kernelspec": {
   "display_name": "Python 3",
   "language": "python",
   "name": "python3"
  },
  "language_info": {
   "codemirror_mode": {
    "name": "ipython",
    "version": 3
   },
   "file_extension": ".py",
   "mimetype": "text/x-python",
   "name": "python",
   "nbconvert_exporter": "python",
   "pygments_lexer": "ipython3",
   "version": "3.6.1"
  }
 },
 "nbformat": 4,
 "nbformat_minor": 2
}
