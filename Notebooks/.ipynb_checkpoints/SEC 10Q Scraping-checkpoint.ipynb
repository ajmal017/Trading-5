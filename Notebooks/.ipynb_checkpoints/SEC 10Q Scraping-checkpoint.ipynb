{
 "cells": [
  {
   "cell_type": "code",
   "execution_count": 98,
   "metadata": {},
   "outputs": [],
   "source": [
    "import pandas as pd\n",
    "import numpy as np\n",
    "import datetime as dt\n",
    "from bs4 import BeautifulSoup as bs\n",
    "import requests\n",
    "import time\n",
    "from sqlalchemy import *\n",
    "from sqlalchemy import create_engine\n",
    "import sqlite3 as sql\n",
    "\n",
    "import os\n",
    "os.chdir('C:\\\\Users\\\\Fang\\\\Desktop\\\\Python Trading\\\\Trading\\\\Data\\\\DBs')"
   ]
  },
  {
   "cell_type": "code",
   "execution_count": 99,
   "metadata": {
    "collapsed": true
   },
   "outputs": [],
   "source": [
    "def latest_sec_db_links(formtype, year, qtr, engine):\n",
    "    \n",
    "    if formtype == 'F4':\n",
    "        table_name = 'F4Links'\n",
    "    elif formtype == '10Q':\n",
    "        table_name = 'Links10Q'\n",
    "    elif formtype == '10K':\n",
    "        table_name = 'Links10K'\n",
    "    else:\n",
    "        print('formtypes are F4 10Q and 10K')\n",
    "        return\n",
    "    \n",
    "    query = 'SELECT * FROM {0} WHERE Year = {1} AND Quarter = {2}'.format(table_name, year, qtr)\n",
    "    \n",
    "    db_table = pd.read_sql_query(query, con=engine, index_col = 'idx')\n",
    "    \n",
    "    db_table['DateFiled'] = pd.to_datetime(db_table['DateFiled'])\n",
    "    \n",
    "    return db_table.reset_index(drop = True)\n",
    "\n",
    "sec_engine = create_engine('sqlite:///SEC.db', echo=False)\n",
    "\n"
   ]
  },
  {
   "cell_type": "code",
   "execution_count": null,
   "metadata": {},
   "outputs": [
    {
     "name": "stdout",
     "output_type": "stream",
     "text": [
      "Completed in 1952.8416481018066 seconds\n",
      "For 2003 Q3\n"
     ]
    }
   ],
   "source": [
    "year = 2003\n",
    "qtr = 3\n",
    "\n",
    "for year in range(2003, 2019):\n",
    "    for qtr in range(1,5):\n",
    "        start_time = time.time()\n",
    "        if year == 2003 and qtr < 3:\n",
    "            continue\n",
    "        else:\n",
    "            latest_db_10q = latest_sec_db_links('10Q', year, qtr, sec_engine)\n",
    "            \n",
    "            htms = pd.DataFrame(columns = latest_db_10q.columns.tolist() + ['Filename'])\n",
    "            txts = pd.DataFrame(columns = latest_db_10q.columns.tolist() + ['Filename'])\n",
    "            nones = pd.DataFrame(columns = latest_db_10q.columns.tolist() + ['Filename'])\n",
    "            \n",
    "            for idx in latest_db_10q.index:\n",
    "                crawler_url = latest_db_10q.loc[idx,'URL']\n",
    "                crawler_docs = bs(requests.get(crawler_url).text,'lxml').select_one('table[class=\"tableFile\"]')\n",
    "                crawler_10q_url = 'https://www.sec.gov' + crawler_docs.find_all('tr')[1].find('a').attrs['href']\n",
    "                filetype = crawler_10q_url.split('.')[-1]\n",
    "                if filetype == 'htm':\n",
    "                    htms.loc[idx,:] = latest_db_10q.loc[idx,:]\n",
    "                    htms.loc[idx,'Filename'] = crawler_10q_url\n",
    "                elif filetype == 'txt':\n",
    "                    txts.loc[idx,:] = latest_db_10q.loc[idx,:]\n",
    "                    txts.loc[idx,'Filename'] = crawler_10q_url\n",
    "                else:\n",
    "                    nones.loc[idx,:] = latest_db_10q.loc[idx,:]\n",
    "                    nones.loc[idx,'Filename'] = crawler_10q_url\n",
    "\n",
    "            htms = htms.reset_index(drop = True)\n",
    "            txts = txts.reset_index(drop = True)\n",
    "            nones = nones.reset_index(drop = True)\n",
    "\n",
    "            sec_htm_engine = create_engine('sqlite:///SEC_htm.db', echo=False)\n",
    "            \n",
    "            htms.to_sql('Links10Qs', con=sec_htm_engine, if_exists='append', index_label = 'idx')\n",
    "            txts.to_sql('Links10Qs_txts', con=sec_htm_engine, if_exists='append', index_label = 'idx')\n",
    "            nones.to_sql('Links10Qs_nas', con=sec_htm_engine, if_exists='append', index_label = 'idx')\n",
    "        print('Completed in {} seconds'.format(time.time() - start_time))\n",
    "        print('For {0} Q{1}'.format(year,qtr))"
   ]
  },
  {
   "cell_type": "code",
   "execution_count": null,
   "metadata": {},
   "outputs": [],
   "source": []
  },
  {
   "cell_type": "code",
   "execution_count": null,
   "metadata": {},
   "outputs": [],
   "source": []
  },
  {
   "cell_type": "code",
   "execution_count": null,
   "metadata": {},
   "outputs": [],
   "source": []
  },
  {
   "cell_type": "code",
   "execution_count": null,
   "metadata": {
    "scrolled": false
   },
   "outputs": [],
   "source": []
  },
  {
   "cell_type": "code",
   "execution_count": null,
   "metadata": {
    "collapsed": true
   },
   "outputs": [],
   "source": []
  }
 ],
 "metadata": {
  "kernelspec": {
   "display_name": "Python 3",
   "language": "python",
   "name": "python3"
  },
  "language_info": {
   "codemirror_mode": {
    "name": "ipython",
    "version": 3
   },
   "file_extension": ".py",
   "mimetype": "text/x-python",
   "name": "python",
   "nbconvert_exporter": "python",
   "pygments_lexer": "ipython3",
   "version": "3.6.1"
  }
 },
 "nbformat": 4,
 "nbformat_minor": 2
}
