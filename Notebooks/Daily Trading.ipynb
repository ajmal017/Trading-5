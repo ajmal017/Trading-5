{
 "cells": [
  {
   "cell_type": "markdown",
   "metadata": {},
   "source": [
    "# Portfolio Methodolgy\n",
    "\n",
    "1. DGI - Rebalance every 6 months picking around 10 - 30 names from CA and US universe\n",
    "    - Add names slowly, 2-3 names a month\n",
    "    - GTC Stop Limit of 3% on each name\n",
    "2. VAA/PAA - Rebalance every month on trading day 1\n",
    "3. LEAPS - Rebalance every 3 months picking around 3 - 8 names from US universe (high growth potential names)\n",
    "    - Current Holdings: MU AMD MSFT TTWO\n",
    "    - AMD Earnings: Oct 22\n",
    "    - MSFT Earnings: Oct 24\n",
    "    - TTWO Earnings: Nov 5\n",
    "    - MU Earnings: Dec 17\n",
    "4. Short Vol - Short SPX Spreads at the beginning of the month and hold until second or last week to maturity\n",
    "    - Potentially long UVXY/VXX puts at beginning of the month with bracket orders\n",
    "5. Barbell Hedging\n",
    "    - Long SPX puts or VIX calls during high crisis potential moments\n",
    "        - Initiate bracket orders with SPX Puts: +/- 30% of Cost Basis\n",
    "    - Check VIX Futures volume trends and see impact of Feb 5, 2018\n",
    "    - Only trade 4 naked SPX puts in Reg accounts\n",
    "        - Sell half into profits/losses \n",
    "    - Only trade 6 3:1 Put back ratios in Reg Account: Leg into these positions because of how illiquid the market is\n",
    "    - Take losses immediately (10% - 30% of Cost Basis)\n",
    "    - NEVER EVER try to put on a position of the market is illiquid: YOU WILL get filled at horrible prices\n",
    "    - **Put on 1-5 Delta strangles on the open of the day and close position at the end of the day around 2 pm to 3 pm**\n",
    "6. Treasuries - Re-establish monthly bills beginning of month or at maturity\n",
    "\n",
    "##### Strategy Weights\n",
    "|Strategy|Weight|Last Rebal|Next Check|Next Full Rebal|\n",
    "|-|-|-|-|-|\n",
    "|DGI|15%|10/01/2018|11/01/2018|1/2/2019|\n",
    "|VAA/PAA|15%|10/01/2018|11/01/2018|11/01/2018|\n",
    "|LEAPs|1.5%|10/4/2018|10/22/2018|12/1/2018|\n",
    "|Short Vol|2%|10/4/2018|10/5/2018|10/12/2018|\n",
    "|Barbell Hedging|1.5%||||\n",
    "|Treasuries|60%|10/4/2018|10/24/2018|10/5/2018|"
   ]
  },
  {
   "cell_type": "code",
   "execution_count": 1,
   "metadata": {},
   "outputs": [
    {
     "data": {
      "text/html": [
       "<script>requirejs.config({paths: { 'plotly': ['https://cdn.plot.ly/plotly-latest.min']},});if(!window.Plotly) {{require(['plotly'],function(plotly) {window.Plotly=plotly;});}}</script>"
      ],
      "text/vnd.plotly.v1+html": [
       "<script>requirejs.config({paths: { 'plotly': ['https://cdn.plot.ly/plotly-latest.min']},});if(!window.Plotly) {{require(['plotly'],function(plotly) {window.Plotly=plotly;});}}</script>"
      ]
     },
     "metadata": {},
     "output_type": "display_data"
    }
   ],
   "source": [
    "# Importing necessary models\n",
    "import smtplib\n",
    "import pandas as pd\n",
    "import numpy as np\n",
    "import datetime as dt\n",
    "import pandas.stats.moments as st\n",
    "import time\n",
    "%matplotlib inline\n",
    "import plotly.plotly as py\n",
    "import plotly.graph_objs as go\n",
    "from plotly.offline import download_plotlyjs, init_notebook_mode, plot, iplot\n",
    "\n",
    "init_notebook_mode(connected=True)\n",
    "\n",
    "import os\n",
    "main_dir = os.getcwd()\n",
    "\n",
    "os.chdir('C:\\\\Users\\\\Fang\\\\Desktop\\\\Python Trading\\\\Trading\\\\Trading\\\\Modules\\\\DataCollection')\n",
    "\n",
    "from alphavantage import *\n",
    "from yahoo_query import *\n",
    "\n",
    "os.chdir(main_dir)"
   ]
  },
  {
   "cell_type": "markdown",
   "metadata": {},
   "source": [
    "# Allocate Smartly Checking"
   ]
  },
  {
   "cell_type": "code",
   "execution_count": null,
   "metadata": {},
   "outputs": [
    {
     "data": {
      "text/html": [
       "<div>\n",
       "<style>\n",
       "    .dataframe thead tr:only-child th {\n",
       "        text-align: right;\n",
       "    }\n",
       "\n",
       "    .dataframe thead th {\n",
       "        text-align: left;\n",
       "    }\n",
       "\n",
       "    .dataframe tbody tr th {\n",
       "        vertical-align: top;\n",
       "    }\n",
       "</style>\n",
       "<table border=\"1\" class=\"dataframe\">\n",
       "  <thead>\n",
       "    <tr style=\"text-align: right;\">\n",
       "      <th></th>\n",
       "      <th>Allocation</th>\n",
       "      <th>price</th>\n",
       "      <th>Market Value</th>\n",
       "      <th>Holdings</th>\n",
       "    </tr>\n",
       "    <tr>\n",
       "      <th>symbol</th>\n",
       "      <th></th>\n",
       "      <th></th>\n",
       "      <th></th>\n",
       "      <th></th>\n",
       "    </tr>\n",
       "  </thead>\n",
       "  <tbody>\n",
       "    <tr>\n",
       "      <th>DBC</th>\n",
       "      <td>0.014</td>\n",
       "      <td>17.735</td>\n",
       "      <td>2800.0</td>\n",
       "      <td>158.0</td>\n",
       "    </tr>\n",
       "    <tr>\n",
       "      <th>HYG</th>\n",
       "      <td>0.014</td>\n",
       "      <td>85.015</td>\n",
       "      <td>2800.0</td>\n",
       "      <td>33.0</td>\n",
       "    </tr>\n",
       "    <tr>\n",
       "      <th>IEF</th>\n",
       "      <td>0.417</td>\n",
       "      <td>100.235</td>\n",
       "      <td>83400.0</td>\n",
       "      <td>832.0</td>\n",
       "    </tr>\n",
       "    <tr>\n",
       "      <th>IWM</th>\n",
       "      <td>0.014</td>\n",
       "      <td>155.995</td>\n",
       "      <td>2800.0</td>\n",
       "      <td>18.0</td>\n",
       "    </tr>\n",
       "    <tr>\n",
       "      <th>LQD</th>\n",
       "      <td>0.500</td>\n",
       "      <td>112.855</td>\n",
       "      <td>100000.0</td>\n",
       "      <td>886.0</td>\n",
       "    </tr>\n",
       "    <tr>\n",
       "      <th>QQQ</th>\n",
       "      <td>0.014</td>\n",
       "      <td>174.360</td>\n",
       "      <td>2800.0</td>\n",
       "      <td>16.0</td>\n",
       "    </tr>\n",
       "    <tr>\n",
       "      <th>SPY</th>\n",
       "      <td>0.014</td>\n",
       "      <td>277.640</td>\n",
       "      <td>2800.0</td>\n",
       "      <td>10.0</td>\n",
       "    </tr>\n",
       "    <tr>\n",
       "      <th>VNQ</th>\n",
       "      <td>0.014</td>\n",
       "      <td>77.770</td>\n",
       "      <td>2800.0</td>\n",
       "      <td>36.0</td>\n",
       "    </tr>\n",
       "  </tbody>\n",
       "</table>\n",
       "</div>"
      ],
      "text/plain": [
       "        Allocation    price  Market Value  Holdings\n",
       "symbol                                             \n",
       "DBC          0.014   17.735        2800.0     158.0\n",
       "HYG          0.014   85.015        2800.0      33.0\n",
       "IEF          0.417  100.235       83400.0     832.0\n",
       "IWM          0.014  155.995        2800.0      18.0\n",
       "LQD          0.500  112.855      100000.0     886.0\n",
       "QQQ          0.014  174.360        2800.0      16.0\n",
       "SPY          0.014  277.640        2800.0      10.0\n",
       "VNQ          0.014   77.770        2800.0      36.0"
      ]
     },
     "execution_count": 2,
     "metadata": {},
     "output_type": "execute_result"
    }
   ],
   "source": [
    "# Short Call Assignment Price - 287.5\n",
    "\n",
    "portfolio_value =  200000\n",
    "\n",
    "as_lst = ['DBC',\n",
    "        'HYG',\n",
    "        'IEF',\n",
    "        'IWM',\n",
    "        'LQD',\n",
    "        'QQQ',\n",
    "        'SPY',\n",
    "        'VNQ']\n",
    "as_wgt = [0.014,\n",
    "        0.014,\n",
    "        0.417,\n",
    "        0.014,\n",
    "        0.500,\n",
    "        0.014,\n",
    "        0.014,\n",
    "        0.014]\n",
    "\n",
    "as_df = pd.DataFrame({'Allocation': as_wgt}, index = as_lst)\n",
    "curr_spot = curr_batch_quotes(as_lst)\n",
    "as_df = pd.concat([as_df,curr_spot[['price']]], axis = 1)\n",
    "\n",
    "as_df['Market Value'] = portfolio_value*as_df.Allocation\n",
    "as_df['Holdings'] = np.round(as_df['Market Value']/as_df.price,0)\n",
    "\n",
    "as_df"
   ]
  },
  {
   "cell_type": "markdown",
   "metadata": {},
   "source": [
    "## Checking market correlations"
   ]
  },
  {
   "cell_type": "code",
   "execution_count": null,
   "metadata": {},
   "outputs": [],
   "source": [
    "rolling_window = 60\n",
    "plot_window = 10000\n",
    "\n",
    "corr_df = check_mkt_corr(rolling_window, plot_window)\n",
    "print(corr_df.tail())"
   ]
  },
  {
   "cell_type": "code",
   "execution_count": null,
   "metadata": {
    "collapsed": true
   },
   "outputs": [],
   "source": []
  },
  {
   "cell_type": "markdown",
   "metadata": {},
   "source": [
    "## Barbell Hedging"
   ]
  },
  {
   "cell_type": "code",
   "execution_count": null,
   "metadata": {},
   "outputs": [],
   "source": [
    "spxchain = all_options(\"^SPX\",50,5)\n",
    "\n",
    "puts = spxchain[(spxchain['Type'] == 'put') &\n",
    "                (spxchain['Strike'] <= spxchain['Underlying_Price'])].reset_index(drop = True)\n",
    "\n",
    "#curr_dte = 5\n",
    "long_contracts = 2\n",
    "max_distance = 50\n",
    "\n",
    "ratios = []\n",
    "\n",
    "for curr_dte in puts.DTE.drop_duplicates().tolist():\n",
    "    \n",
    "    curr_puts = puts[puts.DTE == curr_dte].sort_values('Strike', ascending = False).reset_index(drop = True)\n",
    "\n",
    "    for idx, row in curr_puts.iterrows():\n",
    "        short = row\n",
    "        longs = curr_puts[(curr_puts.Strike < short.Strike) & (short.Strike - curr_puts.Strike <= 60)]\n",
    "        if len(longs) > 0:\n",
    "            longs['Short_Strike'] = short.Strike\n",
    "            longs['Short_Mid'] = short.Mid\n",
    "            longs = longs[longs.Mid*long_contracts < longs.Short_Mid]\n",
    "            ratios.append(longs)\n",
    "ratio_df = pd.concat(ratios, axis = 0)\n",
    "ratio_df['Credit'] = ratio_df['Short_Mid'] - ratio_df['Mid']*long_contracts\n",
    "ratio_df = ratio_df.sort_values('Credit', ascending = False).reset_index()"
   ]
  },
  {
   "cell_type": "code",
   "execution_count": null,
   "metadata": {},
   "outputs": [],
   "source": [
    "ratio_df[(ratio_df.Short_Strike - ratio_df.Strike < 45) &\n",
    "         (ratio_df.DTE < 19)]"
   ]
  },
  {
   "cell_type": "code",
   "execution_count": null,
   "metadata": {
    "collapsed": true
   },
   "outputs": [],
   "source": []
  }
 ],
 "metadata": {
  "kernelspec": {
   "display_name": "Python 3",
   "language": "python",
   "name": "python3"
  },
  "language_info": {
   "codemirror_mode": {
    "name": "ipython",
    "version": 3
   },
   "file_extension": ".py",
   "mimetype": "text/x-python",
   "name": "python",
   "nbconvert_exporter": "python",
   "pygments_lexer": "ipython3",
   "version": "3.6.1"
  }
 },
 "nbformat": 4,
 "nbformat_minor": 2
}
