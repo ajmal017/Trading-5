{
 "cells": [
  {
   "cell_type": "markdown",
   "metadata": {},
   "source": [
    "# Portfolio Methodolgy\n",
    "\n",
    "1. DGI - Rebalance every 6 months picking around 10 - 30 names from CA and US universe\n",
    "    - Add names slowly, 2-3 names a month\n",
    "    - GTC Stop Limit of 3% on each name\n",
    "2. VAA/PAA - Rebalance every month on trading day 1\n",
    "3. LEAPS - Rebalance every 3 months picking around 3 - 8 names from US universe (high growth potential names)\n",
    "    - Current Holdings: MU AMD MSFT TTWO\n",
    "    - AMD Earnings: Oct 22\n",
    "    - MSFT Earnings: Oct 24\n",
    "    - TTWO Earnings: Nov 5\n",
    "    - MU Earnings: Dec 17\n",
    "4. Short Vol - Short SPX Spreads at the beginning of the month and hold until second or last week to maturity\n",
    "    - Potentially long UVXY/VXX puts at beginning of the month with bracket orders\n",
    "5. Barbell Hedging\n",
    "    - Long SPX puts or VIX calls during high crisis potential moments\n",
    "        - Initiate bracket orders with SPX Puts: +/- 30% of Cost Basis\n",
    "    - Check VIX Futures volume trends and see impact of Feb 5, 2018\n",
    "    - Only trade 4 naked SPX puts in Reg accounts\n",
    "        - Sell half into profits/losses \n",
    "    - Only trade 6 3:1 Put back ratios in Reg Account: Leg into these positions because of how illiquid the market is\n",
    "    - Take losses immediately (10% - 30% of Cost Basis)\n",
    "    - NEVER EVER try to put on a position of the market is illiquid: YOU WILL get filled at horrible prices\n",
    "    - **Put on 1-5 Delta strangles on the open of the day and close position at the end of the day around 2 pm to 3 pm**\n",
    "6. Treasuries - Re-establish monthly bills beginning of month or at maturity\n",
    "\n",
    "##### Strategy Weights\n",
    "|Strategy|Weight|Last Rebal|Next Check|Next Full Rebal|\n",
    "|-|-|-|-|-|\n",
    "|DGI|15%|10/01/2018|11/01/2018|1/2/2019|\n",
    "|VAA/PAA|15%|10/01/2018|11/01/2018|11/01/2018|\n",
    "|LEAPs|1.5%|10/4/2018|10/22/2018|12/1/2018|\n",
    "|Short Vol|2%|10/4/2018|10/5/2018|10/12/2018|\n",
    "|Barbell Hedging|1.5%||||\n",
    "|Treasuries|60%|10/4/2018|10/24/2018|10/5/2018|"
   ]
  },
  {
   "cell_type": "markdown",
   "metadata": {},
   "source": [
    "## Key Modules to Run\n",
    "\n",
    "- fundamental_data_collect.py to run monthly to collected latest financial statements and key stats from yahoo\n",
    "- finstatement_cleaning.py to run right after fundamental_data_collect.py to create cleaned data for earnings plays\n",
    "\n"
   ]
  },
  {
   "cell_type": "code",
   "execution_count": 1,
   "metadata": {},
   "outputs": [
    {
     "data": {
      "text/html": [
       "<script>requirejs.config({paths: { 'plotly': ['https://cdn.plot.ly/plotly-latest.min']},});if(!window.Plotly) {{require(['plotly'],function(plotly) {window.Plotly=plotly;});}}</script>"
      ],
      "text/vnd.plotly.v1+html": [
       "<script>requirejs.config({paths: { 'plotly': ['https://cdn.plot.ly/plotly-latest.min']},});if(!window.Plotly) {{require(['plotly'],function(plotly) {window.Plotly=plotly;});}}</script>"
      ]
     },
     "metadata": {},
     "output_type": "display_data"
    },
    {
     "name": "stderr",
     "output_type": "stream",
     "text": [
      "C:\\Users\\Fang\\Anaconda3\\lib\\site-packages\\sklearn\\cross_validation.py:44: DeprecationWarning:\n",
      "\n",
      "This module was deprecated in version 0.18 in favor of the model_selection module into which all the refactored classes and functions are moved. Also note that the interface of the new CV iterators are different from that of this module. This module will be removed in 0.20.\n",
      "\n"
     ]
    }
   ],
   "source": [
    "# Importing necessary models\n",
    "import warnings\n",
    "warnings.filterwarnings('ignore')\n",
    "\n",
    "import smtplib\n",
    "import pandas as pd\n",
    "import numpy as np\n",
    "import datetime as dt\n",
    "import pandas.stats.moments as st\n",
    "import time\n",
    "%matplotlib inline\n",
    "import plotly.plotly as py\n",
    "import plotly.graph_objs as go\n",
    "from plotly.offline import download_plotlyjs, init_notebook_mode, plot, iplot\n",
    "\n",
    "init_notebook_mode(connected=True)\n",
    "\n",
    "import os\n",
    "main_dir = os.getcwd()\n",
    "\n",
    "os.chdir('C:\\\\Users\\\\Fang\\\\Desktop\\\\Python Trading\\\\Trading\\\\Trading\\\\Modules\\\\DataCollection')\n",
    "\n",
    "from alphavantage import *\n",
    "from yahoo_query import *\n",
    "from option_slam_earnings import *\n",
    "\n",
    "os.chdir('C:\\\\Users\\\\Fang\\\\Desktop\\\\Python Trading\\\\Trading\\\\Trading\\\\Modules\\\\Options')\n",
    "from optionsFunctions import *\n",
    "\n",
    "os.chdir('C:\\\\Users\\\\Fang\\\\Desktop\\\\Python Trading\\\\Trading\\\\Trading\\\\Modules\\\\Earnings')\n",
    "from yahoo_earnings import *\n",
    "from new_earnings_setup import *\n",
    "\n",
    "os.chdir(main_dir)"
   ]
  },
  {
   "cell_type": "markdown",
   "metadata": {},
   "source": [
    "# Allocate Smartly Checking"
   ]
  },
  {
   "cell_type": "code",
   "execution_count": null,
   "metadata": {},
   "outputs": [],
   "source": [
    "# Short Call Assignment Price - 287.5\n",
    "\n",
    "portfolio_value =  200000\n",
    "\n",
    "as_lst = ['DBC',\n",
    "        'HYG',\n",
    "        'IEF',\n",
    "        'IWM',\n",
    "        'LQD',\n",
    "        'QQQ',\n",
    "        'SPY',\n",
    "        'VNQ']\n",
    "as_wgt = [0.014,\n",
    "        0.014,\n",
    "        0.417,\n",
    "        0.014,\n",
    "        0.500,\n",
    "        0.014,\n",
    "        0.014,\n",
    "        0.014]\n",
    "\n",
    "as_df = pd.DataFrame({'Allocation': as_wgt}, index = as_lst)\n",
    "curr_spot = curr_batch_quotes(as_lst)\n",
    "as_df = pd.concat([as_df,curr_spot[['price']]], axis = 1)\n",
    "\n",
    "as_df['Market Value'] = portfolio_value*as_df.Allocation\n",
    "as_df['Holdings'] = np.round(as_df['Market Value']/as_df.price,0)\n",
    "\n",
    "as_df"
   ]
  },
  {
   "cell_type": "markdown",
   "metadata": {},
   "source": [
    "## Checking market correlations"
   ]
  },
  {
   "cell_type": "code",
   "execution_count": null,
   "metadata": {},
   "outputs": [],
   "source": [
    "rolling_window = 60\n",
    "plot_window = 10000\n",
    "\n",
    "corr_df, sector_df = check_mkt_corr(rolling_window, plot_window)\n",
    "print(corr_df.tail())"
   ]
  },
  {
   "cell_type": "code",
   "execution_count": null,
   "metadata": {},
   "outputs": [],
   "source": [
    "((sector_df.dropna() + 1).cumprod()-1).tail()"
   ]
  },
  {
   "cell_type": "markdown",
   "metadata": {},
   "source": [
    "## Earnings\n",
    "\n",
    "**Key modules to run**\n",
    "- new_earnings_setup.py for given date in string form 'yyyy-mm-dd': this gives the latest input data for earnings_prediction\n",
    "- earnings_prediction.py for determining position to take on earnings name"
   ]
  },
  {
   "cell_type": "code",
   "execution_count": 2,
   "metadata": {
    "scrolled": true
   },
   "outputs": [
    {
     "name": "stdout",
     "output_type": "stream",
     "text": [
      "Accepted: BOH\n",
      "4.17% Completed\n",
      "0 total failures\n",
      "Accepted: BMRC\n",
      "8.33% Completed\n",
      "0 total failures\n",
      "Accepted: HBCP\n",
      "12.50% Completed\n",
      "0 total failures\n",
      "Accepted: CCBG\n",
      "16.67% Completed\n",
      "0 total failures\n",
      "Accepted: SALT\n",
      "20.83% Completed\n",
      "0 total failures\n",
      "Accepted: ONB\n",
      "25.00% Completed\n",
      "0 total failures\n",
      "Accepted: CBU\n",
      "29.17% Completed\n",
      "0 total failures\n",
      "Accepted: CADE\n",
      "33.33% Completed\n",
      "0 total failures\n",
      "Accepted: OPB\n",
      "37.50% Completed\n",
      "0 total failures\n",
      "Accepted: TCF\n",
      "41.67% Completed\n",
      "0 total failures\n",
      "Failed: OPOF\n",
      "45.83% Completed\n",
      "1 total failures\n",
      "Accepted: HAL\n",
      "50.00% Completed\n",
      "1 total failures\n",
      "Accepted: KMB\n",
      "54.17% Completed\n",
      "1 total failures\n",
      "Accepted: MFSF\n",
      "58.33% Completed\n",
      "1 total failures\n",
      "Accepted: THR\n",
      "62.50% Completed\n",
      "1 total failures\n",
      "Accepted: HAS\n",
      "66.67% Completed\n",
      "1 total failures\n",
      "Accepted: IQV\n",
      "70.83% Completed\n",
      "1 total failures\n",
      "Accepted: USAT\n",
      "75.00% Completed\n",
      "1 total failures\n",
      "Accepted: PII\n",
      "79.17% Completed\n",
      "1 total failures\n",
      "Failed: UTMD\n",
      "83.33% Completed\n",
      "2 total failures\n",
      "Accepted: LII\n",
      "87.50% Completed\n",
      "2 total failures\n",
      "Failed: MLI\n",
      "91.67% Completed\n",
      "3 total failures\n",
      "Failed: SIFY\n",
      "95.83% Completed\n",
      "4 total failures\n",
      "Accepted: SOHU\n",
      "100.00% Completed\n",
      "4 total failures\n"
     ]
    },
    {
     "name": "stderr",
     "output_type": "stream",
     "text": [
      "C:\\Users\\Fang\\Desktop\\Python Trading\\Trading\\Trading\\Modules\\Earnings\\finstatement_cleaning.py:40: SettingWithCopyWarning:\n",
      "\n",
      "\n",
      "A value is trying to be set on a copy of a slice from a DataFrame.\n",
      "Try using .loc[row_indexer,col_indexer] = value instead\n",
      "\n",
      "See the caveats in the documentation: http://pandas.pydata.org/pandas-docs/stable/indexing.html#indexing-view-versus-copy\n",
      "\n",
      "C:\\Users\\Fang\\Desktop\\Python Trading\\Trading\\Trading\\Modules\\Earnings\\finstatement_cleaning.py:41: SettingWithCopyWarning:\n",
      "\n",
      "\n",
      "A value is trying to be set on a copy of a slice from a DataFrame.\n",
      "Try using .loc[row_indexer,col_indexer] = value instead\n",
      "\n",
      "See the caveats in the documentation: http://pandas.pydata.org/pandas-docs/stable/indexing.html#indexing-view-versus-copy\n",
      "\n",
      "C:\\Users\\Fang\\Desktop\\Python Trading\\Trading\\Trading\\Modules\\Earnings\\finstatement_cleaning.py:44: SettingWithCopyWarning:\n",
      "\n",
      "\n",
      "A value is trying to be set on a copy of a slice from a DataFrame.\n",
      "Try using .loc[row_indexer,col_indexer] = value instead\n",
      "\n",
      "See the caveats in the documentation: http://pandas.pydata.org/pandas-docs/stable/indexing.html#indexing-view-versus-copy\n",
      "\n",
      "C:\\Users\\Fang\\Desktop\\Python Trading\\Trading\\Trading\\Modules\\Earnings\\finstatement_cleaning.py:47: SettingWithCopyWarning:\n",
      "\n",
      "\n",
      "A value is trying to be set on a copy of a slice from a DataFrame.\n",
      "Try using .loc[row_indexer,col_indexer] = value instead\n",
      "\n",
      "See the caveats in the documentation: http://pandas.pydata.org/pandas-docs/stable/indexing.html#indexing-view-versus-copy\n",
      "\n",
      "C:\\Users\\Fang\\Desktop\\Python Trading\\Trading\\Trading\\Modules\\Earnings\\finstatement_cleaning.py:50: SettingWithCopyWarning:\n",
      "\n",
      "\n",
      "A value is trying to be set on a copy of a slice from a DataFrame.\n",
      "Try using .loc[row_indexer,col_indexer] = value instead\n",
      "\n",
      "See the caveats in the documentation: http://pandas.pydata.org/pandas-docs/stable/indexing.html#indexing-view-versus-copy\n",
      "\n",
      "C:\\Users\\Fang\\Desktop\\Python Trading\\Trading\\Trading\\Modules\\Earnings\\finstatement_cleaning.py:51: SettingWithCopyWarning:\n",
      "\n",
      "\n",
      "A value is trying to be set on a copy of a slice from a DataFrame.\n",
      "Try using .loc[row_indexer,col_indexer] = value instead\n",
      "\n",
      "See the caveats in the documentation: http://pandas.pydata.org/pandas-docs/stable/indexing.html#indexing-view-versus-copy\n",
      "\n",
      "C:\\Users\\Fang\\Desktop\\Python Trading\\Trading\\Trading\\Modules\\Earnings\\finstatement_cleaning.py:52: SettingWithCopyWarning:\n",
      "\n",
      "\n",
      "A value is trying to be set on a copy of a slice from a DataFrame.\n",
      "Try using .loc[row_indexer,col_indexer] = value instead\n",
      "\n",
      "See the caveats in the documentation: http://pandas.pydata.org/pandas-docs/stable/indexing.html#indexing-view-versus-copy\n",
      "\n",
      "C:\\Users\\Fang\\Desktop\\Python Trading\\Trading\\Trading\\Modules\\Earnings\\finstatement_cleaning.py:55: SettingWithCopyWarning:\n",
      "\n",
      "\n",
      "A value is trying to be set on a copy of a slice from a DataFrame.\n",
      "Try using .loc[row_indexer,col_indexer] = value instead\n",
      "\n",
      "See the caveats in the documentation: http://pandas.pydata.org/pandas-docs/stable/indexing.html#indexing-view-versus-copy\n",
      "\n",
      "C:\\Users\\Fang\\Desktop\\Python Trading\\Trading\\Trading\\Modules\\Earnings\\finstatement_cleaning.py:56: SettingWithCopyWarning:\n",
      "\n",
      "\n",
      "A value is trying to be set on a copy of a slice from a DataFrame.\n",
      "Try using .loc[row_indexer,col_indexer] = value instead\n",
      "\n",
      "See the caveats in the documentation: http://pandas.pydata.org/pandas-docs/stable/indexing.html#indexing-view-versus-copy\n",
      "\n",
      "C:\\Users\\Fang\\Desktop\\Python Trading\\Trading\\Trading\\Modules\\Earnings\\finstatement_cleaning.py:57: SettingWithCopyWarning:\n",
      "\n",
      "\n",
      "A value is trying to be set on a copy of a slice from a DataFrame.\n",
      "Try using .loc[row_indexer,col_indexer] = value instead\n",
      "\n",
      "See the caveats in the documentation: http://pandas.pydata.org/pandas-docs/stable/indexing.html#indexing-view-versus-copy\n",
      "\n",
      "C:\\Users\\Fang\\Desktop\\Python Trading\\Trading\\Trading\\Modules\\Earnings\\finstatement_cleaning.py:58: SettingWithCopyWarning:\n",
      "\n",
      "\n",
      "A value is trying to be set on a copy of a slice from a DataFrame.\n",
      "Try using .loc[row_indexer,col_indexer] = value instead\n",
      "\n",
      "See the caveats in the documentation: http://pandas.pydata.org/pandas-docs/stable/indexing.html#indexing-view-versus-copy\n",
      "\n",
      "C:\\Users\\Fang\\Desktop\\Python Trading\\Trading\\Trading\\Modules\\Earnings\\finstatement_cleaning.py:98: SettingWithCopyWarning:\n",
      "\n",
      "\n",
      "A value is trying to be set on a copy of a slice from a DataFrame.\n",
      "Try using .loc[row_indexer,col_indexer] = value instead\n",
      "\n",
      "See the caveats in the documentation: http://pandas.pydata.org/pandas-docs/stable/indexing.html#indexing-view-versus-copy\n",
      "\n",
      "C:\\Users\\Fang\\Desktop\\Python Trading\\Trading\\Trading\\Modules\\DataCollection\\option_slam_earnings.py:109: SettingWithCopyWarning:\n",
      "\n",
      "\n",
      "A value is trying to be set on a copy of a slice from a DataFrame.\n",
      "Try using .loc[row_indexer,col_indexer] = value instead\n",
      "\n",
      "See the caveats in the documentation: http://pandas.pydata.org/pandas-docs/stable/indexing.html#indexing-view-versus-copy\n",
      "\n"
     ]
    },
    {
     "name": "stdout",
     "output_type": "stream",
     "text": [
      "completed: 0.05 %\n",
      "completed: 0.11 %\n",
      "completed: 0.16 %\n",
      "completed: 0.21 %\n",
      "completed: 0.26 %\n",
      "completed: 0.32 %\n",
      "completed: 0.37 %\n",
      "completed: 0.42 %\n",
      "completed: 0.47 %\n",
      "completed: 0.53 %\n",
      "completed: 0.58 %\n",
      "completed: 0.63 %\n",
      "completed: 0.68 %\n",
      "completed: 0.74 %\n",
      "completed: 0.79 %\n",
      "completed: 0.84 %\n",
      "completed: 0.89 %\n",
      "completed: 0.95 %\n",
      "Predicted   -1    0    1\n",
      "Actual                  \n",
      "-1          94  229  112\n",
      " 0         258  799  285\n",
      " 1         147  322  200\n"
     ]
    },
    {
     "name": "stderr",
     "output_type": "stream",
     "text": [
      "C:\\Users\\Fang\\Desktop\\Python Trading\\Trading\\Trading\\Modules\\Earnings\\new_earnings_setup.py:113: SettingWithCopyWarning:\n",
      "\n",
      "\n",
      "A value is trying to be set on a copy of a slice from a DataFrame.\n",
      "Try using .loc[row_indexer,col_indexer] = value instead\n",
      "\n",
      "See the caveats in the documentation: http://pandas.pydata.org/pandas-docs/stable/indexing.html#indexing-view-versus-copy\n",
      "\n"
     ]
    }
   ],
   "source": [
    "date_lookup = '2018-10-22'\n",
    "file_date = '2018-10-14'\n",
    "return_bounds = 0.03\n",
    "test_size = 0.8\n",
    "\n",
    "predictions, earnings_rets = predict_earnings(date_lookup, file_date, return_bounds, test_size)"
   ]
  },
  {
   "cell_type": "code",
   "execution_count": 4,
   "metadata": {},
   "outputs": [
    {
     "data": {
      "text/html": [
       "<div>\n",
       "<style>\n",
       "    .dataframe thead tr:only-child th {\n",
       "        text-align: right;\n",
       "    }\n",
       "\n",
       "    .dataframe thead th {\n",
       "        text-align: left;\n",
       "    }\n",
       "\n",
       "    .dataframe tbody tr th {\n",
       "        vertical-align: top;\n",
       "    }\n",
       "</style>\n",
       "<table border=\"1\" class=\"dataframe\">\n",
       "  <thead>\n",
       "    <tr style=\"text-align: right;\">\n",
       "      <th></th>\n",
       "      <th>Underlying</th>\n",
       "      <th>sector</th>\n",
       "      <th>CallTime</th>\n",
       "      <th>IndustryBeta</th>\n",
       "      <th>MarketBeta</th>\n",
       "      <th>Stock52WeekReturn</th>\n",
       "      <th>SPY52WeekReturn</th>\n",
       "      <th>Industry52WeekReturn</th>\n",
       "      <th>Expected Return</th>\n",
       "    </tr>\n",
       "  </thead>\n",
       "  <tbody>\n",
       "    <tr>\n",
       "      <th>1</th>\n",
       "      <td>SALT</td>\n",
       "      <td>Industrials</td>\n",
       "      <td>BO</td>\n",
       "      <td>0.497724</td>\n",
       "      <td>0.459721</td>\n",
       "      <td>-0.184516</td>\n",
       "      <td>0.079988</td>\n",
       "      <td>0.013854</td>\n",
       "      <td>-0.03</td>\n",
       "    </tr>\n",
       "    <tr>\n",
       "      <th>5</th>\n",
       "      <td>OPB</td>\n",
       "      <td>Financial Services</td>\n",
       "      <td>BO</td>\n",
       "      <td>0.458483</td>\n",
       "      <td>0.234661</td>\n",
       "      <td>0.016360</td>\n",
       "      <td>0.079988</td>\n",
       "      <td>0.012913</td>\n",
       "      <td>0.03</td>\n",
       "    </tr>\n",
       "    <tr>\n",
       "      <th>7</th>\n",
       "      <td>HAL</td>\n",
       "      <td>Energy</td>\n",
       "      <td>BO</td>\n",
       "      <td>0.607471</td>\n",
       "      <td>0.442921</td>\n",
       "      <td>-0.135421</td>\n",
       "      <td>0.079988</td>\n",
       "      <td>0.057510</td>\n",
       "      <td>0.03</td>\n",
       "    </tr>\n",
       "    <tr>\n",
       "      <th>10</th>\n",
       "      <td>PII</td>\n",
       "      <td>Consumer Cyclical</td>\n",
       "      <td>BO</td>\n",
       "      <td>0.369985</td>\n",
       "      <td>0.437579</td>\n",
       "      <td>-0.142654</td>\n",
       "      <td>0.079988</td>\n",
       "      <td>0.166776</td>\n",
       "      <td>0.03</td>\n",
       "    </tr>\n",
       "    <tr>\n",
       "      <th>11</th>\n",
       "      <td>LII</td>\n",
       "      <td>Industrials</td>\n",
       "      <td>BO</td>\n",
       "      <td>0.551053</td>\n",
       "      <td>0.500979</td>\n",
       "      <td>0.076537</td>\n",
       "      <td>0.079988</td>\n",
       "      <td>0.013854</td>\n",
       "      <td>0.03</td>\n",
       "    </tr>\n",
       "  </tbody>\n",
       "</table>\n",
       "</div>"
      ],
      "text/plain": [
       "   Underlying              sector CallTime  IndustryBeta  MarketBeta  \\\n",
       "1        SALT         Industrials       BO      0.497724    0.459721   \n",
       "5         OPB  Financial Services       BO      0.458483    0.234661   \n",
       "7         HAL              Energy       BO      0.607471    0.442921   \n",
       "10        PII   Consumer Cyclical       BO      0.369985    0.437579   \n",
       "11        LII         Industrials       BO      0.551053    0.500979   \n",
       "\n",
       "    Stock52WeekReturn  SPY52WeekReturn  Industry52WeekReturn  Expected Return  \n",
       "1           -0.184516         0.079988              0.013854            -0.03  \n",
       "5            0.016360         0.079988              0.012913             0.03  \n",
       "7           -0.135421         0.079988              0.057510             0.03  \n",
       "10          -0.142654         0.079988              0.166776             0.03  \n",
       "11           0.076537         0.079988              0.013854             0.03  "
      ]
     },
     "execution_count": 4,
     "metadata": {},
     "output_type": "execute_result"
    }
   ],
   "source": [
    "predictions[predictions['Expected Return'] != 0]"
   ]
  },
  {
   "cell_type": "code",
   "execution_count": null,
   "metadata": {},
   "outputs": [],
   "source": []
  },
  {
   "cell_type": "code",
   "execution_count": null,
   "metadata": {},
   "outputs": [],
   "source": []
  },
  {
   "cell_type": "code",
   "execution_count": null,
   "metadata": {},
   "outputs": [],
   "source": [
    "earnings_df = date_earnings('2018-10-22')\n",
    "earnings_df[earnings_df['Call Time'] == 'Before Market Open']"
   ]
  },
  {
   "cell_type": "markdown",
   "metadata": {},
   "source": [
    "## Barbell Hedging"
   ]
  },
  {
   "cell_type": "code",
   "execution_count": null,
   "metadata": {},
   "outputs": [],
   "source": [
    "ratios = spx_put_backratios(50, 5, 0.05, 2, 50)"
   ]
  },
  {
   "cell_type": "code",
   "execution_count": null,
   "metadata": {},
   "outputs": [],
   "source": [
    "ratios[(ratios.DTE >= 7)]"
   ]
  },
  {
   "cell_type": "code",
   "execution_count": null,
   "metadata": {},
   "outputs": [],
   "source": []
  },
  {
   "cell_type": "code",
   "execution_count": null,
   "metadata": {},
   "outputs": [],
   "source": []
  },
  {
   "cell_type": "code",
   "execution_count": null,
   "metadata": {
    "collapsed": true
   },
   "outputs": [],
   "source": []
  },
  {
   "cell_type": "code",
   "execution_count": null,
   "metadata": {
    "collapsed": true
   },
   "outputs": [],
   "source": []
  },
  {
   "cell_type": "code",
   "execution_count": null,
   "metadata": {
    "collapsed": true
   },
   "outputs": [],
   "source": []
  },
  {
   "cell_type": "code",
   "execution_count": null,
   "metadata": {
    "collapsed": true
   },
   "outputs": [],
   "source": []
  },
  {
   "cell_type": "code",
   "execution_count": null,
   "metadata": {
    "collapsed": true
   },
   "outputs": [],
   "source": []
  },
  {
   "cell_type": "code",
   "execution_count": null,
   "metadata": {},
   "outputs": [],
   "source": []
  },
  {
   "cell_type": "code",
   "execution_count": null,
   "metadata": {},
   "outputs": [],
   "source": []
  },
  {
   "cell_type": "code",
   "execution_count": null,
   "metadata": {
    "collapsed": true
   },
   "outputs": [],
   "source": []
  }
 ],
 "metadata": {
  "kernelspec": {
   "display_name": "Python 3",
   "language": "python",
   "name": "python3"
  },
  "language_info": {
   "codemirror_mode": {
    "name": "ipython",
    "version": 3
   },
   "file_extension": ".py",
   "mimetype": "text/x-python",
   "name": "python",
   "nbconvert_exporter": "python",
   "pygments_lexer": "ipython3",
   "version": "3.6.1"
  }
 },
 "nbformat": 4,
 "nbformat_minor": 2
}
