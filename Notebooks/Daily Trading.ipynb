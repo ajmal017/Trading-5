{
 "cells": [
  {
   "cell_type": "markdown",
   "metadata": {},
   "source": [
    "# Portfolio Methodolgy\n",
    "\n",
    "1. DGI - Rebalance every 6 months picking around 10 - 30 names from CA and US universe\n",
    "    - Add names slowly, 2-3 names a month\n",
    "    - **GTC Stop Limit of 5% on each name**\n",
    "2. VAA/PAA - Rebalance every month on trading day 1\n",
    "3. LEAPS - Rebalance every 3 months picking around 3 - 8 names from US universe (high growth potential names)\n",
    "    - Current Holdings: MU AMD MSFT TTWO\n",
    "    - AMD Earnings: Oct 22\n",
    "    - MSFT Earnings: Oct 24\n",
    "    - TTWO Earnings: Nov 5\n",
    "    - MU Earnings: Dec 17\n",
    "        - **Exit Criteria: When the call option drops below 60 delta**\n",
    "4. Short Vol - Short SPX Spreads at the beginning of the month and hold until second or last week to maturity\n",
    "    - Potentially long UVXY/VXX puts at beginning of the month with bracket orders\n",
    "5. Barbell Hedging\n",
    "    - Long SPX puts or VIX calls during high crisis potential moments\n",
    "        - Initiate bracket orders with SPX Puts: +/- 30% of Cost Basis\n",
    "    - Check VIX Futures volume trends and see impact of Feb 5, 2018\n",
    "    - Only trade 4 naked SPX puts in Reg accounts\n",
    "        - Sell half into profits/losses \n",
    "    - Only trade 6 3:1 Put back ratios in Reg Account: Leg into these positions because of how illiquid the market is\n",
    "    - Take losses immediately (10% - 30% of Cost Basis)\n",
    "    - NEVER EVER try to put on a position of the market is illiquid: YOU WILL get filled at horrible prices\n",
    "    - **Put on 1-5 Delta strangles on the open of the day and close position at the end of the day around 2 pm to 3 pm**\n",
    "6. Treasuries - Re-establish monthly bills beginning of month or at maturity\n",
    "\n",
    "##### Strategy Weights\n",
    "|Strategy|Weight|Last Rebal|Next Check|Next Full Rebal|\n",
    "|-|-|-|-|-|\n",
    "|DGI|5%|10/01/2018|11/01/2018|01/02/2019|\n",
    "|VAA/PAA|20%|10/01/2018|11/01/2018|11/02/2018|\n",
    "|LEAPs|5%|10/22/2018|12/01/2018|01/01/2019|\n",
    "|Short Vol|2%|NA|NA|NA|\n",
    "|Barbell Hedging|1.5%|10/22/2018|10/24/2018|10/29/2018|\n",
    "|Treasuries|60%|10/4/2018|10/24/2018|11/24/2018|"
   ]
  },
  {
   "cell_type": "markdown",
   "metadata": {},
   "source": [
    "## Key Modules to Run\n",
    "\n",
    "- fundamental_data_collect.py to run monthly to collected latest financial statements and key stats from yahoo\n",
    "- finstatement_cleaning.py to run right after fundamental_data_collect.py to create cleaned data for earnings plays\n",
    "\n"
   ]
  },
  {
   "cell_type": "code",
   "execution_count": null,
   "metadata": {},
   "outputs": [],
   "source": [
    "# Importing necessary models\n",
    "import warnings\n",
    "warnings.filterwarnings('ignore')\n",
    "\n",
    "import smtplib\n",
    "import pandas as pd\n",
    "import numpy as np\n",
    "import datetime as dt\n",
    "import pandas.stats.moments as st\n",
    "import time\n",
    "%matplotlib inline\n",
    "import plotly.plotly as py\n",
    "import plotly.graph_objs as go\n",
    "from plotly.offline import download_plotlyjs, init_notebook_mode, plot, iplot\n",
    "\n",
    "init_notebook_mode(connected=True)\n",
    "\n",
    "import os\n",
    "main_dir = os.getcwd()\n",
    "\n",
    "os.chdir('C:\\\\Users\\\\Fang\\\\Desktop\\\\Python Trading\\\\Trading\\\\Trading\\\\Modules\\\\DataCollection')\n",
    "\n",
    "from alphavantage import *\n",
    "from yahoo_query import *\n",
    "from option_slam_earnings import *\n",
    "\n",
    "os.chdir('C:\\\\Users\\\\Fang\\\\Desktop\\\\Python Trading\\\\Trading\\\\Trading\\\\Modules\\\\Options')\n",
    "from optionsFunctions import *\n",
    "\n",
    "os.chdir('C:\\\\Users\\\\Fang\\\\Desktop\\\\Python Trading\\\\Trading\\\\Trading\\\\Modules\\\\Earnings')\n",
    "from yahoo_earnings import *\n",
    "from new_earnings_setup import *\n",
    "\n",
    "os.chdir(main_dir)"
   ]
  },
  {
   "cell_type": "markdown",
   "metadata": {},
   "source": [
    "# Allocate Smartly Checking"
   ]
  },
  {
   "cell_type": "code",
   "execution_count": null,
   "metadata": {},
   "outputs": [],
   "source": [
    "# Short Call Assignment Price - 287.5\n",
    "\n",
    "portfolio_value =  200000\n",
    "\n",
    "as_lst = ['DBC',\n",
    "        'HYG',\n",
    "        'IEF',\n",
    "        'IWM',\n",
    "        'LQD',\n",
    "        'QQQ',\n",
    "        'SPY',\n",
    "        'VNQ']\n",
    "as_wgt = [0.014,\n",
    "        0.014,\n",
    "        0.417,\n",
    "        0.014,\n",
    "        0.500,\n",
    "        0.014,\n",
    "        0.014,\n",
    "        0.014]\n",
    "\n",
    "as_df = pd.DataFrame({'Allocation': as_wgt}, index = as_lst)\n",
    "curr_spot = curr_batch_quotes(as_lst)\n",
    "as_df = pd.concat([as_df,curr_spot[['price']]], axis = 1)\n",
    "\n",
    "as_df['Market Value'] = portfolio_value*as_df.Allocation\n",
    "as_df['Holdings'] = np.round(as_df['Market Value']/as_df.price,0)\n",
    "\n",
    "as_df"
   ]
  },
  {
   "cell_type": "markdown",
   "metadata": {},
   "source": [
    "## Checking market correlations"
   ]
  },
  {
   "cell_type": "code",
   "execution_count": null,
   "metadata": {},
   "outputs": [],
   "source": [
    "rolling_window = 60\n",
    "plot_window = 10000\n",
    "\n",
    "corr_df, sector_df = check_mkt_corr(rolling_window, plot_window)\n",
    "print(corr_df.tail())"
   ]
  },
  {
   "cell_type": "code",
   "execution_count": null,
   "metadata": {},
   "outputs": [],
   "source": [
    "((sector_df.dropna() + 1).cumprod()-1).tail()"
   ]
  },
  {
   "cell_type": "markdown",
   "metadata": {},
   "source": [
    "## Earnings\n",
    "\n",
    "**Key modules to run**\n",
    "- new_earnings_setup.py for given date in string form 'yyyy-mm-dd': this gives the latest input data for earnings_prediction\n",
    "- earnings_prediction.py for determining position to take on earnings name"
   ]
  },
  {
   "cell_type": "code",
   "execution_count": null,
   "metadata": {
    "scrolled": true
   },
   "outputs": [],
   "source": [
    "date_lookup = '2018-10-23'\n",
    "file_date = '2018-10-20'\n",
    "return_bounds = 0.03\n",
    "test_size = 0.8\n",
    "\n",
    "predictions, earnings_rets = predict_earnings(date_lookup, file_date, return_bounds, test_size)"
   ]
  },
  {
   "cell_type": "code",
   "execution_count": null,
   "metadata": {},
   "outputs": [],
   "source": [
    "predictions[(predictions['Expected Return'] != 0) &\n",
    "            (predictions['CallTime'] == 'AC')]"
   ]
  },
  {
   "cell_type": "code",
   "execution_count": null,
   "metadata": {},
   "outputs": [],
   "source": []
  },
  {
   "cell_type": "code",
   "execution_count": null,
   "metadata": {},
   "outputs": [],
   "source": [
    "earnings_report('RUSHA')"
   ]
  },
  {
   "cell_type": "code",
   "execution_count": null,
   "metadata": {},
   "outputs": [],
   "source": []
  },
  {
   "cell_type": "code",
   "execution_count": null,
   "metadata": {},
   "outputs": [],
   "source": []
  },
  {
   "cell_type": "markdown",
   "metadata": {},
   "source": [
    "## Barbell Hedging"
   ]
  },
  {
   "cell_type": "code",
   "execution_count": null,
   "metadata": {},
   "outputs": [],
   "source": [
    "ratios = spx_put_backratios(50, 1, 0.2, 2, 25)"
   ]
  },
  {
   "cell_type": "code",
   "execution_count": null,
   "metadata": {},
   "outputs": [],
   "source": [
    "ratios"
   ]
  },
  {
   "cell_type": "code",
   "execution_count": null,
   "metadata": {},
   "outputs": [],
   "source": [
    "spx_options = all_greeks(all_options('^SPX',50,1,0.2))\n",
    "spx_options = spx_options[(spx_options['Type'] == 'put') &\n",
    "                          (spx_options['Strike'] < spx_options['Underlying_Price'])]"
   ]
  },
  {
   "cell_type": "code",
   "execution_count": null,
   "metadata": {},
   "outputs": [],
   "source": [
    "spx_options[(spx_options['DTE'] == 7) &\n",
    "            (spx_options['Strike'] == 2390.0)]"
   ]
  },
  {
   "cell_type": "code",
   "execution_count": null,
   "metadata": {
    "collapsed": true
   },
   "outputs": [],
   "source": []
  },
  {
   "cell_type": "code",
   "execution_count": null,
   "metadata": {
    "collapsed": true
   },
   "outputs": [],
   "source": []
  },
  {
   "cell_type": "code",
   "execution_count": null,
   "metadata": {
    "collapsed": true
   },
   "outputs": [],
   "source": []
  },
  {
   "cell_type": "code",
   "execution_count": null,
   "metadata": {
    "collapsed": true
   },
   "outputs": [],
   "source": []
  },
  {
   "cell_type": "code",
   "execution_count": null,
   "metadata": {
    "collapsed": true
   },
   "outputs": [],
   "source": []
  },
  {
   "cell_type": "code",
   "execution_count": null,
   "metadata": {},
   "outputs": [],
   "source": []
  },
  {
   "cell_type": "code",
   "execution_count": null,
   "metadata": {},
   "outputs": [],
   "source": []
  },
  {
   "cell_type": "code",
   "execution_count": null,
   "metadata": {
    "collapsed": true
   },
   "outputs": [],
   "source": []
  }
 ],
 "metadata": {
  "kernelspec": {
   "display_name": "Python 3",
   "language": "python",
   "name": "python3"
  },
  "language_info": {
   "codemirror_mode": {
    "name": "ipython",
    "version": 3
   },
   "file_extension": ".py",
   "mimetype": "text/x-python",
   "name": "python",
   "nbconvert_exporter": "python",
   "pygments_lexer": "ipython3",
   "version": "3.6.1"
  }
 },
 "nbformat": 4,
 "nbformat_minor": 2
}
