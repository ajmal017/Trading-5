{
 "cells": [
  {
   "cell_type": "code",
   "execution_count": 2,
   "metadata": {},
   "outputs": [
    {
     "data": {
      "text/plain": [
       "<IB connected to 127.0.0.1:7496 clientId=12>"
      ]
     },
     "execution_count": 2,
     "metadata": {},
     "output_type": "execute_result"
    }
   ],
   "source": [
    "from ib_insync import *\n",
    "util.startLoop()\n",
    "\n",
    "ib = IB()\n",
    "ib.connect('127.0.0.1', 7496, clientId=12)"
   ]
  },
  {
   "cell_type": "code",
   "execution_count": 10,
   "metadata": {},
   "outputs": [
    {
     "data": {
      "text/plain": [
       "[Index(conId=416904, symbol='SPX', exchange='CBOE', currency='USD', localSymbol='SPX')]"
      ]
     },
     "execution_count": 10,
     "metadata": {},
     "output_type": "execute_result"
    }
   ],
   "source": [
    "spx = Index('SPX', 'CBOE')\n",
    "ib.qualifyContracts(spx)"
   ]
  },
  {
   "cell_type": "code",
   "execution_count": 4,
   "metadata": {
    "scrolled": true
   },
   "outputs": [
    {
     "data": {
      "text/plain": [
       "Ticker(contract=Index(conId=416904, symbol='SPX', exchange='CBOE', currency='USD', localSymbol='SPX'), time=datetime.datetime(2019, 2, 12, 16, 31, 23, 507271, tzinfo=datetime.timezone.utc), last=2740.79, lastSize=0, high=2742.52, low=2722.61, close=2709.8, ticks=[], tickByTicks=[], domBids=[], domAsks=[], domTicks=[])"
      ]
     },
     "execution_count": 4,
     "metadata": {},
     "output_type": "execute_result"
    }
   ],
   "source": [
    "[ticker] = ib.reqTickers(spx)\n",
    "ticker"
   ]
  },
  {
   "cell_type": "code",
   "execution_count": 5,
   "metadata": {},
   "outputs": [
    {
     "data": {
      "text/plain": [
       "2709.8"
      ]
     },
     "execution_count": 5,
     "metadata": {},
     "output_type": "execute_result"
    }
   ],
   "source": [
    "spxValue = ticker.marketPrice()\n",
    "spxValue"
   ]
  },
  {
   "cell_type": "code",
   "execution_count": 6,
   "metadata": {},
   "outputs": [
    {
     "data": {
      "text/html": [
       "<div>\n",
       "<style>\n",
       "    .dataframe thead tr:only-child th {\n",
       "        text-align: right;\n",
       "    }\n",
       "\n",
       "    .dataframe thead th {\n",
       "        text-align: left;\n",
       "    }\n",
       "\n",
       "    .dataframe tbody tr th {\n",
       "        vertical-align: top;\n",
       "    }\n",
       "</style>\n",
       "<table border=\"1\" class=\"dataframe\">\n",
       "  <thead>\n",
       "    <tr style=\"text-align: right;\">\n",
       "      <th></th>\n",
       "      <th>exchange</th>\n",
       "      <th>underlyingConId</th>\n",
       "      <th>tradingClass</th>\n",
       "      <th>multiplier</th>\n",
       "      <th>expirations</th>\n",
       "      <th>strikes</th>\n",
       "    </tr>\n",
       "  </thead>\n",
       "  <tbody>\n",
       "    <tr>\n",
       "      <th>0</th>\n",
       "      <td>SMART</td>\n",
       "      <td>416904</td>\n",
       "      <td>SPX</td>\n",
       "      <td>100</td>\n",
       "      <td>{20191219, 20190214, 20200618, 20201217, 20190...</td>\n",
       "      <td>{2560.0, 2050.0, 3075.0, 4100.0, 2565.0, 2055....</td>\n",
       "    </tr>\n",
       "    <tr>\n",
       "      <th>1</th>\n",
       "      <td>CBOE</td>\n",
       "      <td>416904</td>\n",
       "      <td>SPXW</td>\n",
       "      <td>100</td>\n",
       "      <td>{20190320, 20190628, 20190418, 20190213, 20190...</td>\n",
       "      <td>{2560.0, 2050.0, 3075.0, 4100.0, 2565.0, 2055....</td>\n",
       "    </tr>\n",
       "    <tr>\n",
       "      <th>2</th>\n",
       "      <td>SMART</td>\n",
       "      <td>416904</td>\n",
       "      <td>SPXW</td>\n",
       "      <td>100</td>\n",
       "      <td>{20190320, 20190628, 20190418, 20190213, 20190...</td>\n",
       "      <td>{2560.0, 2050.0, 3075.0, 4100.0, 2565.0, 2055....</td>\n",
       "    </tr>\n",
       "    <tr>\n",
       "      <th>3</th>\n",
       "      <td>CBOE</td>\n",
       "      <td>416904</td>\n",
       "      <td>SPX</td>\n",
       "      <td>100</td>\n",
       "      <td>{20191219, 20190214, 20200618, 20201217, 20190...</td>\n",
       "      <td>{2560.0, 2050.0, 3075.0, 4100.0, 2565.0, 2055....</td>\n",
       "    </tr>\n",
       "  </tbody>\n",
       "</table>\n",
       "</div>"
      ],
      "text/plain": [
       "  exchange  underlyingConId tradingClass multiplier  \\\n",
       "0    SMART           416904          SPX        100   \n",
       "1     CBOE           416904         SPXW        100   \n",
       "2    SMART           416904         SPXW        100   \n",
       "3     CBOE           416904          SPX        100   \n",
       "\n",
       "                                         expirations  \\\n",
       "0  {20191219, 20190214, 20200618, 20201217, 20190...   \n",
       "1  {20190320, 20190628, 20190418, 20190213, 20190...   \n",
       "2  {20190320, 20190628, 20190418, 20190213, 20190...   \n",
       "3  {20191219, 20190214, 20200618, 20201217, 20190...   \n",
       "\n",
       "                                             strikes  \n",
       "0  {2560.0, 2050.0, 3075.0, 4100.0, 2565.0, 2055....  \n",
       "1  {2560.0, 2050.0, 3075.0, 4100.0, 2565.0, 2055....  \n",
       "2  {2560.0, 2050.0, 3075.0, 4100.0, 2565.0, 2055....  \n",
       "3  {2560.0, 2050.0, 3075.0, 4100.0, 2565.0, 2055....  "
      ]
     },
     "execution_count": 6,
     "metadata": {},
     "output_type": "execute_result"
    }
   ],
   "source": [
    "chains = ib.reqSecDefOptParams(spx.symbol, '', spx.secType, spx.conId)\n",
    "\n",
    "util.df(chains)"
   ]
  },
  {
   "cell_type": "code",
   "execution_count": 8,
   "metadata": {},
   "outputs": [
    {
     "data": {
      "text/plain": [
       "OptionChain(exchange='SMART', underlyingConId=416904, tradingClass='SPXW', multiplier='100', expirations={'20190320', '20190628', '20190418', '20190213', '20190329', '20190215', '20190517', '20190315', '20190621', '20190304', '20190308', '20190219', '20190531', '20190220', '20190322', '20190412', '20190731', '20190222', '20191231', '20190430', '20190225', '20190311', '20190228', '20190930', '20190227', '20190306', '20190313', '20190405', '20190318', '20190301'}, strikes={2560.0, 2050.0, 3075.0, 4100.0, 2565.0, 2055.0, 3080.0, 2570.0, 2060.0, 3085.0, 1550.0, 2575.0, 3600.0, 2065.0, 3090.0, 2580.0, 2070.0, 3095.0, 2585.0, 1050.0, 2075.0, 3100.0, 2590.0, 2080.0, 2595.0, 2085.0, 3110.0, 1575.0, 2600.0, 2090.0, 2605.0, 2095.0, 3120.0, 2610.0, 2100.0, 3125.0, 2615.0, 2105.0, 3130.0, 2620.0, 2110.0, 1600.0, 2625.0, 2115.0, 3140.0, 2630.0, 2120.0, 2635.0, 1100.0, 2125.0, 3150.0, 2640.0, 2130.0, 2645.0, 2135.0, 600.0, 1625.0, 2650.0, 3160.0, 2140.0, 2655.0, 2145.0, 2660.0, 2150.0, 3175.0, 4200.0, 2665.0, 2155.0, 2670.0, 2160.0, 1650.0, 2675.0, 3700.0, 2165.0, 2680.0, 2170.0, 1660.0, 2685.0, 1150.0, 2175.0, 3200.0, 2690.0, 2180.0, 1670.0, 2695.0, 2185.0, 1675.0, 2700.0, 2190.0, 1680.0, 2705.0, 2195.0, 2710.0, 2200.0, 3225.0, 1690.0, 2715.0, 2205.0, 2720.0, 2210.0, 1700.0, 2725.0, 2215.0, 2730.0, 2220.0, 1710.0, 2735.0, 1200.0, 2225.0, 3250.0, 2740.0, 2230.0, 1720.0, 2745.0, 2235.0, 700.0, 1725.0, 2750.0, 2240.0, 1730.0, 2755.0, 2245.0, 2760.0, 1225.0, 2250.0, 3275.0, 1740.0, 2765.0, 2255.0, 2770.0, 2260.0, 1750.0, 2775.0, 3800.0, 2265.0, 2780.0, 2270.0, 1760.0, 2785.0, 1250.0, 2275.0, 3300.0, 2790.0, 2280.0, 1770.0, 2795.0, 2285.0, 1775.0, 2800.0, 2290.0, 1780.0, 2805.0, 2295.0, 2810.0, 1275.0, 2300.0, 1790.0, 2815.0, 2305.0, 2820.0, 2310.0, 1800.0, 2825.0, 2315.0, 2830.0, 2320.0, 1810.0, 2835.0, 1300.0, 2325.0, 3350.0, 2840.0, 2330.0, 1820.0, 2845.0, 2335.0, 800.0, 1825.0, 2850.0, 2340.0, 1830.0, 2855.0, 2345.0, 2860.0, 1325.0, 2350.0, 1840.0, 2865.0, 2355.0, 2870.0, 2360.0, 1850.0, 2875.0, 3900.0, 2365.0, 2880.0, 2370.0, 1860.0, 2885.0, 1350.0, 2375.0, 3400.0, 2890.0, 2380.0, 1870.0, 2895.0, 2385.0, 850.0, 1875.0, 2900.0, 2390.0, 1880.0, 2905.0, 2395.0, 1885.0, 2910.0, 1375.0, 2400.0, 1890.0, 2915.0, 2405.0, 1895.0, 2920.0, 2410.0, 1900.0, 2925.0, 2415.0, 1905.0, 2930.0, 2420.0, 1910.0, 2935.0, 1400.0, 2425.0, 1915.0, 2940.0, 2430.0, 1920.0, 2945.0, 2435.0, 900.0, 1925.0, 2950.0, 2440.0, 1930.0, 2955.0, 2445.0, 1935.0, 2960.0, 1425.0, 2450.0, 1940.0, 2965.0, 2455.0, 1945.0, 2970.0, 2460.0, 1950.0, 2975.0, 4000.0, 2465.0, 1955.0, 2980.0, 2470.0, 1960.0, 2985.0, 1450.0, 2475.0, 3500.0, 1965.0, 2990.0, 2480.0, 1970.0, 2995.0, 2485.0, 950.0, 1975.0, 3000.0, 2490.0, 1980.0, 3005.0, 2495.0, 1985.0, 3010.0, 1475.0, 2500.0, 1990.0, 3015.0, 2505.0, 1995.0, 3020.0, 2510.0, 2000.0, 3025.0, 2515.0, 2005.0, 3030.0, 2520.0, 2010.0, 3035.0, 1500.0, 2525.0, 2015.0, 3040.0, 2530.0, 2020.0, 3045.0, 2535.0, 1000.0, 2025.0, 3050.0, 2540.0, 2030.0, 3055.0, 2545.0, 2035.0, 500.0, 1525.0, 2550.0, 3060.0, 2040.0, 3065.0, 2555.0, 2045.0, 3070.0})"
      ]
     },
     "execution_count": 8,
     "metadata": {},
     "output_type": "execute_result"
    }
   ],
   "source": [
    "chain = next(c for c in chains if c.tradingClass == 'SPXW' and c.exchange == 'SMART')\n",
    "chain"
   ]
  },
  {
   "cell_type": "code",
   "execution_count": 15,
   "metadata": {},
   "outputs": [
    {
     "data": {
      "text/plain": [
       "48"
      ]
     },
     "execution_count": 15,
     "metadata": {},
     "output_type": "execute_result"
    }
   ],
   "source": [
    "strikes = [strike for strike in chain.strikes\n",
    "        if strike % 5 == 0\n",
    "        and spxValue - 20 < strike < spxValue + 20]\n",
    "expirations = sorted(exp for exp in chain.expirations)[:3]\n",
    "rights = ['P', 'C']\n",
    "\n",
    "contracts = [Option('SPX', expiration, strike, right, 'SMART')\n",
    "        for right in rights\n",
    "        for expiration in expirations\n",
    "        for strike in strikes]\n",
    "\n",
    "ib.qualifyContracts(*contracts)\n",
    "len(contracts)"
   ]
  },
  {
   "cell_type": "code",
   "execution_count": 12,
   "metadata": {},
   "outputs": [
    {
     "data": {
      "text/plain": [
       "Option(conId=349009828, symbol='SPX', lastTradeDateOrContractMonth='20190213', strike=2690.0, right='P', multiplier='100', exchange='SMART', currency='USD', localSymbol='SPXW  190213P02690000', tradingClass='SPXW')"
      ]
     },
     "execution_count": 12,
     "metadata": {},
     "output_type": "execute_result"
    }
   ],
   "source": [
    "contracts[0]"
   ]
  },
  {
   "cell_type": "code",
   "execution_count": 16,
   "metadata": {},
   "outputs": [
    {
     "data": {
      "text/plain": [
       "[Ticker(contract=Option(conId=349009828, symbol='SPX', lastTradeDateOrContractMonth='20190213', strike=2690.0, right='P', multiplier='100', exchange='SMART', currency='USD', localSymbol='SPXW  190213P02690000', tradingClass='SPXW'), time=datetime.datetime(2019, 2, 12, 16, 36, 28, 903716, tzinfo=datetime.timezone.utc), bid=0.45, bidSize=677, ask=0.55, askSize=107, last=0.45, lastSize=5, volume=918, high=1.3, low=0.45, close=4.85, ticks=[], tickByTicks=[], domBids=[], domAsks=[], domTicks=[], bidGreeks=OptionComputation(impliedVol=0.1633544785852489, delta=-0.02699081292743033, optPrice=0.44999998807907104, pvDividend=1.9797307383816103, gamma=0.0024465597839441345, vega=0.09715912902605797, theta=-0.44999998807907104, undPrice=2740.29), askGreeks=OptionComputation(impliedVol=0.16972058607879026, delta=-0.031793859544842595, optPrice=0.550000011920929, pvDividend=1.9797307383816103, gamma=0.0026978686072403595, vega=0.11131458000985452, theta=-0.550000011920929, undPrice=2740.29), lastGreeks=OptionComputation(impliedVol=0.17955403497907851, delta=-0.039714419367838594, optPrice=0.44999998807907104, pvDividend=1.9797307383816103, gamma=0.0030602192623165043, vega=0.13358092552826667, theta=-0.44999998807907104, undPrice=2740.29), modelGreeks=OptionComputation(impliedVol=0.16844223212933632, delta=-0.0308068784301766, optPrice=0.31556689474282507, pvDividend=1.9797307383816103, gamma=0.0026483680247577353, vega=0.10844912647169971, theta=-0.31556689474282507, undPrice=2740.29)),\n",
       " Ticker(contract=Option(conId=350039915, symbol='SPX', lastTradeDateOrContractMonth='20190213', strike=2695.0, right='P', multiplier='100', exchange='SMART', currency='USD', localSymbol='SPXW  190213P02695000', tradingClass='SPXW'), time=datetime.datetime(2019, 2, 12, 16, 36, 28, 903716, tzinfo=datetime.timezone.utc), bid=0.6, bidSize=388, ask=0.7, askSize=9, last=0.65, lastSize=1, volume=1671, high=1.75, low=0.6, close=6.1, ticks=[], tickByTicks=[], domBids=[], domAsks=[], domTicks=[], bidGreeks=OptionComputation(impliedVol=0.1586890263060547, delta=-0.03771439148407629, optPrice=0.6000000238418579, pvDividend=1.9797307383816103, gamma=0.003319849132763581, vega=0.12807429621447164, theta=-0.6000000238418579, undPrice=2740.29), askGreeks=OptionComputation(impliedVol=0.16387694048502732, delta=-0.04254773354445973, optPrice=0.699999988079071, pvDividend=1.9797307383816103, gamma=0.003545667630590582, vega=0.14125785410199135, theta=-0.699999988079071, undPrice=2740.29), lastGreeks=OptionComputation(impliedVol=0.17690511391503916, delta=-0.05527065664478226, optPrice=0.6499999761581421, pvDividend=1.9797307383816103, gamma=0.004048679501227951, vega=0.17412074670854039, theta=-0.6499999761581421, undPrice=2740.29), modelGreeks=OptionComputation(impliedVol=0.1629314499355566, delta=-0.041655057402855356, optPrice=0.43124318564488234, pvDividend=1.9797307383816103, gamma=0.00350556470202532, vega=0.13885439937284028, theta=-0.43124318564488234, undPrice=2740.29)),\n",
       " Ticker(contract=Option(conId=349009835, symbol='SPX', lastTradeDateOrContractMonth='20190213', strike=2700.0, right='P', multiplier='100', exchange='SMART', currency='USD', localSymbol='SPXW  190213P02700000', tradingClass='SPXW'), time=datetime.datetime(2019, 2, 12, 16, 36, 28, 903716, tzinfo=datetime.timezone.utc), bid=0.8, bidSize=264, ask=0.95, askSize=242, last=0.85, lastSize=3, volume=2161, high=2.35, low=0.8, close=7.55, ticks=[], tickByTicks=[], domBids=[], domAsks=[], domTicks=[], bidGreeks=OptionComputation(impliedVol=0.15392009263795803, delta=-0.05249149937066544, optPrice=0.800000011920929, pvDividend=1.9797307383816103, gamma=0.004467018157570456, vega=0.1671513037937454, theta=-0.800000011920929, undPrice=2740.29), askGreeks=OptionComputation(impliedVol=0.15816091589128817, delta=-0.05729074346321117, optPrice=0.949999988079071, pvDividend=1.9797307383816103, gamma=0.004658488095661976, vega=0.17911868651630403, theta=-0.949999988079071, undPrice=2740.29), lastGreeks=OptionComputation(impliedVol=0.17060499815280455, delta=-0.07166289029656969, optPrice=0.8500000238418579, pvDividend=1.9797307383816103, gamma=0.005139437348677379, vega=0.21315918998284225, theta=-0.8500000238418579, undPrice=2740.29), modelGreeks=OptionComputation(impliedVol=0.15770944948856608, delta=-0.05677660777398463, optPrice=0.5976784969460834, pvDividend=1.9797307383816103, gamma=0.004638784813061918, vega=0.1778519687499968, theta=-0.5976784969460834, undPrice=2740.29)),\n",
       " Ticker(contract=Option(conId=350157841, symbol='SPX', lastTradeDateOrContractMonth='20190213', strike=2705.0, right='P', multiplier='100', exchange='SMART', currency='USD', localSymbol='SPXW  190213P02705000', tradingClass='SPXW'), time=datetime.datetime(2019, 2, 12, 16, 36, 28, 903716, tzinfo=datetime.timezone.utc), bid=1.1, bidSize=151, ask=1.2, askSize=15, last=1.15, lastSize=1, volume=1573, high=3.0, low=1.05, close=9.35, ticks=[], tickByTicks=[], domBids=[], domAsks=[], domTicks=[], bidGreeks=OptionComputation(impliedVol=0.15022508144118804, delta=-0.07429522892938345, optPrice=1.100000023841858, pvDividend=1.9797307383816103, gamma=0.006000068899728424, vega=0.2191267614594559, theta=-1.100000023841858, undPrice=2740.29), askGreeks=OptionComputation(impliedVol=0.15366368017643103, delta=-0.0789165629174764, optPrice=1.2000000476837158, pvDividend=1.9797307383816103, gamma=0.006141307238043413, vega=0.22941868684024255, theta=-1.2000000476837158, undPrice=2740.29), lastGreeks=OptionComputation(impliedVol=0.16551735898066547, delta=-0.09477735926642306, optPrice=1.149999976158142, pvDividend=1.9797307383816103, gamma=0.006537944522094697, vega=0.26307617190127025, theta=-1.149999976158142, undPrice=2740.29), modelGreeks=OptionComputation(impliedVol=0.15279115724349443, delta=-0.07774378778022328, optPrice=0.8379194664882644, pvDividend=1.9797307383816103, gamma=0.006106650261716899, vega=0.22682869948917028, theta=-0.8379194664882644, undPrice=2740.29)),\n",
       " Ticker(contract=Option(conId=349438780, symbol='SPX', lastTradeDateOrContractMonth='20190213', strike=2710.0, right='P', multiplier='100', exchange='SMART', currency='USD', localSymbol='SPXW  190213P02710000', tradingClass='SPXW'), time=datetime.datetime(2019, 2, 12, 16, 36, 28, 903716, tzinfo=datetime.timezone.utc), bid=1.5, bidSize=51, ask=1.6, askSize=45, last=1.6, lastSize=1, volume=1341, high=4.0, low=1.4, close=11.5, ticks=[], tickByTicks=[], domBids=[], domAsks=[], domTicks=[], bidGreeks=OptionComputation(impliedVol=0.14632728226865008, delta=-0.10363001053980314, optPrice=1.5, pvDividend=1.9797307383816103, gamma=0.007894444532807115, vega=0.28083007685687295, theta=-1.5, undPrice=2740.29), askGreeks=OptionComputation(impliedVol=0.1491545603296093, delta=-0.10797121615445171, optPrice=1.600000023841858, pvDividend=1.9797307383816103, gamma=0.007977992017172543, vega=0.28928563483645936, theta=-1.600000023841858, undPrice=2740.29), lastGreeks=OptionComputation(impliedVol=0.1617841484472551, delta=-0.12683413223836948, optPrice=1.600000023841858, pvDividend=1.9797307383816103, gamma=0.00824395276500179, vega=0.3242411989997001, theta=-1.600000023841858, undPrice=2740.29), modelGreeks=OptionComputation(impliedVol=0.14816635179619014, delta=-0.10645818602458812, optPrice=1.1836543126450338, pvDividend=1.9797307383816103, gamma=0.007949892692089844, vega=0.28635685818612133, theta=-1.1836543126450338, undPrice=2740.29)),\n",
       " Ticker(contract=Option(conId=350157844, symbol='SPX', lastTradeDateOrContractMonth='20190213', strike=2715.0, right='P', multiplier='100', exchange='SMART', currency='USD', localSymbol='SPXW  190213P02715000', tradingClass='SPXW'), time=datetime.datetime(2019, 2, 12, 16, 36, 28, 903716, tzinfo=datetime.timezone.utc), bid=2.0, bidSize=76, ask=2.15, askSize=21, last=1.85, lastSize=1, volume=1680, high=5.1, low=1.85, close=14.0, ticks=[], tickByTicks=[], domBids=[], domAsks=[], domTicks=[], bidGreeks=OptionComputation(impliedVol=0.14152307876939735, delta=-0.14120514601566347, optPrice=2.0, pvDividend=1.9797307383816103, gamma=0.010145668413248184, vega=0.34906368313755354, theta=None, undPrice=2740.29), askGreeks=OptionComputation(impliedVol=0.14507071688825904, delta=-0.1471273900523905, optPrice=2.1500000953674316, pvDividend=1.9797307383816103, gamma=0.0101755694741068, vega=0.358868397664739, theta=-2.1500000953674316, undPrice=2740.29), lastGreeks=OptionComputation(impliedVol=0.1485907312313009, delta=-0.15287386067596687, optPrice=1.850000023841858, pvDividend=1.9797307383816103, gamma=0.010191594003090216, vega=0.36815488640151467, theta=-1.850000023841858, undPrice=2740.29), modelGreeks=OptionComputation(impliedVol=0.1438155823117963, delta=-0.14504704484420117, optPrice=1.6772019235028686, pvDividend=1.9797307383816103, gamma=0.010166649309097072, vega=0.3554516395877399, theta=-1.6772019235028686, undPrice=2740.29)),\n",
       " Ticker(contract=Option(conId=349935116, symbol='SPX', lastTradeDateOrContractMonth='20190213', strike=2720.0, right='P', multiplier='100', exchange='SMART', currency='USD', localSymbol='SPXW  190213P02720000', tradingClass='SPXW'), time=datetime.datetime(2019, 2, 12, 16, 36, 28, 903716, tzinfo=datetime.timezone.utc), bid=2.7, bidSize=197, ask=2.9, askSize=79, last=2.8, lastSize=2, volume=2194, high=6.7, low=2.5, close=16.95, ticks=[], tickByTicks=[], domBids=[], domAsks=[], domTicks=[], bidGreeks=OptionComputation(impliedVol=0.13741638367480263, delta=-0.19169779891076766, optPrice=2.700000047683716, pvDividend=1.9797307383816103, gamma=0.01273467534393401, vega=0.42542511743919137, theta=-2.43420942942376, undPrice=2740.29), askGreeks=OptionComputation(impliedVol=0.1414345269113752, delta=-0.1984644705208124, optPrice=2.9000000953674316, pvDividend=1.9797307383816103, gamma=0.012636571510026047, vega=0.4344916514247119, theta=-2.5593442375367594, undPrice=2740.29), lastGreeks=OptionComputation(impliedVol=0.14940478690318645, delta=-0.21116963345482254, optPrice=2.799999952316284, pvDividend=1.9797307383816103, gamma=0.012412194475974664, vega=0.45082689676307136, theta=-2.799999952316284, undPrice=2740.29), modelGreeks=OptionComputation(impliedVol=0.13972450761629332, delta=-0.19561518065135908, optPrice=2.373071142513261, pvDividend=1.9797307383816103, gamma=0.012679761188404633, vega=0.4307054790846627, theta=-2.373071142513261, undPrice=2740.29)),\n",
       " Ticker(contract=Option(conId=349009840, symbol='SPX', lastTradeDateOrContractMonth='20190213', strike=2725.0, right='P', multiplier='100', exchange='SMART', currency='USD', localSymbol='SPXW  190213P02725000', tradingClass='SPXW'), time=datetime.datetime(2019, 2, 12, 16, 36, 28, 906708, tzinfo=datetime.timezone.utc), bid=3.6, bidSize=111, ask=3.9, askSize=155, last=3.9, lastSize=1, volume=3100, high=8.55, low=3.4, close=20.2, ticks=[], tickByTicks=[], domBids=[], domAsks=[], domTicks=[], bidGreeks=OptionComputation(impliedVol=0.1328620515388473, delta=-0.25510599117169375, optPrice=3.5999999046325684, pvDividend=1.9797307383816103, gamma=0.01550417788951142, vega=0.5007793722580208, theta=-2.763490140873024, undPrice=2740.29), askGreeks=OptionComputation(impliedVol=0.13811244906436326, delta=-0.26311628535226483, optPrice=3.9000000953674316, pvDividend=1.9797307383816103, gamma=0.015155117113774305, vega=0.5088489208480214, theta=-2.9201628554871903, undPrice=2740.29), lastGreeks=OptionComputation(impliedVol=0.14683922973850275, delta=-0.2753924920935428, optPrice=3.9000000953674316, pvDividend=1.9797307383816103, gamma=0.014584252129912805, vega=0.5206225751799666, theta=-3.178516960774529, undPrice=2740.29), modelGreeks=OptionComputation(impliedVol=0.13589166579040143, delta=-0.2597886127514534, optPrice=3.338020953774364, pvDividend=1.9797307383816103, gamma=0.015302448543601476, vega=0.5055341339837224, theta=-2.854011305442035, undPrice=2740.29)),\n",
       " Ticker(contract=Option(conId=338618383, symbol='SPX', lastTradeDateOrContractMonth='20190215', strike=2690.0, right='P', multiplier='100', exchange='SMART', currency='USD', localSymbol='SPXW  190215P02690000', tradingClass='SPXW'), time=datetime.datetime(2019, 2, 12, 16, 36, 29, 105641, tzinfo=datetime.timezone.utc), bid=2.95, bidSize=43, ask=3.1, askSize=188, last=2.9, lastSize=1, volume=499, high=4.75, low=2.85, close=10.15, ticks=[], tickByTicks=[], domBids=[], domAsks=[], domTicks=[], bidGreeks=OptionComputation(impliedVol=0.16781044570029652, delta=-0.12580416462762, optPrice=2.950000047683716, pvDividend=2.451333146872979, gamma=0.004819228369549857, vega=0.5286982171537544, theta=-1.3698992920151933, undPrice=2740.29), askGreeks=OptionComputation(impliedVol=0.1695765825127575, delta=-0.12825566274843037, optPrice=3.0999999046325684, pvDividend=2.451333146872979, gamma=0.004833523626069975, vega=0.5358473319685837, theta=-1.4031439983217027, undPrice=2740.29), lastGreeks=OptionComputation(impliedVol=0.17150279454863324, delta=-0.13090775494855056, optPrice=2.9000000953674316, pvDividend=2.451333146872979, gamma=0.004847480907332999, vega=0.5434988838102922, theta=-1.43946596071953, undPrice=2740.29), modelGreeks=OptionComputation(impliedVol=0.16884957135760434, delta=-0.1272488036891607, optPrice=2.7571959001317428, pvDividend=2.451333146872979, gamma=0.004827816307619412, vega=0.5329200354478207, theta=-1.389451994596586, undPrice=2740.29)),\n",
       " Ticker(contract=Option(conId=338618385, symbol='SPX', lastTradeDateOrContractMonth='20190215', strike=2695.0, right='P', multiplier='100', exchange='SMART', currency='USD', localSymbol='SPXW  190215P02695000', tradingClass='SPXW'), time=datetime.datetime(2019, 2, 12, 16, 36, 29, 104642, tzinfo=datetime.timezone.utc), bid=3.4, bidSize=89, ask=3.6, askSize=132, last=3.5, lastSize=26, volume=249, high=5.8, low=3.4, close=11.6, ticks=[], tickByTicks=[], domBids=[], domAsks=[], domTicks=[], bidGreeks=OptionComputation(impliedVol=0.16270878658298946, delta=-0.14463949354692285, optPrice=3.4000000953674316, pvDividend=2.451333146872979, gamma=0.005469437148193143, vega=0.5817883099370013, theta=-1.459677433422348, undPrice=2740.29), askGreeks=OptionComputation(impliedVol=0.16592758011035114, delta=-0.14929882346853518, optPrice=3.5999999046325684, pvDividend=2.451333146872979, gamma=0.005478602000450534, vega=0.594291720017554, theta=-1.5207959519573784, undPrice=2740.29), lastGreeks=OptionComputation(impliedVol=0.16926010676387962, delta=-0.15403309367524975, optPrice=3.5, pvDividend=2.451333146872979, gamma=0.005483337685131856, vega=0.6067516289791505, theta=-1.5841323369945366, undPrice=2740.29), modelGreeks=OptionComputation(impliedVol=0.16494899556448947, delta=-0.14789126380257922, optPrice=3.241888676870454, pvDividend=2.451333146872979, gamma=0.0054763125946580065, vega=0.5905399103745264, theta=-1.5022074264938439, undPrice=2740.29)),\n",
       " Ticker(contract=Option(conId=338618388, symbol='SPX', lastTradeDateOrContractMonth='20190215', strike=2700.0, right='P', multiplier='100', exchange='SMART', currency='USD', localSymbol='SPXW  190215P02700000', tradingClass='SPXW'), time=datetime.datetime(2019, 2, 12, 16, 36, 29, 104642, tzinfo=datetime.timezone.utc), bid=4.0, bidSize=48, ask=4.2, askSize=168, last=3.8, lastSize=1, volume=714, high=6.55, low=3.8, close=13.2, ticks=[], tickByTicks=[], domBids=[], domAsks=[], domTicks=[], bidGreeks=OptionComputation(impliedVol=0.1595492462654044, delta=-0.16953780981760602, optPrice=4.0, pvDividend=2.451333146872979, gamma=0.0061923251920827475, vega=0.6458919332289023, theta=-1.5867710186183908, undPrice=2740.29), askGreeks=OptionComputation(impliedVol=0.1624737916031021, delta=-0.17385099413856941, optPrice=4.199999809265137, pvDividend=2.451333146872979, gamma=0.006179238836736267, vega=0.6563411679174432, theta=-1.642289326059889, undPrice=2740.29), lastGreeks=OptionComputation(impliedVol=0.1608037919528915, delta=-0.17139891223957981, optPrice=3.799999952316284, pvDividend=2.451333146872979, gamma=0.006187121746060924, vega=0.6504236075268068, theta=-1.6105915996704239, undPrice=2740.29), modelGreeks=OptionComputation(impliedVol=0.1611208839871639, delta=-0.17186672450539797, optPrice=3.8206423731188313, pvDividend=2.451333146872979, gamma=0.006185707443474354, vega=0.6515572178233618, theta=-1.6166112702932984, undPrice=2740.29)),\n",
       " Ticker(contract=Option(conId=338618395, symbol='SPX', lastTradeDateOrContractMonth='20190215', strike=2705.0, right='P', multiplier='100', exchange='SMART', currency='USD', localSymbol='SPXW  190215P02705000', tradingClass='SPXW'), time=datetime.datetime(2019, 2, 12, 16, 36, 28, 906708, tzinfo=datetime.timezone.utc), bid=4.6, bidSize=183, ask=4.9, askSize=163, last=4.6, lastSize=11, volume=207, high=7.6, low=4.5, close=15.1, ticks=[], tickByTicks=[], domBids=[], domAsks=[], domTicks=[], bidGreeks=OptionComputation(impliedVol=0.15561118044939382, delta=-0.1969673629029257, optPrice=4.599999904632568, pvDividend=2.451333146872979, gamma=0.006971869840898157, vega=0.7092533831895114, theta=-1.6965312117658706, undPrice=2740.29), askGreeks=OptionComputation(impliedVol=0.1596027503769374, delta=-0.20283122145471755, optPrice=4.900000095367432, pvDividend=2.451333146872979, gamma=0.006918497122858889, vega=0.7218774641468876, theta=-1.7715321565953437, undPrice=2740.29), lastGreeks=OptionComputation(impliedVol=0.15860835952308933, delta=-0.20138870562514088, optPrice=4.599999904632568, pvDividend=2.451333146872979, gamma=0.0069322028249655995, vega=0.7188010163421543, theta=-1.7528669313511565, undPrice=2740.29), modelGreeks=OptionComputation(impliedVol=0.15737375893596708, delta=-0.19958090574531462, optPrice=4.511494869954048, pvDividend=2.451333146872979, gamma=0.006948851807284197, vega=0.7149187978592755, theta=-1.7296749148617683, undPrice=2740.29)),\n",
       " Ticker(contract=Option(conId=338618398, symbol='SPX', lastTradeDateOrContractMonth='20190215', strike=2710.0, right='P', multiplier='100', exchange='SMART', currency='USD', localSymbol='SPXW  190215P02710000', tradingClass='SPXW'), time=datetime.datetime(2019, 2, 12, 16, 36, 28, 907706, tzinfo=datetime.timezone.utc), bid=5.4, bidSize=142, ask=5.7, askSize=108, last=5.4, lastSize=18, volume=421, high=8.9, low=5.3, close=17.2, ticks=[], tickByTicks=[], domBids=[], domAsks=[], domTicks=[], bidGreeks=OptionComputation(impliedVol=0.15203917847652942, delta=-0.22900328545836324, optPrice=5.400000095367432, pvDividend=2.451333146872979, gamma=0.007792064525538087, vega=0.7744963988826601, theta=-1.806520697216044, undPrice=2740.29), askGreeks=OptionComputation(impliedVol=0.1557201664345541, delta=-0.23424745301992, optPrice=5.699999809265137, pvDividend=2.451333146872979, gamma=0.007704484649067874, vega=0.7843317606949021, theta=-1.8743585545215427, undPrice=2740.29), lastGreeks=OptionComputation(impliedVol=0.15454760951797916, delta=-0.23259722471543987, optPrice=5.400000095367432, pvDividend=2.451333146872979, gamma=0.007732552146809676, vega=0.7812616341580751, theta=-1.852774633993727, undPrice=2740.29), modelGreeks=OptionComputation(impliedVol=0.1537174895900641, delta=-0.23141755025504662, optPrice=5.33523698869456, pvDividend=2.451333146872979, gamma=0.007752331922766441, vega=0.779052975494064, theta=-1.837479774818558, undPrice=2740.29)),\n",
       " Ticker(contract=Option(conId=338618402, symbol='SPX', lastTradeDateOrContractMonth='20190215', strike=2715.0, right='P', multiplier='100', exchange='SMART', currency='USD', localSymbol='SPXW  190215P02715000', tradingClass='SPXW'), time=datetime.datetime(2019, 2, 12, 16, 36, 29, 105641, tzinfo=datetime.timezone.utc), bid=6.4, bidSize=12, ask=6.6, askSize=49, last=6.3, lastSize=3, volume=783, high=10.3, low=6.1, close=19.55, ticks=[], tickByTicks=[], domBids=[], domAsks=[], domTicks=[], bidGreeks=OptionComputation(impliedVol=0.14766013066051129, delta=-0.26432914335888225, optPrice=6.400000095367432, pvDividend=2.451333146872979, gamma=0.008664435552396862, vega=0.8364016335491877, theta=-1.8901857861856644, undPrice=2740.29), askGreeks=OptionComputation(impliedVol=0.15110044809431003, delta=-0.2689381065654244, optPrice=6.599999904632568, pvDividend=2.451333146872979, gamma=0.008541486183879045, vega=0.8437437003169516, theta=-1.9519282465953762, undPrice=2740.29), lastGreeks=OptionComputation(impliedVol=0.14998035454109765, delta=-0.2674566245465305, optPrice=6.300000190734863, pvDividend=2.451333146872979, gamma=0.00858139064053458, vega=0.841401721918315, theta=-1.931849687318862, undPrice=2740.29), modelGreeks=OptionComputation(impliedVol=0.15016294765436936, delta=-0.2676993725586194, optPrice=6.315367185257053, pvDividend=2.451333146872979, gamma=0.008574876865367155, vega=0.8417866333616789, theta=-1.935124346923545, undPrice=2740.29)),\n",
       " Ticker(contract=Option(conId=338618407, symbol='SPX', lastTradeDateOrContractMonth='20190215', strike=2720.0, right='P', multiplier='100', exchange='SMART', currency='USD', localSymbol='SPXW  190215P02720000', tradingClass='SPXW'), time=datetime.datetime(2019, 2, 12, 16, 36, 29, 105641, tzinfo=datetime.timezone.utc), bid=7.5, bidSize=26, ask=7.7, askSize=32, last=7.1, lastSize=1, volume=582, high=12.2, low=7.1, close=22.2, ticks=[], tickByTicks=[], domBids=[], domAsks=[], domTicks=[], bidGreeks=OptionComputation(impliedVol=0.14427302815084977, delta=-0.3057375523712387, optPrice=7.5, pvDividend=2.451333146872979, gamma=0.009505789903109263, vega=0.8965710403781446, theta=-1.9742479020656063, undPrice=2740.29), askGreeks=OptionComputation(impliedVol=0.1474916170314319, delta=-0.30953061581496577, optPrice=7.699999809265137, pvDividend=2.451333146872979, gamma=0.009348901899306528, vega=0.9014451115769451, theta=-2.0301376383553227, undPrice=2740.29), lastGreeks=OptionComputation(impliedVol=0.1425103856138127, delta=-0.30359587207695027, optPrice=7.099999904632568, pvDividend=2.451333146872979, gamma=0.009593326271546179, vega=0.8937726866949841, theta=-1.9435720207353855, undPrice=2740.29), modelGreeks=OptionComputation(impliedVol=0.14672165685968278, delta=-0.3086367356553441, optPrice=7.477786590496149, pvDividend=2.451333146872979, gamma=0.009386085888974221, vega=0.9003058972081686, theta=-2.0167818879774106, undPrice=2740.29)),\n",
       " Ticker(contract=Option(conId=338618408, symbol='SPX', lastTradeDateOrContractMonth='20190215', strike=2725.0, right='P', multiplier='100', exchange='SMART', currency='USD', localSymbol='SPXW  190215P02725000', tradingClass='SPXW'), time=datetime.datetime(2019, 2, 12, 16, 36, 29, 105641, tzinfo=datetime.timezone.utc), bid=8.8, bidSize=24, ask=9.0, askSize=20, last=8.7, lastSize=1, volume=394, high=13.8, low=8.5, close=25.1, ticks=[], tickByTicks=[], domBids=[], domAsks=[], domTicks=[], bidGreeks=OptionComputation(impliedVol=0.1410475944611374, delta=-0.3520262186698553, optPrice=8.800000190734863, pvDividend=2.451333146872979, gamma=0.010292157212043808, vega=0.949037653103729, theta=-2.0363496079993406, undPrice=2740.29), askGreeks=OptionComputation(impliedVol=0.1440903231148377, delta=-0.35490337872218103, optPrice=9.0, pvDividend=2.451333146872979, gamma=0.010104182099915494, vega=0.9518035670866298, theta=-2.087409327313481, undPrice=2740.29), lastGreeks=OptionComputation(impliedVol=0.14182577308522906, delta=-0.3527732114878842, optPrice=8.699999809265137, pvDividend=2.451333146872979, gamma=0.010243489645961886, vega=0.9497612371057947, theta=-2.0494170006501564, undPrice=2740.29), modelGreeks=OptionComputation(impliedVol=0.1434054971936939, delta=-0.35426593980472454, optPrice=8.850149242381887, pvDividend=2.451333146872979, gamma=0.010145950124351138, vega=0.951195683699007, theta=-2.0759253740382144, undPrice=2740.29)),\n",
       " Ticker(contract=Option(conId=349550943, symbol='SPX', lastTradeDateOrContractMonth='20190219', strike=2690.0, right='P', multiplier='100', exchange='SMART', currency='USD', localSymbol='SPXW  190219P02690000', tradingClass='SPXW'), time=datetime.datetime(2019, 2, 12, 16, 36, 29, 291503, tzinfo=datetime.timezone.utc), bid=4.7, bidSize=179, ask=5.0, askSize=88, volume=65, high=7.1, low=4.8, close=12.9, ticks=[], tickByTicks=[], domBids=[], domAsks=[], domTicks=[], bidGreeks=OptionComputation(impliedVol=0.13440751367934056, delta=-0.16614268970913304, optPrice=4.699999809265137, pvDividend=2.4866468964363677, gamma=0.004830079095035655, vega=0.9576752844475869, theta=-0.8647049534037103, undPrice=2740.29), askGreeks=OptionComputation(impliedVol=0.137438936666041, delta=-0.17142292764082356, optPrice=5.0, pvDividend=2.4866468964363677, gamma=0.004819472224275077, vega=0.9771241731429352, theta=-0.9025148652166868, undPrice=2740.29), lastGreeks=OptionComputation(impliedVol=None, delta=None, optPrice=None, pvDividend=2.4866468964363677, gamma=None, vega=None, theta=None, undPrice=2740.28), modelGreeks=OptionComputation(impliedVol=0.1604030156660453, delta=-0.2073220647248587, optPrice=7.280655296265847, pvDividend=2.4866468964363677, gamma=0.0046427764478761974, vega=1.0985777302134105, theta=-1.1874554321969535, undPrice=2740.29)),\n",
       " Ticker(contract=Option(conId=350039935, symbol='SPX', lastTradeDateOrContractMonth='20190219', strike=2695.0, right='P', multiplier='100', exchange='SMART', currency='USD', localSymbol='SPXW  190219P02695000', tradingClass='SPXW'), time=datetime.datetime(2019, 2, 12, 16, 36, 29, 290506, tzinfo=datetime.timezone.utc), bid=5.4, bidSize=23, ask=5.6, askSize=43, last=5.3, lastSize=1, volume=15, high=6.75, low=5.3, close=14.4, ticks=[], tickByTicks=[], domBids=[], domAsks=[], domTicks=[], bidGreeks=OptionComputation(impliedVol=0.13237001003046367, delta=-0.1883063520838999, optPrice=5.400000095367432, pvDividend=2.4866468964363677, gamma=0.0053082315814236315, vega=1.0365254087640405, theta=-0.91959848969512, undPrice=2740.29), askGreeks=OptionComputation(impliedVol=0.1342498424479769, delta=-0.191594308040548, optPrice=5.599999904632568, pvDividend=2.4866468964363677, gamma=0.005289895481258034, vega=1.047614172936494, theta=-0.9428974319382535, undPrice=2740.29), lastGreeks=OptionComputation(impliedVol=0.1323503714558031, delta=-0.18827169200472083, optPrice=5.300000190734863, pvDividend=2.4866468964363677, gamma=0.005308416335080763, vega=1.036407699644523, theta=-0.9193549567134891, undPrice=2740.29), modelGreeks=OptionComputation(impliedVol=0.15705501376032452, delta=-0.2271156969445427, optPrice=8.02069699990394, pvDividend=2.4866468964363677, gamma=0.004998274360614712, vega=1.158010202888599, theta=-1.223089657535107, undPrice=2740.29)),\n",
       " Ticker(contract=Option(conId=349550947, symbol='SPX', lastTradeDateOrContractMonth='20190219', strike=2700.0, right='P', multiplier='100', exchange='SMART', currency='USD', localSymbol='SPXW  190219P02700000', tradingClass='SPXW'), time=datetime.datetime(2019, 2, 12, 16, 36, 29, 290506, tzinfo=datetime.timezone.utc), bid=6.1, bidSize=38, ask=6.3, askSize=23, last=6.0, lastSize=10, volume=197, high=8.95, low=6.0, close=16.1, ticks=[], tickByTicks=[], domBids=[], domAsks=[], domTicks=[], bidGreeks=OptionComputation(impliedVol=0.1294612327502432, delta=-0.21140703276621198, optPrice=6.099999904632568, pvDividend=2.4866468964363677, gamma=0.005818852305089744, vega=1.1112648087894597, theta=-0.96161226493671, undPrice=2740.29), askGreeks=OptionComputation(impliedVol=0.13121954043100162, delta=-0.21445648099283088, optPrice=6.300000190734863, pvDividend=2.4866468964363677, gamma=0.005789062213651556, vega=1.1205912282223656, theta=-0.9831499970055629, undPrice=2740.29), lastGreeks=OptionComputation(impliedVol=0.12934175043769494, delta=-0.21119770987534947, optPrice=6.0, pvDividend=2.4866468964363677, gamma=0.005820848632732126, vega=1.1106201007498075, theta=-0.9601475242424375, undPrice=2740.29), modelGreeks=OptionComputation(impliedVol=0.1537682257706983, delta=-0.24889093559850306, optPrice=8.85285798696628, pvDividend=2.4866468964363677, gamma=0.00536795540310936, vega=1.2176318280854512, theta=-1.2562998755242438, undPrice=2740.29)),\n",
       " Ticker(contract=Option(conId=350157875, symbol='SPX', lastTradeDateOrContractMonth='20190219', strike=2705.0, right='P', multiplier='100', exchange='SMART', currency='USD', localSymbol='SPXW  190219P02705000', tradingClass='SPXW'), time=datetime.datetime(2019, 2, 12, 16, 36, 29, 291503, tzinfo=datetime.timezone.utc), bid=6.9, bidSize=41, ask=7.2, askSize=66, last=6.8, lastSize=4, volume=57, high=10.2, low=6.8, close=18.0, ticks=[], tickByTicks=[], domBids=[], domAsks=[], domTicks=[], bidGreeks=OptionComputation(impliedVol=0.12657296744025048, delta=-0.23723199824214147, optPrice=6.900000095367432, pvDividend=2.4866468964363677, gamma=0.006354259215333601, vega=1.1864416352940357, theta=-1.000640070725369, undPrice=2740.29), askGreeks=OptionComputation(impliedVol=0.12822366376859082, delta=-0.24001409840443821, optPrice=7.199999809265137, pvDividend=2.4866468964363677, gamma=0.006312608148161416, vega=1.1940362252204468, theta=-1.0205188013509114, undPrice=2740.29), lastGreeks=OptionComputation(impliedVol=0.1263337567209944, delta=-0.23682422092199829, optPrice=6.800000190734863, pvDividend=2.4866468964363677, gamma=0.006360274549038778, vega=1.1853204110296975, theta=-0.9977565103769099, undPrice=2740.29), modelGreeks=OptionComputation(impliedVol=0.1277153480537993, delta=-0.23916325871766808, optPrice=6.964209086324819, pvDividend=2.4866468964363677, gamma=0.006325458693054249, vega=1.1917237776451086, theta=-1.014400978796304, undPrice=2740.29)),\n",
       " Ticker(contract=Option(conId=349550950, symbol='SPX', lastTradeDateOrContractMonth='20190219', strike=2710.0, right='P', multiplier='100', exchange='SMART', currency='USD', localSymbol='SPXW  190219P02710000', tradingClass='SPXW'), time=datetime.datetime(2019, 2, 12, 16, 36, 29, 290506, tzinfo=datetime.timezone.utc), bid=7.9, bidSize=17, ask=8.1, askSize=40, last=8.3, lastSize=3, volume=80, high=11.2, low=7.65, close=20.1, ticks=[], tickByTicks=[], domBids=[], domAsks=[], domTicks=[], bidGreeks=OptionComputation(impliedVol=0.12437722538997831, delta=-0.2670655215776294, optPrice=7.900000095367432, pvDividend=2.4866468964363677, gamma=0.0068836044088958805, vega=1.262982281190384, theta=-1.0431472075094301, undPrice=2740.29), askGreeks=OptionComputation(impliedVol=0.12593062175308303, delta=-0.26952180766007616, optPrice=8.100000381469727, pvDividend=2.4866468964363677, gamma=0.006830076499872622, vega=1.268812372520015, theta=-1.0614427760051182, undPrice=2740.29), lastGreeks=OptionComputation(impliedVol=0.12794859804390415, delta=-0.2726384169016096, optPrice=8.300000190734863, pvDividend=2.4866468964363677, gamma=0.006761011838496964, vega=1.276108840409346, theta=-1.08516516325363, undPrice=2740.29), modelGreeks=OptionComputation(impliedVol=0.12512111682295193, delta=-0.26824809855260756, optPrice=7.9406241487992935, pvDividend=2.4866468964363677, gamma=0.0068579337700629866, vega=1.265797950550304, theta=-1.05191238815902, undPrice=2740.29)),\n",
       " Ticker(contract=Option(conId=350157881, symbol='SPX', lastTradeDateOrContractMonth='20190219', strike=2715.0, right='P', multiplier='100', exchange='SMART', currency='USD', localSymbol='SPXW  190219P02715000', tradingClass='SPXW'), time=datetime.datetime(2019, 2, 12, 16, 36, 29, 290506, tzinfo=datetime.timezone.utc), bid=8.9, bidSize=68, ask=9.2, askSize=27, last=8.9, lastSize=9, volume=141, high=12.0, low=8.9, close=22.45, ticks=[], tickByTicks=[], domBids=[], domAsks=[], domTicks=[], bidGreeks=OptionComputation(impliedVol=0.1211793025002422, delta=-0.29832172902074494, optPrice=8.899999618530273, pvDividend=2.4866468964363677, gamma=0.007451453957596503, vega=1.3320175901749418, theta=-1.0673747363802195, undPrice=2740.29), askGreeks=OptionComputation(impliedVol=0.12338945776997438, delta=-0.3015104762593568, optPrice=9.199999809265137, pvDividend=2.4866468964363677, gamma=0.007353284195297791, vega=1.3384430480676668, theta=-1.0927710532309298, undPrice=2740.29), lastGreeks=OptionComputation(impliedVol=0.12138795055847958, delta=-0.2986271408653831, optPrice=8.899999618530273, pvDividend=2.4866468964363677, gamma=0.007442109981997215, vega=1.3326378752904537, theta=-1.069774565453191, undPrice=2740.29), modelGreeks=OptionComputation(impliedVol=0.1225959950661087, delta=-0.3003773887246708, optPrice=9.061203230760627, pvDividend=2.4866468964363677, gamma=0.00738832208540281, vega=1.3361726933588671, theta=-1.0836597572061826, undPrice=2740.29)),\n",
       " Ticker(contract=Option(conId=349935162, symbol='SPX', lastTradeDateOrContractMonth='20190219', strike=2720.0, right='P', multiplier='100', exchange='SMART', currency='USD', localSymbol='SPXW  190219P02720000', tradingClass='SPXW'), time=datetime.datetime(2019, 2, 12, 16, 36, 29, 291503, tzinfo=datetime.timezone.utc), bid=10.2, bidSize=26, ask=10.5, askSize=36, last=11.2, lastSize=19, volume=681, high=13.35, low=9.8, close=25.05, ticks=[], tickByTicks=[], domBids=[], domAsks=[], domTicks=[], bidGreeks=OptionComputation(impliedVol=0.11912460258222707, delta=-0.3343355303532014, optPrice=10.199999809265137, pvDividend=2.4866468964363677, gamma=0.007956380251215058, vega=1.3981619690228217, theta=-1.0963742615184062, undPrice=2740.29), askGreeks=OptionComputation(impliedVol=0.1212318930539577, delta=-0.3369408881049132, optPrice=10.5, pvDividend=2.4866468964363677, gamma=0.007841826651036856, vega=1.4024087533230205, theta=-1.11996073160241, undPrice=2740.29), lastGreeks=OptionComputation(impliedVol=0.1262322419928938, delta=-0.34279603003636105, optPrice=11.199999809265137, pvDividend=2.4866468964363677, gamma=0.007581049507118679, vega=1.4116925337762547, theta=-1.1757907574545707, undPrice=2740.29), modelGreeks=OptionComputation(impliedVol=0.12014687245350451, delta=-0.3356100808557998, optPrice=10.344335378780285, pvDividend=2.4866468964363677, gamma=0.007900455656443697, vega=1.4002484457928561, theta=-1.1078207887595304, undPrice=2740.29)),\n",
       " Ticker(contract=Option(conId=349550956, symbol='SPX', lastTradeDateOrContractMonth='20190219', strike=2725.0, right='P', multiplier='100', exchange='SMART', currency='USD', localSymbol='SPXW  190219P02725000', tradingClass='SPXW'), time=datetime.datetime(2019, 2, 12, 16, 36, 29, 290506, tzinfo=datetime.timezone.utc), bid=11.6, bidSize=34, ask=12.0, askSize=34, last=11.6, lastSize=50, volume=253, high=15.15, low=11.3, close=27.85, ticks=[], tickByTicks=[], domBids=[], domAsks=[], domTicks=[], bidGreeks=OptionComputation(impliedVol=0.11660432288207218, delta=-0.37274425760093255, optPrice=11.600000381469727, pvDividend=2.4866468964363677, gamma=0.008450769673480397, vega=1.4536217274885084, theta=-1.1096113885213765, undPrice=2740.29), askGreeks=OptionComputation(impliedVol=0.1186313515963563, delta=-0.3747383421398721, optPrice=12.0, pvDividend=2.4866468964363677, gamma=0.008320463690385698, vega=1.4560875800604318, theta=-1.1317656122558928, undPrice=2740.29), lastGreeks=OptionComputation(impliedVol=0.11634261905356093, delta=-0.3724818583221359, optPrice=11.600000381469727, pvDividend=2.4866468964363677, gamma=0.00846787090577142, vega=1.4532942459224283, theta=-1.1067497237292716, undPrice=2740.29), modelGreeks=OptionComputation(impliedVol=0.11778049601063516, delta=-0.37390948926609424, optPrice=11.809093433799575, pvDividend=2.4866468964363677, gamma=0.008374700437431732, vega=1.455067530219566, theta=-1.122468573743751, undPrice=2740.29)),\n",
       " Ticker(contract=Option(conId=349009389, symbol='SPX', lastTradeDateOrContractMonth='20190213', strike=2690.0, right='C', multiplier='100', exchange='SMART', currency='USD', localSymbol='SPXW  190213C02690000', tradingClass='SPXW'), time=datetime.datetime(2019, 2, 12, 16, 36, 28, 919675, tzinfo=datetime.timezone.utc), bid=49.9, bidSize=56, ask=52.1, askSize=140, last=51.5, lastSize=50, volume=206, high=51.5, low=39.5, close=24.3, ticks=[], tickByTicks=[], domBids=[], domAsks=[], domTicks=[], bidGreeks=OptionComputation(impliedVol=None, delta=None, optPrice=49.900001525878906, pvDividend=1.9797307383816103, gamma=None, vega=None, theta=None, undPrice=2740.28), askGreeks=OptionComputation(impliedVol=0.22070411939970713, delta=0.9235122684462571, optPrice=52.099998474121094, pvDividend=1.9797307383816103, gamma=0.00417556611014352, vega=0.22403843895589026, theta=-2.257775604088649, undPrice=2740.29), lastGreeks=OptionComputation(impliedVol=0.2838714937303585, delta=0.8674230083764166, optPrice=51.5, pvDividend=1.9797307383816103, gamma=0.004844731575441764, vega=0.3343399224524138, theta=-2.973275603599177, undPrice=2740.29), modelGreeks=OptionComputation(impliedVol=0.16844223212933632, delta=0.9691931215698234, optPrice=48.84229129114336, pvDividend=1.9797307383816103, gamma=0.0026483680247577353, vega=0.10844912647169971, theta=-0.3155668947425383, undPrice=2740.29)),\n",
       " Ticker(contract=Option(conId=350039901, symbol='SPX', lastTradeDateOrContractMonth='20190213', strike=2695.0, right='C', multiplier='100', exchange='SMART', currency='USD', localSymbol='SPXW  190213C02695000', tradingClass='SPXW'), time=datetime.datetime(2019, 2, 12, 16, 36, 28, 920707, tzinfo=datetime.timezone.utc), bid=45.0, bidSize=56, ask=47.2, askSize=100, last=44.2, lastSize=1, volume=23, high=46.0, low=34.35, close=20.55, ticks=[], tickByTicks=[], domBids=[], domAsks=[], domTicks=[], bidGreeks=OptionComputation(impliedVol=None, delta=0.9967049474403118, optPrice=45.0, pvDividend=1.9797307383816103, gamma=0.0007468658340061008, vega=0.01568200012822689, theta=-0.23725566607687062, undPrice=2740.28), askGreeks=OptionComputation(impliedVol=0.20741036960856876, delta=0.9135073085369174, optPrice=47.20000076293945, pvDividend=1.9797307383816103, gamma=0.004874889246320282, vega=0.24580570214218714, theta=-2.321163187342778, undPrice=2740.29), lastGreeks=OptionComputation(impliedVol=0.17820674170010967, delta=0.9434239713000107, optPrice=44.20000076293945, pvDividend=1.9797307383816103, gamma=0.004093803550541547, vega=0.17735680747875424, theta=-0.6728740335743169, undPrice=2740.29), modelGreeks=OptionComputation(impliedVol=0.1629314499355566, delta=0.9583449425971446, optPrice=43.95836991500988, pvDividend=1.9797307383816103, gamma=0.00350556470202532, vega=0.13885439937284028, theta=-0.43124318564474606, undPrice=2740.29)),\n",
       " Ticker(contract=Option(conId=349009395, symbol='SPX', lastTradeDateOrContractMonth='20190213', strike=2700.0, right='C', multiplier='100', exchange='SMART', currency='USD', localSymbol='SPXW  190213C02700000', tradingClass='SPXW'), time=datetime.datetime(2019, 2, 12, 16, 36, 28, 921685, tzinfo=datetime.timezone.utc), bid=40.4, bidSize=56, ask=42.3, askSize=114, last=43.2, lastSize=10, volume=43, high=43.2, low=29.25, close=17.0, ticks=[], tickByTicks=[], domBids=[], domAsks=[], domTicks=[], bidGreeks=OptionComputation(impliedVol=0.09570321692625611, delta=0.9953793843231749, optPrice=40.400001525878906, pvDividend=1.9797307383816103, gamma=0.0009031897410743356, vega=0.021013687370877884, theta=-0.26769506371003976, undPrice=2740.29), askGreeks=OptionComputation(impliedVol=0.19347066544846514, delta=0.9017823211243703, optPrice=42.29999923706055, pvDividend=1.9797307383816103, gamma=0.005741785781705138, vega=0.2700591183779209, theta=-2.372797526875667, undPrice=2740.29), lastGreeks=OptionComputation(impliedVol=0.28545317689934385, delta=0.8105474806098855, optPrice=43.20000076293945, pvDividend=1.9797307383816103, gamma=0.00608625733420571, vega=0.4223591685548373, theta=-4.672471700610004, undPrice=2740.29), modelGreeks=OptionComputation(impliedVol=0.15770944948856608, delta=0.9432233922260154, optPrice=39.12520755927507, pvDividend=1.9797307383816103, gamma=0.004638784813061918, vega=0.1778519687499968, theta=-0.597678496945619, undPrice=2740.29)),\n",
       " Ticker(contract=Option(conId=350157821, symbol='SPX', lastTradeDateOrContractMonth='20190213', strike=2705.0, right='C', multiplier='100', exchange='SMART', currency='USD', localSymbol='SPXW  190213C02705000', tradingClass='SPXW'), time=datetime.datetime(2019, 2, 12, 16, 36, 28, 922669, tzinfo=datetime.timezone.utc), bid=35.8, bidSize=56, ask=36.9, askSize=7, last=37.8, lastSize=2, volume=69, high=38.8, low=26.1, close=13.8, ticks=[], tickByTicks=[], domBids=[], domAsks=[], domTicks=[], bidGreeks=OptionComputation(impliedVol=0.1222047063040091, delta=0.9619657206869606, optPrice=35.79999923706055, pvDividend=1.9797307383816103, gamma=0.0043408076152141855, vega=0.1289600534714088, theta=-0.842692266261367, undPrice=2740.29), askGreeks=OptionComputation(impliedVol=0.1646289339481246, delta=0.90640315392873, optPrice=36.900001525878906, pvDividend=1.9797307383816103, gamma=0.0065127307955359015, vega=0.2606549803668214, theta=-1.9795042581370605, undPrice=2740.29), lastGreeks=OptionComputation(impliedVol=0.2530167745409665, delta=0.8057476470987165, optPrice=37.79999923706055, pvDividend=1.9797307383816103, gamma=0.006972492957583934, vega=0.42887836041719046, theta=-4.272067841766784, undPrice=2740.29), modelGreeks=OptionComputation(impliedVol=0.15279115724349443, delta=0.9222562122197767, optPrice=34.36585086178164, pvDividend=1.9797307383816103, gamma=0.006106650261716899, vega=0.22682869948917028, theta=-0.8379194664878753, undPrice=2740.29)),\n",
       " Ticker(contract=Option(conId=349438759, symbol='SPX', lastTradeDateOrContractMonth='20190213', strike=2710.0, right='C', multiplier='100', exchange='SMART', currency='USD', localSymbol='SPXW  190213C02710000', tradingClass='SPXW'), time=datetime.datetime(2019, 2, 12, 16, 36, 28, 922669, tzinfo=datetime.timezone.utc), bid=31.1, bidSize=56, ask=32.9, askSize=96, last=33.1, lastSize=22, volume=186, high=33.25, low=21.0, close=10.9, ticks=[], tickByTicks=[], domBids=[], domAsks=[], domTicks=[], bidGreeks=OptionComputation(impliedVol=0.12144443915224609, delta=0.9354888725198128, optPrice=31.100000381469727, pvDividend=1.9797307383816103, gamma=0.006656974509745319, vega=0.19654014049988922, theta=-1.1807135121801815, undPrice=2740.29), askGreeks=OptionComputation(impliedVol=0.17313373330060694, delta=0.8570775514341717, optPrice=32.900001525878906, pvDividend=1.9797307383816103, gamma=0.008361417271749699, vega=0.35193164999227733, theta=-2.7319748764133793, undPrice=2740.29), lastGreeks=OptionComputation(impliedVol=0.23620260373805843, delta=0.7838953138412379, optPrice=33.099998474121094, pvDividend=1.9797307383816103, gamma=0.0079574420621015, vega=0.4569355001454289, theta=-4.571664745863018, undPrice=2740.29), modelGreeks=OptionComputation(impliedVol=0.14816635179619014, delta=0.8935418139754119, optPrice=29.71198804090286, pvDividend=1.9797307383816103, gamma=0.007949892692089844, vega=0.28635685818612133, theta=-1.1836543126447836, undPrice=2740.29)),\n",
       " Ticker(contract=Option(conId=350157829, symbol='SPX', lastTradeDateOrContractMonth='20190213', strike=2715.0, right='C', multiplier='100', exchange='SMART', currency='USD', localSymbol='SPXW  190213C02715000', tradingClass='SPXW'), time=datetime.datetime(2019, 2, 12, 16, 36, 28, 923663, tzinfo=datetime.timezone.utc), bid=26.8, bidSize=12, ask=28.4, askSize=18, last=28.4, lastSize=1, volume=92, high=28.4, low=16.5, close=8.4, ticks=[], tickByTicks=[], domBids=[], domAsks=[], domTicks=[], bidGreeks=OptionComputation(impliedVol=0.12741282049324792, delta=0.8835876254596355, optPrice=26.799999237060547, pvDividend=1.9797307383816103, gamma=0.009855638689908158, vega=0.3052773886059794, theta=-1.8062900203226493, undPrice=2740.29), askGreeks=OptionComputation(impliedVol=0.1647380094742786, delta=0.8224315612842603, optPrice=28.399999618530273, pvDividend=1.9797307383816103, gamma=0.010128690705132625, vega=0.40564288067960674, theta=-2.974843967258633, undPrice=2740.29), lastGreeks=OptionComputation(impliedVol=0.21792531103440402, delta=0.7585522782905504, optPrice=28.399999618530273, pvDividend=1.9797307383816103, gamma=0.009179071675491904, vega=0.4862987689830546, theta=-4.61703122252744, undPrice=2740.29), modelGreeks=OptionComputation(impliedVol=0.1438155823117963, delta=0.8549529551557988, optPrice=25.205937984724915, pvDividend=1.9797307383816103, gamma=0.010166649309097072, vega=0.3554516395877399, theta=-1.6772019235025262, undPrice=2740.29)),\n",
       " Ticker(contract=Option(conId=349935103, symbol='SPX', lastTradeDateOrContractMonth='20190213', strike=2720.0, right='C', multiplier='100', exchange='SMART', currency='USD', localSymbol='SPXW  190213C02720000', tradingClass='SPXW'), time=datetime.datetime(2019, 2, 12, 16, 36, 28, 924661, tzinfo=datetime.timezone.utc), bid=22.5, bidSize=13, ask=24.0, askSize=20, last=22.3, lastSize=20, volume=512, high=24.4, low=13.25, close=6.35, ticks=[], tickByTicks=[], domBids=[], domAsks=[], domTicks=[], bidGreeks=OptionComputation(impliedVol=0.12573654820281766, delta=0.8294338024651277, optPrice=22.5, pvDividend=1.9797307383816103, gamma=0.012935333846458954, vega=0.3953993127342133, theta=-2.2536617889751027, undPrice=2740.29), askGreeks=OptionComputation(impliedVol=0.15576690941574187, delta=0.779335960929325, optPrice=24.0, pvDividend=1.9797307383816103, gamma=0.012212536207555285, vega=0.4624638624366481, theta=-3.187324258328964, undPrice=2740.29), lastGreeks=OptionComputation(impliedVol=0.17011617981451793, delta=0.759840546150992, optPrice=22.299999237060547, pvDividend=1.9797307383816103, gamma=0.011724561493441987, vega=0.4848852406267371, theta=-3.6251905835554425, undPrice=2740.29), modelGreeks=OptionComputation(impliedVol=0.13972450761629332, delta=0.8043848193486409, optPrice=20.9022095366997, pvDividend=1.9797307383816103, gamma=0.012679761188404633, vega=0.4307054790846627, theta=-2.373071142513453, undPrice=2740.29)),\n",
       " Ticker(contract=Option(conId=349009398, symbol='SPX', lastTradeDateOrContractMonth='20190213', strike=2725.0, right='C', multiplier='100', exchange='SMART', currency='USD', localSymbol='SPXW  190213C02725000', tradingClass='SPXW'), time=datetime.datetime(2019, 2, 12, 16, 36, 28, 924661, tzinfo=datetime.timezone.utc), bid=18.8, bidSize=1, ask=19.3, askSize=1, last=20.6, lastSize=1, volume=3304, high=20.75, low=10.3, close=4.6, ticks=[], tickByTicks=[], domBids=[], domAsks=[], domTicks=[], bidGreeks=OptionComputation(impliedVol=0.13006973504076388, delta=0.7493620910013206, optPrice=18.799999237060547, pvDividend=1.9797307383816103, gamma=0.015690402127050418, vega=0.4961432239311321, theta=-2.865055589084977, undPrice=2740.29), askGreeks=OptionComputation(impliedVol=0.13711225875241959, delta=0.7383716853880624, optPrice=19.299999237060547, pvDividend=1.9797307383816103, gamma=0.015221398813587911, vega=0.5073732716796634, theta=-3.07567572090169, undPrice=2740.29), lastGreeks=OptionComputation(impliedVol=0.20477054037902334, delta=0.6666339591196973, optPrice=20.600000381469727, pvDividend=1.9797307383816103, gamma=0.01138871096743865, vega=0.5669421967584183, theta=-5.027876210399063, undPrice=2740.29), modelGreeks=OptionComputation(impliedVol=0.13589166579040143, delta=0.7402113872485466, optPrice=16.867561680925085, pvDividend=1.9797307383816103, gamma=0.015302448543601476, vega=0.5055341339837224, theta=-3.039296345846704, undPrice=2740.29)),\n",
       " Ticker(contract=Option(conId=338617436, symbol='SPX', lastTradeDateOrContractMonth='20190215', strike=2690.0, right='C', multiplier='100', exchange='SMART', currency='USD', localSymbol='SPXW  190215C02690000', tradingClass='SPXW'), time=datetime.datetime(2019, 2, 12, 16, 36, 29, 286534, tzinfo=datetime.timezone.utc), bid=52.3, bidSize=5, ask=54.4, askSize=68, volume=11, high=54.55, low=44.6, close=29.3, ticks=[], tickByTicks=[], domBids=[], domAsks=[], domTicks=[], bidGreeks=OptionComputation(impliedVol=0.15211582716801986, delta=0.8967406037084362, optPrice=52.29999923706055, pvDividend=2.451333146872979, gamma=0.004618870528946434, vega=0.45932654063083794, theta=-1.2609568766904917, undPrice=2740.29), askGreeks=OptionComputation(impliedVol=0.1886720275032103, delta=0.8464979385662347, optPrice=54.400001525878906, pvDividend=2.451333146872979, gamma=0.004907940235917275, vega=0.6053661463403531, theta=-1.9479748720716343, undPrice=2740.29), lastGreeks=OptionComputation(impliedVol=None, delta=None, optPrice=None, pvDividend=2.451333146872979, gamma=None, vega=None, theta=None, undPrice=2740.28), modelGreeks=OptionComputation(impliedVol=0.16884957135760434, delta=0.8727511963108393, optPrice=51.178103479156654, pvDividend=2.451333146872979, gamma=0.004827816307619412, vega=0.5329200354478207, theta=-1.5723323537292464, undPrice=2740.29)),\n",
       " Ticker(contract=Option(conId=338617440, symbol='SPX', lastTradeDateOrContractMonth='20190215', strike=2695.0, right='C', multiplier='100', exchange='SMART', currency='USD', localSymbol='SPXW  190215C02695000', tradingClass='SPXW'), time=datetime.datetime(2019, 2, 12, 16, 36, 29, 287517, tzinfo=datetime.timezone.utc), bid=47.8, bidSize=5, ask=49.6, askSize=8, last=50.6, lastSize=1, volume=21, high=50.6, low=38.6, close=25.7, ticks=[], tickByTicks=[], domBids=[], domAsks=[], domTicks=[], bidGreeks=OptionComputation(impliedVol=0.15021329555244067, delta=0.874234897450934, optPrice=47.79999923706055, pvDividend=2.451333146872979, gamma=0.005382624054055415, vega=0.5285837046016836, theta=-1.406748714849638, undPrice=2740.29), askGreeks=OptionComputation(impliedVol=0.17902952049163484, delta=0.8326159866092215, optPrice=49.599998474121094, pvDividend=2.451333146872979, gamma=0.005473353584761627, vega=0.6406037869519838, theta=-1.953118262427625, undPrice=2740.29), lastGreeks=OptionComputation(impliedVol=0.22276919162748893, delta=0.7819667787438542, optPrice=50.599998474121094, pvDividend=2.451333146872979, gamma=0.005171604389136957, vega=0.7531678487053535, theta=-2.7774301931263503, undPrice=2740.29), modelGreeks=OptionComputation(impliedVol=0.16494899556448947, delta=0.8521087361974208, optPrice=46.66387848772743, pvDividend=2.451333146872979, gamma=0.0054763125946580065, vega=0.5905399103745264, theta=-1.6854277119445946, undPrice=2740.29)),\n",
       " Ticker(contract=Option(conId=338617445, symbol='SPX', lastTradeDateOrContractMonth='20190215', strike=2700.0, right='C', multiplier='100', exchange='SMART', currency='USD', localSymbol='SPXW  190215C02700000', tradingClass='SPXW'), time=datetime.datetime(2019, 2, 12, 16, 36, 29, 285519, tzinfo=datetime.timezone.utc), bid=43.4, bidSize=5, ask=45.2, askSize=8, last=37.5, lastSize=2, volume=95, high=45.6, low=33.55, close=22.35, ticks=[], tickByTicks=[], domBids=[], domAsks=[], domTicks=[], bidGreeks=OptionComputation(impliedVol=0.1482298949012171, delta=0.8480012569990087, optPrice=43.400001525878906, pvDividend=2.451333146872979, gamma=0.006206347070107827, vega=0.6014273965035429, theta=-1.5552909629004508, undPrice=2740.29), askGreeks=OptionComputation(impliedVol=0.1771261434223315, delta=0.8058451124900282, optPrice=45.20000076293945, pvDividend=2.451333146872979, gamma=0.006071761124346512, vega=0.70308639177634, theta=-2.103098241729279, undPrice=2740.29), lastGreeks=OptionComputation(impliedVol=None, delta=None, optPrice=37.5, pvDividend=2.451333146872979, gamma=None, vega=None, theta=None, undPrice=2740.28), modelGreeks=OptionComputation(impliedVol=0.1611208839871639, delta=0.828133275494602, optPrice=42.24371441580811, pvDividend=2.451333146872979, gamma=0.006185707443474354, vega=0.6515572178233618, theta=-1.8001714820621395, undPrice=2740.29)),\n",
       " Ticker(contract=Option(conId=338617450, symbol='SPX', lastTradeDateOrContractMonth='20190215', strike=2705.0, right='C', multiplier='100', exchange='SMART', currency='USD', localSymbol='SPXW  190215C02705000', tradingClass='SPXW'), time=datetime.datetime(2019, 2, 12, 16, 36, 29, 289509, tzinfo=datetime.timezone.utc), bid=39.2, bidSize=6, ask=41.0, askSize=68, last=32.8, lastSize=1, volume=106, high=40.6, low=29.35, close=19.25, ticks=[], tickByTicks=[], domBids=[], domAsks=[], domTicks=[], bidGreeks=OptionComputation(impliedVol=0.14734601082616344, delta=0.8158147485465393, optPrice=39.20000076293945, pvDividend=2.451333146872979, gamma=0.007065786500632187, vega=0.6806286740085602, theta=-1.7245304026504724, undPrice=2740.29), askGreeks=OptionComputation(impliedVol=0.17115831706293996, delta=0.7812590740459664, optPrice=41.0, pvDividend=2.451333146872979, gamma=0.00674361955356918, vega=0.7545750081622172, theta=-2.1713330479902404, undPrice=2740.29), lastGreeks=OptionComputation(impliedVol=None, delta=None, optPrice=32.79999923706055, pvDividend=2.451333146872979, gamma=None, vega=None, theta=None, undPrice=2740.28), modelGreeks=OptionComputation(impliedVol=0.15737375893596708, delta=0.8004190942546854, optPrice=37.93564914447619, pvDividend=2.451333146872979, gamma=0.006948851807284197, vega=0.7149187978592755, theta=-1.9135750529487001, undPrice=2740.29)),\n",
       " Ticker(contract=Option(conId=338617455, symbol='SPX', lastTradeDateOrContractMonth='20190215', strike=2710.0, right='C', multiplier='100', exchange='SMART', currency='USD', localSymbol='SPXW  190215C02710000', tradingClass='SPXW'), time=datetime.datetime(2019, 2, 12, 16, 36, 29, 288511, tzinfo=datetime.timezone.utc), bid=34.9, bidSize=6, ask=36.5, askSize=9, last=35.0, lastSize=1, volume=208, high=36.85, low=26.0, close=16.3, ticks=[], tickByTicks=[], domBids=[], domAsks=[], domTicks=[], bidGreeks=OptionComputation(impliedVol=0.1431877214114541, delta=0.7844052119494207, optPrice=34.900001525878906, pvDividend=2.451333146872979, gamma=0.007993749401001208, vega=0.7482860615551908, theta=-1.826680961251178, undPrice=2740.29), askGreeks=OptionComputation(impliedVol=0.16289543830947154, delta=0.756050230554699, optPrice=36.5, pvDividend=2.451333146872979, gamma=0.007530330247427562, vega=0.8019259987991967, theta=-2.1901623430838186, undPrice=2740.29), lastGreeks=OptionComputation(impliedVol=0.16924558052177394, delta=0.748000007342252, optPrice=35.0, pvDividend=2.451333146872979, gamma=0.007374457429114804, vega=0.8159410029766399, theta=-2.3058676025371843, undPrice=2740.29), modelGreeks=OptionComputation(impliedVol=0.1537174895900641, delta=0.7685824497449534, optPrice=33.760473495049105, pvDividend=2.451333146872979, gamma=0.007752331922766441, vega=0.779052975494064, theta=-2.0217198392235805, undPrice=2740.29)),\n",
       " Ticker(contract=Option(conId=338617457, symbol='SPX', lastTradeDateOrContractMonth='20190215', strike=2715.0, right='C', multiplier='100', exchange='SMART', currency='USD', localSymbol='SPXW  190215C02715000', tradingClass='SPXW'), time=datetime.datetime(2019, 2, 12, 16, 36, 29, 286534, tzinfo=datetime.timezone.utc), bid=31.4, bidSize=1, ask=31.8, askSize=1, last=31.9, lastSize=1, volume=258, high=33.3, low=22.6, close=13.65, ticks=[], tickByTicks=[], domBids=[], domAsks=[], domTicks=[], bidGreeks=OptionComputation(impliedVol=0.14681233432162927, delta=0.7368337676291554, optPrice=31.399999618530273, pvDividend=2.451333146872979, gamma=0.008694895955943223, vega=0.8345229446881434, theta=-2.0595174868784625, undPrice=2740.29), askGreeks=OptionComputation(impliedVol=0.15024683188061622, delta=0.7321892706970273, optPrice=31.799999237060547, pvDividend=2.451333146872979, gamma=0.00857188552096503, vega=0.8419630521608717, theta=-2.121208532466219, undPrice=2740.29), lastGreeks=OptionComputation(impliedVol=0.17512306759128954, delta=0.7031954263394498, optPrice=31.899999618530273, pvDividend=2.451333146872979, gamma=0.007727337409177422, vega=0.8846766814555292, theta=-2.5621239825809066, undPrice=2740.29), modelGreeks=OptionComputation(impliedVol=0.15016294765436936, delta=0.7323006274413806, optPrice=29.741685923444123, pvDividend=2.451333146872979, gamma=0.008574876865367155, vega=0.8417866333616789, theta=-2.1197043376466573, undPrice=2740.29)),\n",
       " Ticker(contract=Option(conId=338617460, symbol='SPX', lastTradeDateOrContractMonth='20190215', strike=2720.0, right='C', multiplier='100', exchange='SMART', currency='USD', localSymbol='SPXW  190215C02720000', tradingClass='SPXW'), time=datetime.datetime(2019, 2, 12, 16, 36, 29, 287517, tzinfo=datetime.timezone.utc), bid=27.5, bidSize=1, ask=27.9, askSize=1, last=28.0, lastSize=1, volume=109, high=28.85, low=19.25, close=11.3, ticks=[], tickByTicks=[], domBids=[], domAsks=[], domTicks=[], bidGreeks=OptionComputation(impliedVol=0.14335656804944868, delta=0.6953701575822535, optPrice=27.5, pvDividend=2.451333146872979, gamma=0.009551160344378478, vega=0.8951278711513924, theta=-2.14322448253511, undPrice=2740.29), askGreeks=OptionComputation(impliedVol=0.14656994941424428, delta=0.6915403768904678, optPrice=27.899999618530273, pvDividend=2.451333146872979, gamma=0.009393438090550462, vega=0.9000794859202941, theta=-2.1990692302625496, undPrice=2740.29), lastGreeks=OptionComputation(impliedVol=0.1696103733910109, delta=0.6679556662324916, optPrice=28.0, pvDividend=2.451333146872979, gamma=0.008371419559287833, vega=0.9282455309086641, theta=-2.5952956092477506, undPrice=2740.29), modelGreeks=OptionComputation(impliedVol=0.14672165685968278, delta=0.6913632643446559, optPrice=25.90518756051563, pvDividend=2.451333146872979, gamma=0.009386085888974221, vega=0.9003058972081686, theta=-2.2017018050186135, undPrice=2740.29)),\n",
       " Ticker(contract=Option(conId=338617467, symbol='SPX', lastTradeDateOrContractMonth='20190215', strike=2725.0, right='C', multiplier='100', exchange='SMART', currency='USD', localSymbol='SPXW  190215C02725000', tradingClass='SPXW'), time=datetime.datetime(2019, 2, 12, 16, 36, 29, 287517, tzinfo=datetime.timezone.utc), bid=23.8, bidSize=4, ask=24.2, askSize=4, last=24.9, lastSize=4, volume=390, high=25.55, low=16.0, close=9.2, ticks=[], tickByTicks=[], domBids=[], domAsks=[], domTicks=[], bidGreeks=OptionComputation(impliedVol=0.14005171911187225, delta=0.648941225078034, optPrice=23.799999237060547, pvDividend=2.451333146872979, gamma=0.010355044710276935, vega=0.9480948133855622, theta=-2.2048773427169603, undPrice=2740.29), askGreeks=OptionComputation(impliedVol=0.1441005428053096, delta=0.6450871524181963, optPrice=24.200000762939453, pvDividend=2.451333146872979, gamma=0.010103561134635779, vega=0.9518125758717493, theta=-2.2728405115218284, undPrice=2740.29), lastGreeks=OptionComputation(impliedVol=0.1706688623267458, delta=0.624171144335818, optPrice=24.899999618530273, pvDividend=2.451333146872979, gamma=0.008695693606711546, vega=0.9702192132773414, theta=-2.7153028469500686, undPrice=2740.29), modelGreeks=OptionComputation(impliedVol=0.1434054971936939, delta=0.6457340601952755, optPrice=22.27863244423389, pvDividend=2.451333146872979, gamma=0.010145950124351138, vega=0.951195683699007, theta=-2.2611852173975078, undPrice=2740.29)),\n",
       " Ticker(contract=Option(conId=349550541, symbol='SPX', lastTradeDateOrContractMonth='20190219', strike=2690.0, right='C', multiplier='100', exchange='SMART', currency='USD', localSymbol='SPXW  190219C02690000', tradingClass='SPXW'), time=datetime.datetime(2019, 2, 12, 16, 36, 29, 291503, tzinfo=datetime.timezone.utc), bid=54.2, bidSize=5, ask=56.1, askSize=5, volume=14, high=56.45, low=54.8, close=31.9, ticks=[], tickByTicks=[], domBids=[], domAsks=[], domTicks=[], bidGreeks=OptionComputation(impliedVol=0.12630642693910793, delta=0.8486196678128085, optPrice=54.20000076293945, pvDividend=2.4866468964363677, gamma=0.004835652722722873, vega=0.9009922242922009, theta=-0.9465006782937436, undPrice=2740.29), askGreeks=OptionComputation(impliedVol=0.14743345150741724, delta=0.8120859216743619, optPrice=56.099998474121094, pvDividend=2.4866468964363677, gamma=0.0047597536178701815, vega=1.035192208864293, theta=-1.2097725511996442, undPrice=2740.29), lastGreeks=OptionComputation(impliedVol=None, delta=None, optPrice=None, pvDividend=2.4866468964363677, gamma=None, vega=None, theta=None, undPrice=2740.28), modelGreeks=OptionComputation(impliedVol=0.1358445331343898, delta=0.8313378315027992, optPrice=53.85129754443119, pvDividend=2.4866468964363677, gamma=0.0048255586262004714, vega=0.9670084100632684, theta=-1.0654610741049486, undPrice=2740.29)),\n",
       " Ticker(contract=Option(conId=350039925, symbol='SPX', lastTradeDateOrContractMonth='20190219', strike=2695.0, right='C', multiplier='100', exchange='SMART', currency='USD', localSymbol='SPXW  190219C02695000', tradingClass='SPXW'), time=datetime.datetime(2019, 2, 12, 16, 36, 29, 291503, tzinfo=datetime.timezone.utc), bid=50.0, bidSize=6, ask=51.7, askSize=6, close=28.4, ticks=[], tickByTicks=[], domBids=[], domAsks=[], domTicks=[], bidGreeks=OptionComputation(impliedVol=0.12588215906079456, delta=0.8235009184736408, optPrice=50.0, pvDividend=2.4866468964363677, gamma=0.005360479029823926, vega=0.995424381121355, theta=-1.022190854660311, undPrice=2740.29), askGreeks=OptionComputation(impliedVol=0.14361833221682324, delta=0.7928709230506141, optPrice=51.70000076293945, pvDividend=2.4866468964363677, gamma=0.005182522826520274, vega=1.097972826741317, theta=-1.2417631453725686, undPrice=2740.29), lastGreeks=OptionComputation(impliedVol=None, delta=None, optPrice=None, pvDividend=2.4866468964363677, gamma=None, vega=None, theta=None, undPrice=2740.28), modelGreeks=OptionComputation(impliedVol=0.13308364985286764, delta=0.810438520500464, optPrice=49.49561614225422, pvDividend=2.4866468964363677, gamma=0.005301420604884335, vega=1.040776443513653, theta=-1.111616830790901, undPrice=2740.29)),\n",
       " Ticker(contract=Option(conId=349550547, symbol='SPX', lastTradeDateOrContractMonth='20190219', strike=2700.0, right='C', multiplier='100', exchange='SMART', currency='USD', localSymbol='SPXW  190219C02700000', tradingClass='SPXW'), time=datetime.datetime(2019, 2, 12, 16, 36, 29, 291503, tzinfo=datetime.timezone.utc), bid=45.6, bidSize=6, ask=47.3, askSize=6, last=37.2, lastSize=1, volume=55, high=47.8, low=37.2, close=25.1, ticks=[], tickByTicks=[], domBids=[], domAsks=[], domTicks=[], bidGreeks=OptionComputation(impliedVol=0.12248844923875651, delta=0.8012714924185618, optPrice=45.599998474121094, pvDividend=2.4866468964363677, gamma=0.0059281057177533744, vega=1.071153140847833, theta=-1.0594019063152895, undPrice=2740.29), askGreeks=OptionComputation(impliedVol=0.13747232176094323, delta=0.7751544852055654, optPrice=47.29999923706055, pvDividend=2.4866468964363677, gamma=0.00567793052838417, vega=1.1514519809794395, theta=-1.2429787995477386, undPrice=2740.29), lastGreeks=OptionComputation(impliedVol=None, delta=None, optPrice=37.20000076293945, pvDividend=2.4866468964363677, gamma=None, vega=None, theta=None, undPrice=2740.28), modelGreeks=OptionComputation(impliedVol=0.13037177946585374, delta=0.7870065886547031, optPrice=45.236581982943584, pvDividend=2.4866468964363677, gamma=0.005803519483433064, vega=1.1161319221253576, theta=-1.156280057912165, undPrice=2740.29)),\n",
       " Ticker(contract=Option(conId=350157854, symbol='SPX', lastTradeDateOrContractMonth='20190219', strike=2705.0, right='C', multiplier='100', exchange='SMART', currency='USD', localSymbol='SPXW  190219C02705000', tradingClass='SPXW'), time=datetime.datetime(2019, 2, 12, 16, 36, 29, 290506, tzinfo=datetime.timezone.utc), bid=41.4, bidSize=6, ask=43.3, askSize=43, last=33.7, lastSize=6, volume=17, high=38.05, low=33.6, close=22.0, ticks=[], tickByTicks=[], domBids=[], domAsks=[], domTicks=[], bidGreeks=OptionComputation(impliedVol=0.12003961934316199, delta=0.7743414540082156, optPrice=41.400001525878906, pvDividend=2.4866468964363677, gamma=0.006515812094941741, vega=1.1538082777416885, theta=-1.105476489243505, undPrice=2740.29), askGreeks=OptionComputation(impliedVol=0.13570423386912087, delta=0.7480436019517835, optPrice=43.29999923706055, pvDividend=2.4866468964363677, gamma=0.00612209115775861, vega=1.2255574626037955, theta=-1.2940298911915724, undPrice=2740.29), lastGreeks=OptionComputation(impliedVol=None, delta=None, optPrice=33.70000076293945, pvDividend=2.4866468964363677, gamma=None, vega=None, theta=None, undPrice=2740.28), modelGreeks=OptionComputation(impliedVol=0.1277153480537993, delta=0.7608367412823319, optPrice=41.08855013105213, pvDividend=2.4866468964363677, gamma=0.006325458693054249, vega=1.1917237776451086, theta=-1.1982511028611547, undPrice=2740.29)),\n",
       " Ticker(contract=Option(conId=349550550, symbol='SPX', lastTradeDateOrContractMonth='20190219', strike=2710.0, right='C', multiplier='100', exchange='SMART', currency='USD', localSymbol='SPXW  190219C02710000', tradingClass='SPXW'), time=datetime.datetime(2019, 2, 12, 16, 36, 29, 291503, tzinfo=datetime.timezone.utc), bid=37.9, bidSize=1, ask=38.4, askSize=1, last=32.2, lastSize=1, volume=12, high=34.15, low=28.8, close=19.1, ticks=[], tickByTicks=[], domBids=[], domAsks=[], domTicks=[], bidGreeks=OptionComputation(impliedVol=0.12218428735910984, delta=0.7364895895414771, optPrice=37.900001525878906, pvDividend=2.4866468964363677, gamma=0.006959641024161167, vega=1.254419189151982, theta=-1.2014570576452301, undPrice=2740.29), askGreeks=OptionComputation(impliedVol=0.1253047828272215, delta=0.7314617158017412, optPrice=38.400001525878906, pvDividend=2.4866468964363677, gamma=0.0068516060793312366, vega=1.2664863794631718, theta=-1.2382653862711905, undPrice=2740.29), lastGreeks=OptionComputation(impliedVol=0.08295699004479704, delta=0.8224833169081562, optPrice=32.20000076293945, pvDividend=2.4866468964363677, gamma=0.008163799983102522, vega=0.9990467954508843, theta=-0.7278052729168939, undPrice=2740.29), modelGreeks=OptionComputation(impliedVol=0.12512111682295193, delta=0.7317519014473924, optPrice=37.067406945728614, pvDividend=2.4866468964363677, gamma=0.0068579337700629866, vega=1.265797950550304, theta=-1.2361023460946003, undPrice=2740.29)),\n",
       " Ticker(contract=Option(conId=350157863, symbol='SPX', lastTradeDateOrContractMonth='20190219', strike=2715.0, right='C', multiplier='100', exchange='SMART', currency='USD', localSymbol='SPXW  190219C02715000', tradingClass='SPXW'), time=datetime.datetime(2019, 2, 12, 16, 36, 29, 290506, tzinfo=datetime.timezone.utc), bid=34.0, bidSize=1, ask=34.5, askSize=1, last=34.6, lastSize=1, volume=313, high=34.6, low=25.7, close=16.5, ticks=[], tickByTicks=[], domBids=[], domAsks=[], domTicks=[], bidGreeks=OptionComputation(impliedVol=0.11982388299060596, delta=0.7036850569609241, optPrice=34.0, pvDividend=2.4866468964363677, gamma=0.007512539507609766, vega=1.3279161335101475, theta=-1.2363028263256106, undPrice=2740.29), askGreeks=OptionComputation(impliedVol=0.1227774993982733, delta=0.6993622742481582, optPrice=34.5, pvDividend=2.4866468964363677, gamma=0.007380286802954619, vega=1.3366955810674483, theta=-1.2702743603659639, undPrice=2740.29), lastGreeks=OptionComputation(impliedVol=0.1330360573400538, delta=0.6856846649929962, optPrice=34.599998474121094, pvDividend=2.4866468964363677, gamma=0.006945841737882871, vega=1.3631220359817406, theta=-1.3875511555984383, undPrice=2740.29), modelGreeks=OptionComputation(impliedVol=0.1225959950661087, delta=0.6996226112753292, optPrice=33.190427779891394, pvDividend=2.4866468964363677, gamma=0.00738832208540281, vega=1.3361726933588671, theta=-1.2681895490124928, undPrice=2740.29)),\n",
       " Ticker(contract=Option(conId=349935140, symbol='SPX', lastTradeDateOrContractMonth='20190219', strike=2720.0, right='C', multiplier='100', exchange='SMART', currency='USD', localSymbol='SPXW  190219C02720000', tradingClass='SPXW'), time=datetime.datetime(2019, 2, 12, 16, 36, 29, 290506, tzinfo=datetime.timezone.utc), bid=30.3, bidSize=4, ask=30.7, askSize=4, last=30.5, lastSize=1, volume=15, high=30.5, low=21.95, close=14.1, ticks=[], tickByTicks=[], domBids=[], domAsks=[], domTicks=[], bidGreeks=OptionComputation(impliedVol=0.1178163408229525, delta=0.6673256450083143, optPrice=30.299999237060547, pvDividend=2.4866468964363677, gamma=0.008028934999827759, vega=1.3954168454479083, theta=-1.266582501876748, undPrice=2740.29), askGreeks=OptionComputation(impliedVol=0.12063029271643372, delta=0.6637942260216169, optPrice=30.700000762939453, pvDividend=2.4866468964363677, gamma=0.007874241983509533, vega=1.4012177429987072, theta=-1.2981004074911966, undPrice=2740.29), lastGreeks=OptionComputation(impliedVol=0.12742379763737033, delta=0.6558726860568469, optPrice=30.5, pvDividend=2.4866468964363677, gamma=0.007521121476951521, vega=1.413753316840176, theta=-1.3739372181239022, undPrice=2740.29), modelGreeks=OptionComputation(impliedVol=0.12014687245350451, delta=0.6643899191442002, optPrice=29.476001680113058, pvDividend=2.4866468964363677, gamma=0.007900455656443697, vega=1.4002484457928561, theta=-1.2926904144365705, undPrice=2740.29)),\n",
       " Ticker(contract=Option(conId=349550553, symbol='SPX', lastTradeDateOrContractMonth='20190219', strike=2725.0, right='C', multiplier='100', exchange='SMART', currency='USD', localSymbol='SPXW  190219C02725000', tradingClass='SPXW'), time=datetime.datetime(2019, 2, 12, 16, 36, 29, 291503, tzinfo=datetime.timezone.utc), bid=26.7, bidSize=8, ask=27.2, askSize=15, last=22.1, lastSize=1, volume=18, high=26.95, low=19.0, close=11.9, ticks=[], tickByTicks=[], domBids=[], domAsks=[], domTicks=[], bidGreeks=OptionComputation(impliedVol=0.11533019753509044, delta=0.6285441953574413, optPrice=26.700000762939453, pvDividend=2.4866468964363677, gamma=0.008534639518110159, vega=1.4520069914987528, theta=-1.280885529019898, undPrice=2740.29), askGreeks=OptionComputation(impliedVol=0.11803530039394931, delta=0.625841068962876, optPrice=27.200000762939453, pvDividend=2.4866468964363677, gamma=0.008358389099893053, vega=1.4553752447722672, theta=-1.310462549571495, undPrice=2740.29), lastGreeks=OptionComputation(impliedVol=0.0909848331604841, delta=0.6597910280659585, optPrice=22.100000381469727, pvDividend=2.4866468964363677, gamma=0.010487706452095714, vega=1.4076348660596107, theta=-1.0127874090445284, undPrice=2740.29), modelGreeks=OptionComputation(impliedVol=0.11778049601063516, delta=0.6260905107339058, optPrice=25.94320148733413, pvDividend=2.4866468964363677, gamma=0.008374700437431732, vega=1.455067530219566, theta=-1.3076780332915208, undPrice=2740.29))]"
      ]
     },
     "execution_count": 16,
     "metadata": {},
     "output_type": "execute_result"
    }
   ],
   "source": [
    "\n",
    "tickers = ib.reqTickers(*contracts)\n",
    "\n",
    "tickers"
   ]
  },
  {
   "cell_type": "code",
   "execution_count": null,
   "metadata": {
    "collapsed": true
   },
   "outputs": [],
   "source": []
  },
  {
   "cell_type": "code",
   "execution_count": null,
   "metadata": {
    "collapsed": true
   },
   "outputs": [],
   "source": []
  },
  {
   "cell_type": "code",
   "execution_count": null,
   "metadata": {
    "collapsed": true
   },
   "outputs": [],
   "source": []
  },
  {
   "cell_type": "code",
   "execution_count": null,
   "metadata": {
    "collapsed": true
   },
   "outputs": [],
   "source": []
  },
  {
   "cell_type": "code",
   "execution_count": 17,
   "metadata": {
    "collapsed": true
   },
   "outputs": [],
   "source": [
    "\n",
    "ib.disconnect()"
   ]
  },
  {
   "cell_type": "code",
   "execution_count": null,
   "metadata": {
    "collapsed": true
   },
   "outputs": [],
   "source": []
  }
 ],
 "metadata": {
  "kernelspec": {
   "display_name": "Python 3",
   "language": "python",
   "name": "python3"
  },
  "language_info": {
   "codemirror_mode": {
    "name": "ipython",
    "version": 3
   },
   "file_extension": ".py",
   "mimetype": "text/x-python",
   "name": "python",
   "nbconvert_exporter": "python",
   "pygments_lexer": "ipython3",
   "version": "3.6.1"
  }
 },
 "nbformat": 4,
 "nbformat_minor": 2
}
