{
 "cells": [
  {
   "cell_type": "code",
   "execution_count": 6,
   "metadata": {
    "collapsed": true
   },
   "outputs": [],
   "source": [
    "# Importing necessary models\n",
    "import warnings\n",
    "warnings.filterwarnings('ignore')\n",
    "\n",
    "import smtplib\n",
    "import pandas as pd\n",
    "import numpy as np\n",
    "import datetime as dt\n",
    "\n",
    "import os\n",
    "from sqlalchemy import *\n",
    "from sqlalchemy import create_engine\n",
    "\n",
    "main_dir = os.getcwd()\n",
    "\n",
    "dbs_dir = 'C:\\\\Users\\\\Fang\\\\Desktop\\\\Python Trading\\\\Trading\\\\Data\\\\DBs'\n",
    "\n",
    "spx_dir = 'D:\\\\Options Data\\\\SPX Intraday'\n",
    "\n",
    "os.chdir(spx_dir)"
   ]
  },
  {
   "cell_type": "code",
   "execution_count": 33,
   "metadata": {},
   "outputs": [],
   "source": [
    "# Saving to Options Database\n",
    "os.chdir(dbs_dir)\n",
    "options_engine = create_engine('sqlite:///spxIntraday.db', echo=False)\n",
    "os.chdir(spx_dir)\n",
    "\n",
    "data_dfs = []\n",
    "\n",
    "for filename in os.listdir('.'):\n",
    "    if filename.endswith(\".csv\"):\n",
    "        curr_df = pd.read_csv(filename, index_col = 0).dropna()\n",
    "        curr_df.index = pd.to_datetime(curr_df.index)\n",
    "        curr_df = curr_df[curr_df.index.time >= dt.time(9,30)]\n",
    "        data_dfs.append(curr_df)\n",
    "    else:\n",
    "        continue"
   ]
  },
  {
   "cell_type": "code",
   "execution_count": 35,
   "metadata": {},
   "outputs": [],
   "source": [
    "pd.concat(data_dfs, axis = 0).to_csv('spx_intraday.csv')"
   ]
  },
  {
   "cell_type": "code",
   "execution_count": 36,
   "metadata": {},
   "outputs": [
    {
     "data": {
      "text/plain": [
       "'D:\\\\Options Data\\\\SPX Intraday'"
      ]
     },
     "execution_count": 36,
     "metadata": {},
     "output_type": "execute_result"
    }
   ],
   "source": [
    "spx_dir"
   ]
  },
  {
   "cell_type": "code",
   "execution_count": null,
   "metadata": {
    "collapsed": true
   },
   "outputs": [],
   "source": []
  }
 ],
 "metadata": {
  "kernelspec": {
   "display_name": "Python 3",
   "language": "python",
   "name": "python3"
  },
  "language_info": {
   "codemirror_mode": {
    "name": "ipython",
    "version": 3
   },
   "file_extension": ".py",
   "mimetype": "text/x-python",
   "name": "python",
   "nbconvert_exporter": "python",
   "pygments_lexer": "ipython3",
   "version": "3.6.1"
  }
 },
 "nbformat": 4,
 "nbformat_minor": 2
}
