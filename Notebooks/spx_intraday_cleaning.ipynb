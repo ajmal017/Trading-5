{
 "cells": [
  {
   "cell_type": "code",
   "execution_count": 1,
   "metadata": {
    "collapsed": true
   },
   "outputs": [],
   "source": [
    "# Importing necessary models\n",
    "import warnings\n",
    "warnings.filterwarnings('ignore')\n",
    "\n",
    "import smtplib\n",
    "import pandas as pd\n",
    "import numpy as np\n",
    "import datetime as dt\n",
    "\n",
    "import os\n",
    "from sqlalchemy import *\n",
    "from sqlalchemy import create_engine\n",
    "\n",
    "main_dir = os.getcwd()\n",
    "\n",
    "dbs_dir = 'C:\\\\Users\\\\Fang\\\\Desktop\\\\Python Trading\\\\Trading\\\\Data\\\\DBs'\n",
    "\n",
    "os.chdir('C:\\\\Users\\\\Fang\\\\Desktop\\\\Python Trading\\\\Trading\\\\Trading\\\\Modules\\\\DataCollection')\n",
    "\n",
    "from alphavantage import *\n",
    "from yahoo_query import *\n",
    "\n",
    "os.chdir('C:\\\\Users\\\\Fang\\\\Desktop\\\\Python Trading\\\\Trading\\\\Trading\\\\Modules\\\\Options')\n",
    "from optionsFunctions import *\n",
    "\n",
    "vix_options_dir = 'D:\\\\Options Data\\\\VIX'\n",
    "\n",
    "cleaned_dir = 'D:\\\\Options Data\\\\Monthly DBs'\n",
    "#'vix_2018-07-30"
   ]
  },
  {
   "cell_type": "code",
   "execution_count": 2,
   "metadata": {
    "collapsed": true
   },
   "outputs": [],
   "source": [
    "def monthly_spx_intraday_prices(curr_date):\n",
    "    spx_dir = 'D:\\\\Options Data\\\\SPX Intraday'\n",
    "    os.chdir(spx_dir)\n",
    "    spx_intraday_dfs = []\n",
    "    curr_spx_price_files = list(filter(lambda x: curr_date.strftime(\"%Y-%m\") in x, os.listdir('.')))\n",
    "    for filename in curr_spx_price_files:\n",
    "        if filename.endswith(\".csv\"):\n",
    "            curr_df = pd.read_csv(filename, index_col = 0).dropna()\n",
    "            curr_df.index = pd.to_datetime(curr_df.index)\n",
    "            curr_df = curr_df[curr_df.index.time >= dt.time(9,30)]\n",
    "            spx_intraday_dfs.append(curr_df)\n",
    "        else:\n",
    "            continue\n",
    "    return pd.concat(spx_intraday_dfs)\n",
    "\n",
    "def monthly_spx_options(curr_date):\n",
    "    spx_options_dir = 'D:\\\\Options Data\\\\SPX'\n",
    "    os.chdir(spx_options_dir)\n",
    "    spx_calls_dfs = []\n",
    "    spx_puts_dfs = []\n",
    "    curr_spx_options_files = list(filter(lambda x: curr_date.strftime(\"%Y-%m\") in x, os.listdir('.')))\n",
    "    keep_columns = ['Strike','Expiry','Type','Symbol','Last','Bid','Ask','IV','Underlying_Price']\n",
    "    for filename in curr_spx_options_files:\n",
    "        if filename.endswith(\".csv\"):\n",
    "            curr_options = pd.read_csv(filename, index_col = 0).set_index('Quote_Time')[keep_columns]\n",
    "            curr_options.index = pd.to_datetime(curr_options.index) - dt.timedelta(hours = 4)\n",
    "            curr_options.index = curr_options.index.map(lambda x: x.replace(second=0))\n",
    "            curr_options['Expiry'] = pd.to_datetime(curr_options.Expiry)\n",
    "            curr_options['DTE'] = (curr_options.Expiry - curr_options.index).dt.days + 1\n",
    "            curr_options['Mid'] = (curr_options['Ask'] + curr_options['Bid'])/2\n",
    "            greeks = all_greeks(curr_options, interest_rate = 0.023869, q = 0, year = 252)\n",
    "            greeks.index = pd.to_datetime(curr_options.index)\n",
    "            puts = greeks[greeks.Type == 'put']\n",
    "            calls = greeks[greeks.Type == 'call']\n",
    "            spx_calls_dfs.append(calls)\n",
    "            spx_puts_dfs.append(puts)\n",
    "        else:\n",
    "            continue\n",
    "    puts = pd.concat(spx_puts_dfs)\n",
    "    calls = pd.concat(spx_calls_dfs)\n",
    "    return puts, calls"
   ]
  },
  {
   "cell_type": "code",
   "execution_count": 3,
   "metadata": {},
   "outputs": [
    {
     "name": "stdout",
     "output_type": "stream",
     "text": [
      "2019-01-01 00:00:00\n"
     ]
    }
   ],
   "source": [
    "date_range = [dt.datetime(2019, 1, 1)]\n",
    "\n",
    "for curr_date in date_range:\n",
    "    os.chdir(cleaned_dir)\n",
    "    latest_month = curr_date.month\n",
    "    db_name = 'sqlite:///intraday_{0}-{1}.db'.format(curr_date.year,latest_month)\n",
    "    \n",
    "    options_engine = create_engine(db_name, echo=False)\n",
    "    \n",
    "    spx_intraday = monthly_spx_intraday_prices(curr_date)\n",
    "    puts, calls = monthly_spx_options(curr_date)\n",
    "    \n",
    "    puts.to_sql('spx_puts', con=options_engine, if_exists='append', index_label = 'quoteTime')\n",
    "    calls.to_sql('spx_calls', con=options_engine, if_exists='append', index_label = 'quoteTime')\n",
    "    spx_intraday.to_sql('spx_prices', con=options_engine, if_exists='append')\n",
    "    print(curr_date)"
   ]
  },
  {
   "cell_type": "code",
   "execution_count": 4,
   "metadata": {
    "collapsed": true
   },
   "outputs": [],
   "source": [
    "spx_ticker = '^GSPC'\n",
    "spx = yahoo_query(spx_ticker, dt.datetime(2018,8,1))\n",
    "spx.hist_prices_query()\n",
    "spx = spx.hist_prices \n",
    "spx.columns = [col.replace('^', '') for col in spx.columns.tolist()]\n",
    "\n",
    "vix_ticker = '^VIX'\n",
    "vix = yahoo_query(vix_ticker, dt.datetime(2018,8,1))\n",
    "vix.hist_prices_query()\n",
    "vix = vix.hist_prices \n",
    "vix.columns = [col.replace('^', '') for col in vix.columns.tolist()]\n",
    "\n",
    "df = spx[['GSPC_open','GSPC_close']].join(vix[['VIX_open']])\n",
    "df['LB'] = df['GSPC_open']*(1 - df['VIX_open']/(100*np.sqrt(252)))\n",
    "df['UB'] = df['GSPC_open']*(1 + df['VIX_open']/(100*np.sqrt(252)))"
   ]
  },
  {
   "cell_type": "code",
   "execution_count": 83,
   "metadata": {
    "collapsed": true
   },
   "outputs": [],
   "source": [
    "spx_options_dir = 'D:\\\\Options Data\\\\SPX'\n",
    "os.chdir(spx_options_dir)\n",
    "spx_calls_dfs = []\n",
    "spx_puts_dfs = []\n",
    "curr_spx_options_files = os.listdir('.')\n",
    "\n",
    "\n",
    "keep_columns = ['Strike','Expiry','Type','Symbol','Last','Bid','Ask','IV','Underlying_Price']\n",
    "\n",
    "dates = []\n",
    "\n",
    "bod_put_credits = []\n",
    "bod_call_credits = []\n",
    "\n",
    "eod_put_credits = []\n",
    "eod_call_credits = []\n",
    "\n",
    "for curr_date, row in df.iterrows():\n",
    "    curr_date_string = curr_date.strftime(\"%Y-%m-%d\")\n",
    "    curr_filename_bod = 'spx_{}-06-35.csv'.format(curr_date_string)\n",
    "    curr_filename_eod = 'spx_{}-13-00.csv'.format(curr_date_string)\n",
    "    \n",
    "    try:\n",
    "        curr_options_bod = pd.read_csv(curr_filename_bod, index_col = 0).set_index('Quote_Time')[keep_columns]\n",
    "        curr_options_bod.index = pd.to_datetime(curr_options_bod.index) - dt.timedelta(hours = 4)\n",
    "        curr_options_bod.index = curr_options_bod.index.map(lambda x: x.replace(second=0))\n",
    "        curr_options_bod['Expiry'] = pd.to_datetime(curr_options_bod.Expiry)\n",
    "        curr_options_bod['DTE'] = (curr_options_bod.Expiry - curr_options_bod.index).dt.days + 1\n",
    "        curr_options_bod['Mid'] = (curr_options_bod['Ask'] + curr_options_bod['Bid'])/2\n",
    "\n",
    "        curr_options_bod = curr_options_bod[curr_options_bod.DTE == curr_options_bod.sort_values('DTE').iloc[0,9]]\n",
    "\n",
    "        put_spread_bod = curr_options_bod[(curr_options_bod.Type == 'put') & \n",
    "                                      (curr_options_bod.Strike <= row.LB)].sort_values('Strike').tail(2)\n",
    "        call_spread_bod = curr_options_bod[(curr_options_bod.Type == 'call') & \n",
    "                                       (curr_options_bod.Strike >= row.UB)].sort_values('Strike').head(2)\n",
    "\n",
    "        put_credit_bod = put_spread_bod.Mid.diff().values[-1]\n",
    "        call_credit_bod = abs(call_spread_bod.Mid.diff()).values[-1]\n",
    "\n",
    "        curr_options_eod = pd.read_csv(curr_filename_eod, index_col = 0).set_index('Quote_Time')[keep_columns]\n",
    "        curr_options_eod.index = pd.to_datetime(curr_options_eod.index) - dt.timedelta(hours = 4)\n",
    "        curr_options_eod.index = curr_options_eod.index.map(lambda x: x.replace(second=0))\n",
    "        curr_options_eod['Expiry'] = pd.to_datetime(curr_options_eod.Expiry)\n",
    "        curr_options_eod['DTE'] = (curr_options_eod.Expiry - curr_options_eod.index).dt.days + 1\n",
    "        curr_options_eod['Mid'] = (curr_options_eod['Ask'] + curr_options_eod['Bid'])/2\n",
    "\n",
    "        put_credit_eod = curr_options_eod[curr_options_eod.Symbol.isin(put_spread_bod.Symbol.tolist())].iloc[1,10] - curr_options_eod[curr_options_eod.Symbol.isin(put_spread_bod.Symbol.tolist())].iloc[0,10]\n",
    "        call_credit_eod = curr_options_eod[curr_options_eod.Symbol.isin(call_spread_bod.Symbol.tolist())].iloc[0,10] - curr_options_eod[curr_options_eod.Symbol.isin(call_spread_bod.Symbol.tolist())].iloc[1,10]\n",
    "\n",
    "        dates.append(curr_date)\n",
    "        bod_put_credits.append(put_credit_bod)\n",
    "        bod_call_credits.append(call_credit_bod)\n",
    "        eod_put_credits.append(put_credit_eod)\n",
    "        eod_call_credits.append(call_credit_eod)\n",
    "    except:\n",
    "        continue"
   ]
  },
  {
   "cell_type": "code",
   "execution_count": 84,
   "metadata": {
    "collapsed": true
   },
   "outputs": [],
   "source": [
    "pd.DataFrame({'bod_puts':bod_put_credits,\n",
    "              'bod_calls':bod_call_credits,\n",
    "              'eod_puts':eod_put_credits,\n",
    "              'eod_calls':eod_call_credits}, index = dates).to_csv('spreads.csv')"
   ]
  },
  {
   "cell_type": "code",
   "execution_count": null,
   "metadata": {
    "collapsed": true
   },
   "outputs": [],
   "source": []
  },
  {
   "cell_type": "code",
   "execution_count": null,
   "metadata": {
    "collapsed": true
   },
   "outputs": [],
   "source": []
  },
  {
   "cell_type": "code",
   "execution_count": null,
   "metadata": {
    "collapsed": true
   },
   "outputs": [],
   "source": []
  }
 ],
 "metadata": {
  "kernelspec": {
   "display_name": "Python 3",
   "language": "python",
   "name": "python3"
  },
  "language_info": {
   "codemirror_mode": {
    "name": "ipython",
    "version": 3
   },
   "file_extension": ".py",
   "mimetype": "text/x-python",
   "name": "python",
   "nbconvert_exporter": "python",
   "pygments_lexer": "ipython3",
   "version": "3.6.1"
  }
 },
 "nbformat": 4,
 "nbformat_minor": 2
}
