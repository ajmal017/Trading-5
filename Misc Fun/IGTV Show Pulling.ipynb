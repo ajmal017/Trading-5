{
 "cells": [
  {
   "cell_type": "code",
   "execution_count": 1,
   "metadata": {
    "collapsed": true
   },
   "outputs": [],
   "source": [
    "import os\n",
    "import pandas as pd\n",
    "import datetime as dt\n",
    "import requests\n",
    "from bs4 import BeautifulSoup as bs\n",
    "import json\n",
    "import datetime as dt\n",
    "import time"
   ]
  },
  {
   "cell_type": "code",
   "execution_count": 2,
   "metadata": {
    "collapsed": true
   },
   "outputs": [],
   "source": [
    "##################### DO NOT TOUCH THIS FUNCTION LIBERALLY ###########################\n",
    "\n",
    "def pull_igtv(show_alias):\n",
    "    \n",
    "    ## Site URL initialization\n",
    "    site = 'https://www.instagram.com/{0}/channel/?hl=en'.format(show_alias)\n",
    "\n",
    "    ## Requesting HTML content and storing in soup instance\n",
    "    soup = bs(requests.get(site).text, 'lxml')\n",
    "\n",
    "    ## Pulling overview of show, i.e., number of posts, followers, and following\n",
    "    show_overview_info_metas = [str(meta) for meta in soup.find_all('meta')]\n",
    "    filtered_metas = list(filter(lambda meta: 'Follow' in meta, show_overview_info_metas))[0].split('\"')[1].split(' - ')[0]\n",
    "    show_overview_summary = filtered_metas\n",
    "\n",
    "    ## Extracting json element containing all post info\n",
    "    raw_dict_string = str(soup.find_all('body')[0].find('script')).split('_sharedData = ')[1].replace(';</script>','')\n",
    "    raw_json = json.loads(raw_dict_string)\n",
    "    main_dict = raw_json['entry_data']['ProfilePage'][0]['graphql']['user']['edge_felix_video_timeline']\n",
    "    \n",
    "    ## Extracting number of posts from igtv show\n",
    "    igtv_post_count = main_dict['count']\n",
    "    \n",
    "    ## Creating show data summary data frame by iterating\n",
    "    ## over all posts and extracting necessary information\n",
    "    igtv_dict = {'product_type':[],\n",
    "                 'title':[],\n",
    "                 'id':[],\n",
    "                 'shortcode': [],\n",
    "                 'owner_id': [],\n",
    "                 'owner_username': [],\n",
    "                 'snapshot_date_unix': [],\n",
    "                 'video_duration_seconds': [],\n",
    "                 'count_of_comments': [],\n",
    "                 'number_of_likes': [],\n",
    "                 'video_view_count': []}\n",
    "\n",
    "    for n in main_dict['edges']:\n",
    "        node = n['node']\n",
    "        igtv_dict['product_type'].append(node['product_type'])\n",
    "        igtv_dict['title'].append(node['title'])\n",
    "        igtv_dict['id'].append(node['id'])\n",
    "        igtv_dict['shortcode'].append(node['shortcode'])\n",
    "        igtv_dict['owner_id'].append(node['owner']['id'])\n",
    "        igtv_dict['owner_username'].append(node['owner']['username'])\n",
    "        igtv_dict['snapshot_date_unix'].append(node['taken_at_timestamp'])\n",
    "        igtv_dict['video_duration_seconds'].append(node['video_duration'])\n",
    "        igtv_dict['count_of_comments'].append(node['edge_media_to_comment']['count'])\n",
    "        igtv_dict['number_of_likes'].append(node['edge_liked_by']['count'])\n",
    "        igtv_dict['video_view_count'].append(node['video_view_count'])\n",
    "\n",
    "    show_data_df = pd.DataFrame(igtv_dict)\n",
    "    \n",
    "    show_data_df['igtv_post_count'] = igtv_post_count\n",
    "    show_data_df['show_overview_summary'] = show_overview_summary\n",
    "    \n",
    "    return show_data_df"
   ]
  },
  {
   "cell_type": "code",
   "execution_count": 5,
   "metadata": {},
   "outputs": [
    {
     "name": "stdout",
     "output_type": "stream",
     "text": [
      "Current Show: fallontonight --- Completed 0.0%\n",
      "Current Show: agt --- Completed 50.0%\n"
     ]
    }
   ],
   "source": [
    "##################### ADD SHOW NAMES TO LIST HERE #########################\n",
    "\n",
    "show_aliases = ['fallontonight', 'agt']\n",
    "\n",
    "#################### LOOP TO CREATE DATAFRAME OF ALL DATA ##############################\n",
    "\n",
    "all_shows_df = []\n",
    "\n",
    "for i, show in enumerate(show_aliases):\n",
    "    curr_show_data_df = pull_igtv(show)\n",
    "    all_shows_df.append(curr_show_data_df)\n",
    "    print(\"Current Show: {0} --- Completed {1}%\".format(show, round(i/len(show_aliases)*100,2)))\n",
    "    time.sleep(60)\n",
    "\n",
    "print(\"Completed {0}%\".format(round(i/len(show_aliases)*100,2)))\n",
    "\n",
    "all_shows_df = pd.concat(all_shows_df, axis = 0).reset_index(drop = True)\n",
    "\n",
    "currdate = dt.datetime.today().strftime('%Y-%m-%d')\n",
    "\n",
    "################### SAVE TO CSV ############################\n",
    "all_shows_df.to_csv('igtv_extract_{}.csv'.format(currdate))"
   ]
  },
  {
   "cell_type": "markdown",
   "metadata": {},
   "source": [
    "## Dictionary codes for personal reference"
   ]
  },
  {
   "cell_type": "markdown",
   "metadata": {},
   "source": [
    "product_type - product_type <br>\n",
    "title - title <br>\n",
    "id - id <br>\n",
    "shortcode - shortcode <br>\n",
    "owner - id <br>\n",
    "owner - username <br>\n",
    "taken_at_timestamp - unix time <br>\n",
    "video_duration - in seconds <br>\n",
    "edge_media_to_comment -- comments count <br>\n",
    "edge_liked_by -- number of likes <br>\n",
    "video_view_count - video_view_count <br>\n",
    "\n"
   ]
  },
  {
   "cell_type": "code",
   "execution_count": null,
   "metadata": {
    "collapsed": true
   },
   "outputs": [],
   "source": []
  }
 ],
 "metadata": {
  "kernelspec": {
   "display_name": "Python 3",
   "language": "python",
   "name": "python3"
  },
  "language_info": {
   "codemirror_mode": {
    "name": "ipython",
    "version": 3
   },
   "file_extension": ".py",
   "mimetype": "text/x-python",
   "name": "python",
   "nbconvert_exporter": "python",
   "pygments_lexer": "ipython3",
   "version": "3.6.8"
  }
 },
 "nbformat": 4,
 "nbformat_minor": 2
}
