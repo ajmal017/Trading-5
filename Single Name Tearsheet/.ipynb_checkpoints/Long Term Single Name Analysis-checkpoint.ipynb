{
 "cells": [
  {
   "cell_type": "code",
   "execution_count": 8,
   "metadata": {},
   "outputs": [
    {
     "data": {
      "text/html": [
       "<script>requirejs.config({paths: { 'plotly': ['https://cdn.plot.ly/plotly-latest.min']},});if(!window.Plotly) {{require(['plotly'],function(plotly) {window.Plotly=plotly;});}}</script>"
      ],
      "text/vnd.plotly.v1+html": [
       "<script>requirejs.config({paths: { 'plotly': ['https://cdn.plot.ly/plotly-latest.min']},});if(!window.Plotly) {{require(['plotly'],function(plotly) {window.Plotly=plotly;});}}</script>"
      ]
     },
     "metadata": {},
     "output_type": "display_data"
    }
   ],
   "source": [
    "# Importing necessary models\n",
    "import warnings\n",
    "warnings.filterwarnings('ignore')\n",
    "\n",
    "import smtplib\n",
    "import pandas as pd\n",
    "import numpy as np\n",
    "import datetime as dt\n",
    "import pandas.stats.moments as st\n",
    "import time\n",
    "%matplotlib inline\n",
    "from bs4 import BeautifulSoup as bs\n",
    "import requests\n",
    "import plotly.plotly as py\n",
    "import plotly.graph_objs as go\n",
    "from plotly.offline import download_plotlyjs, init_notebook_mode, plot, iplot\n",
    "pd.options.display.float_format = '{:,.4f}'.format\n",
    "\n",
    "init_notebook_mode(connected=True)\n",
    "\n",
    "import os\n",
    "main_dir = os.getcwd()\n"
   ]
  },
  {
   "cell_type": "code",
   "execution_count": null,
   "metadata": {
    "collapsed": true
   },
   "outputs": [],
   "source": [
    "def get_gurufocus(ticker, url):\n",
    "    from selenium import webdriver\n",
    "    from selenium.common.exceptions import TimeoutException\n",
    "    \n",
    "    browser = webdriver.Chrome(executable_path=r\"C:\\Users\\Fang\\Desktop\\Python Trading\\Trading\\chromedriver.exe\")\n",
    "    \n",
    "    if url == 'https://www.nyse.com':\n",
    "        gurufocus = 'https://www.gurufocus.com/stock/NYSE:{}/dcf'.format(ticker)\n",
    "    elif url == 'http://www.nasdaq.com':\n",
    "        gurufocus = 'https://www.gurufocus.com/stock/NAS:{}/dcf'.format(ticker)\n",
    "    else:\n",
    "        gurufocus = 'https://www.gurufocus.com/stock/CBOE:{}/dcf'.format(ticker)\n",
    "    \n",
    "    browser.get(gurufocus)\n",
    "    dcfs = [element.text for element in browser.find_elements_by_xpath(\"//div[contains(@class, 'el-form-item el-form-item--mini')]\")]\n",
    "    \n",
    "    browser.quit()\n",
    "    \n",
    "    importants = list(filter(lambda x: 'Fair Value :' in x, dcfs)) + list(filter(lambda x: 'Margin Of Safety :' in x, dcfs)) + list(filter(lambda x: 'Growth Rate :' in x and 'Terminal' not in x, dcfs))\n",
    "\n",
    "    return importants"
   ]
  },
  {
   "cell_type": "code",
   "execution_count": null,
   "metadata": {
    "collapsed": true
   },
   "outputs": [],
   "source": [
    "from selenium import webdriver\n",
    "from selenium.common.exceptions import TimeoutException\n",
    "\n",
    "browser = webdriver.Chrome(executable_path=r\"C:\\Users\\Fang\\Desktop\\Python Trading\\Trading\\chromedriver.exe\")\n",
    "\n",
    "if url == 'https://www.nyse.com':\n",
    "    gurufocus = 'https://www.gurufocus.com/stock/NYSE:{}/dcf'.format(ticker)\n",
    "elif url == 'http://www.nasdaq.com':\n",
    "    gurufocus = 'https://www.gurufocus.com/stock/NAS:{}/dcf'.format(ticker)\n",
    "else:\n",
    "    gurufocus = 'https://www.gurufocus.com/stock/CBOE:{}/dcf'.format(ticker)\n",
    "\n",
    "browser.get(gurufocus)\n",
    "dcfs = [element.text for element in browser.find_elements_by_xpath(\"//div[contains(@class, 'el-form-item el-form-item--mini')]\")]\n",
    "\n",
    "browser.quit()\n",
    "\n",
    "importants = list(filter(lambda x: 'Fair Value :' in x, dcfs)) + list(filter(lambda x: 'Margin Of Safety :' in x, dcfs)) + list(filter(lambda x: 'Growth Rate :' in x and 'Terminal' not in x, dcfs))\n"
   ]
  },
  {
   "cell_type": "code",
   "execution_count": null,
   "metadata": {
    "collapsed": true
   },
   "outputs": [],
   "source": [
    "summaries_df = urls.copy()\n",
    "del summaries_df['URL']\n",
    "summaries_df['FinancialStrengthScore'] = np.nan\n",
    "summaries_df['ProfitAndGrowthScore'] = np.nan\n",
    "\n",
    "start_time = time.time()\n",
    "\n",
    "i = 1\n",
    "\n",
    "for ticker, row in urls.iterrows():\n",
    "    try:\n",
    "        if row.URL == 'https://www.nyse.com':\n",
    "            gurufocus = 'https://www.gurufocus.com/stock/NYSE:{}/summary'.format(ticker)\n",
    "        elif row.URL == 'http://www.nasdaq.com':\n",
    "            gurufocus = 'https://www.gurufocus.com/stock/NAS:{}/summary'.format(ticker)\n",
    "        soup = bs(requests.get(gurufocus).text,'lxml')\n",
    "        summaries = [x.text.strip() for x in soup.select('h2[class=\"page-title\"]')][:2]\n",
    "        summaries = [int(x.split(':')[-1].strip().split('/')[0]) for x in summaries]\n",
    "    except:\n",
    "        continue\n",
    "    \n",
    "    try:\n",
    "        summaries_df.loc[ticker,'FinancialStrengthScore'] = summaries[0]\n",
    "    except:\n",
    "        None\n",
    "    \n",
    "    try:\n",
    "        summaries_df.loc[ticker,'ProfitAndGrowthScore'] = summaries[1]\n",
    "    except:\n",
    "        None\n",
    "    \n",
    "    print(\"Completed {0}% for {1}\".format(str(round(i*100/len(gurus_df),2)),ticker))\n",
    "    i += 1\n",
    "end_time = time.time()\n",
    "print(\"Completed in {} seconds.\".format(end_time - start_time))"
   ]
  },
  {
   "cell_type": "code",
   "execution_count": 7,
   "metadata": {
    "collapsed": true
   },
   "outputs": [],
   "source": [
    "ticker = 'AAPL'\n",
    "finviz_url = 'https://finviz.com/quote.ashx?t={}'.format(ticker)\n",
    "finviz = bs(requests.get(finviz_url).text,'lxml').select_one('table[class=\"snapshot-table2\"]')"
   ]
  },
  {
   "cell_type": "code",
   "execution_count": 11,
   "metadata": {},
   "outputs": [
    {
     "name": "stdout",
     "output_type": "stream",
     "text": [
      "Index\n",
      "DJIA S&P500\n",
      "P/E\n",
      "15.67\n",
      "EPS (ttm)\n",
      "11.67\n",
      "Insider Own\n",
      "0.07%\n",
      "Shs Outstand\n",
      "4.63B\n",
      "Perf Week\n",
      "-4.26%\n",
      "Market Cap\n",
      "845.79B\n",
      "Forward P/E\n",
      "14.31\n",
      "EPS next Y\n",
      "12.77\n",
      "Insider Trans\n",
      "-4.04%\n",
      "Shs Float\n",
      "4.60B\n",
      "Perf Month\n",
      "-11.90%\n",
      "Income\n",
      "56.07B\n",
      "PEG\n",
      "1.31\n",
      "EPS next Q\n",
      "2.11\n",
      "Inst Own\n",
      "60.80%\n",
      "Short Float\n",
      "1.15%\n",
      "Perf Quarter\n",
      "6.85%\n",
      "Sales\n",
      "258.49B\n",
      "P/S\n",
      "3.27\n",
      "EPS this Y\n",
      "32.60%\n",
      "Inst Trans\n",
      "-2.88%\n",
      "Short Ratio\n",
      "1.79\n",
      "Perf Half Y\n",
      "-5.55%\n",
      "Book/sh\n",
      "22.65\n",
      "P/B\n",
      "8.07\n",
      "EPS next Y\n",
      "11.19%\n",
      "ROA\n",
      "16.00%\n",
      "Target Price\n",
      "216.17\n",
      "Perf Year\n",
      "-2.58%\n",
      "Cash/sh\n",
      "17.31\n",
      "P/C\n",
      "10.56\n",
      "EPS next 5Y\n",
      "12.00%\n",
      "ROE\n",
      "51.30%\n",
      "52W Range\n",
      "142.00 - 233.47\n",
      "Perf YTD\n",
      "15.87%\n",
      "Dividend\n",
      "2.92\n",
      "P/FCF\n",
      "18.53\n",
      "EPS past 5Y\n",
      "16.50%\n",
      "ROI\n",
      "26.60%\n",
      "52W High\n",
      "-23.57%\n",
      "Beta\n",
      "1.14\n",
      "Dividend %\n",
      "1.60%\n",
      "Quick Ratio\n",
      "1.30\n",
      "Sales past 5Y\n",
      "9.20%\n",
      "Gross Margin\n",
      "38.10%\n",
      "52W Low\n",
      "25.67%\n",
      "ATR\n",
      "5.29\n",
      "Employees\n",
      "132000\n",
      "Current Ratio\n",
      "1.30\n",
      "Sales Q/Q\n",
      "-5.10%\n",
      "Oper. Margin\n",
      "25.30%\n",
      "RSI (14)\n",
      "31.80\n",
      "Volatility\n",
      "1.98% 2.13%\n",
      "Optionable\n",
      "Yes\n",
      "Debt/Eq\n",
      "1.06\n",
      "EPS Q/Q\n",
      "-9.80%\n",
      "Profit Margin\n",
      "22.10%\n",
      "Rel Volume\n",
      "1.45\n",
      "Prev Close\n",
      "182.78\n",
      "Shortable\n",
      "Yes\n",
      "LT Debt/Eq\n",
      "0.85\n",
      "Earnings\n",
      "Apr 30 AMC\n",
      "Payout\n",
      "24.40%\n",
      "Avg Volume\n",
      "29.46M\n",
      "Price\n",
      "178.45\n",
      "Recom\n",
      "2.20\n",
      "SMA20\n",
      "-9.77%\n",
      "SMA50\n",
      "-8.90%\n",
      "SMA200\n",
      "-7.12%\n",
      "Volume\n",
      "19,657,484\n",
      "Change\n",
      "-2.37%\n"
     ]
    }
   ],
   "source": [
    "for row in finviz.find_all('tr'):\n",
    "    for col in row.find_all('td'):\n",
    "        print(col.text)"
   ]
  },
  {
   "cell_type": "code",
   "execution_count": 14,
   "metadata": {},
   "outputs": [],
   "source": [
    "import ffn\n",
    "#%pylab inline\n",
    "prices = ffn.get('mu,wdc,stx', start='2010-01-01')\n"
   ]
  },
  {
   "cell_type": "code",
   "execution_count": null,
   "metadata": {},
   "outputs": [
    {
     "data": {
      "text/plain": [
       "<matplotlib.axes._subplots.AxesSubplot at 0x1ffad85f8d0>"
      ]
     },
     "execution_count": 15,
     "metadata": {},
     "output_type": "execute_result"
    }
   ],
   "source": [
    "prices.rebase().plot(figsize = (20,10))"
   ]
  },
  {
   "cell_type": "code",
   "execution_count": 10,
   "metadata": {},
   "outputs": [
    {
     "data": {
      "text/plain": [
       "array([[<matplotlib.axes._subplots.AxesSubplot object at 0x000001FFAE012278>,\n",
       "        <matplotlib.axes._subplots.AxesSubplot object at 0x000001FFAE119160>]],\n",
       "      dtype=object)"
      ]
     },
     "execution_count": 10,
     "metadata": {},
     "output_type": "execute_result"
    },
    {
     "data": {
      "image/png": "[encoded data removed]",
      "text/plain": [
       "<matplotlib.figure.Figure at 0x1ffae06e5c0>"
      ]
     },
     "metadata": {},
     "output_type": "display_data"
    }
   ],
   "source": [
    "# now what do the return distributions look like?\n",
    "returns = prices.to_returns().dropna()\n",
    "returns.hist(figsize = (10, 5))"
   ]
  },
  {
   "cell_type": "code",
   "execution_count": 11,
   "metadata": {},
   "outputs": [
    {
     "name": "stdout",
     "output_type": "stream",
     "text": [
      "Stat                 aapl        msft\n",
      "-------------------  ----------  ----------\n",
      "Start                2010-01-04  2010-01-04\n",
      "End                  2019-05-23  2019-05-23\n",
      "Risk-free rate       0.00%       0.00%\n",
      "\n",
      "Total Return         781.33%     410.32%\n",
      "Daily Sharpe         1.02        0.87\n",
      "Daily Sortino        1.71        1.48\n",
      "CAGR                 26.11%      18.98%\n",
      "Max Drawdown         -40.12%     -26.37%\n",
      "Calmar Ratio         0.65        0.72\n",
      "\n",
      "MTD                  -10.47%     -3.81%\n",
      "3m                   3.87%       13.20%\n",
      "6m                   4.73%       22.40%\n",
      "YTD                  14.39%      24.20%\n",
      "1Y                   -3.53%      28.91%\n",
      "3Y (ann.)            24.96%      38.53%\n",
      "5Y (ann.)            17.36%      28.44%\n",
      "10Y (ann.)           26.11%      18.98%\n",
      "Since Incep. (ann.)  26.11%      18.98%\n",
      "\n",
      "Daily Sharpe         1.02        0.87\n",
      "Daily Sortino        1.71        1.48\n",
      "Daily Mean (ann.)    26.65%      20.03%\n",
      "Daily Vol (ann.)     26.13%      22.97%\n",
      "Daily Skew           -0.12       0.09\n",
      "Daily Kurt           4.44        6.37\n",
      "Best Day             8.87%       10.45%\n",
      "Worst Day            -12.36%     -11.40%\n",
      "\n",
      "Monthly Sharpe       1.07        0.97\n",
      "Monthly Sortino      2.17        1.95\n",
      "Monthly Mean (ann.)  28.12%      20.86%\n",
      "Monthly Vol (ann.)   26.28%      21.48%\n",
      "Monthly Skew         -0.14       0.08\n",
      "Monthly Kurt         -0.13       0.59\n",
      "Best Month           20.04%      19.63%\n",
      "Worst Month          -18.12%     -15.14%\n",
      "\n",
      "Yearly Sharpe        1.13        1.42\n",
      "Yearly Sortino       11.94       14.52\n",
      "Yearly Mean          23.24%      21.85%\n",
      "Yearly Vol           20.60%      15.41%\n",
      "Yearly Skew          -0.03       -0.20\n",
      "Yearly Kurt          -1.25       -0.13\n",
      "Best Year            50.92%      44.30%\n",
      "Worst Year           -5.39%      -4.52%\n",
      "\n",
      "Avg. Drawdown        -4.00%      -3.15%\n",
      "Avg. Drawdown Days   29.24       28.37\n",
      "Avg. Up Month        7.09%       5.35%\n",
      "Avg. Down Month      -4.99%      -4.52%\n",
      "Win Year %           77.78%      88.89%\n",
      "Win 12m %            77.45%      88.24%\n"
     ]
    }
   ],
   "source": [
    "stats = prices.calc_stats()\n",
    "stats.display()"
   ]
  },
  {
   "cell_type": "code",
   "execution_count": 12,
   "metadata": {},
   "outputs": [
    {
     "data": {
      "text/plain": [
       "<matplotlib.axes._subplots.AxesSubplot at 0x1ffae06e1d0>"
      ]
     },
     "execution_count": 12,
     "metadata": {},
     "output_type": "execute_result"
    },
    {
     "data": {
      "image/png": "[encoded data removed]",
      "text/plain": [
       "<matplotlib.figure.Figure at 0x1ff97d91860>"
      ]
     },
     "metadata": {},
     "output_type": "display_data"
    }
   ],
   "source": [
    "stats.prices.to_drawdown_series().plot()"
   ]
  },
  {
   "cell_type": "code",
   "execution_count": null,
   "metadata": {
    "collapsed": true
   },
   "outputs": [],
   "source": []
  }
 ],
 "metadata": {
  "kernelspec": {
   "display_name": "Python 3",
   "language": "python",
   "name": "python3"
  },
  "language_info": {
   "codemirror_mode": {
    "name": "ipython",
    "version": 3
   },
   "file_extension": ".py",
   "mimetype": "text/x-python",
   "name": "python",
   "nbconvert_exporter": "python",
   "pygments_lexer": "ipython3",
   "version": "3.6.1"
  }
 },
 "nbformat": 4,
 "nbformat_minor": 2
}
