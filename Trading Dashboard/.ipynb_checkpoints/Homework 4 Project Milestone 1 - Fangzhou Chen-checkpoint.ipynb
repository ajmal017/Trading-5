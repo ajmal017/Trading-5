{
 "cells": [
  {
   "cell_type": "markdown",
   "metadata": {},
   "source": [
    "### Dataset 1 - Alphavantage API"
   ]
  },
  {
   "cell_type": "markdown",
   "metadata": {},
   "source": [
    "#### 1) API Endpoint(s)\n",
    "\n",
    "For SPX and VIX daily index data:<br>\n",
    "https://www.alphavantage.co/query?function=TIME_SERIES_DAILY&symbol=SPX&outputsize=full&apikey=demo<br>\n",
    "\n",
    "For SPX and VIX intra-day index data:<br>\n",
    "https://www.alphavantage.co/query?function=TIME_SERIES_INTRADAY&symbol=SPX&interval=1min&outputsize=full&apikey=demo<br>\n",
    "\n",
    "For SPX and VIX most recent and up-to-date data:<br>\n",
    "https://www.alphavantage.co/query?function=GLOBAL_QUOTE&symbol=MSFT&apikey=demo<br>\n",
    "\n",
    "#### API Documentation\n",
    "https://www.alphavantage.co/documentation/\n",
    "\n",
    "#### 2) Dataset Summary\n",
    "Alpha Vantage Inc. is a provider of free APIs for realtime and historical data on stocks, forex (FX), and digital/crypto currencies. You can query the open, high, low, close, and volume data for most given stocks found on the US stock exchanges where the time intervals can be daily, minutely, or most recent. Alphavantage allows up to 5 API requests per minute and 500 requests per day.\n",
    "\n",
    "#### 3) Data Usage\n",
    "The goal for this data is to build a dashboard that displays the daily SPX and VIX index movements along with some simple indicators to measure the current market trend, e.g., a simple moving average for a 200 day window. In addition, since the VIX index is a measure of the market's expecation of future market volatility (market standard deviation), the prices for the SPX can be used to calculate the historical realized market volatility to compare against the VIX index."
   ]
  },
  {
   "cell_type": "markdown",
   "metadata": {},
   "source": [
    "### Dataset 2 - VIX Central API"
   ]
  },
  {
   "cell_type": "markdown",
   "metadata": {},
   "source": [
    "#### 1) API Endpoint(s)\n",
    "Daily VIX Futures Settlement Prices:<br>\n",
    "- http://vixcentral.com/historical/?days=30\n",
    "\n",
    "#### API Documentation \n",
    "\n",
    "- http://vixcentral.com/\n",
    "    - There is no actual documentation for this API. It is a very simple endpoint from vixcentral's URL where one can change the days parameter to look back further in time.\n",
    "\n",
    "#### 2) Dataset Summary\n",
    "VIX Central is a dashboard that displays the term structure of the CBOE VIX Futures along with the underlying spot VIX price. The data from the API is the daily settlement prices of all currently traded, regular monthly, VIX Futures.\n",
    "\n",
    "#### 3) Data Usage\n",
    "The goal for this data is to add to the dashboard mentioned above by also giving the latest (delayed by one day) term structure of the CBOE VIX Futures. I will also use this data to calculate the current contango/backwardation ratio that approximates the structure of the Exchange Traded Note, VXX, which is just a simple days (from maturity) weighted average of the ratio between the spot VIX and first to expiry future and the ratio between the first to expiry and second to expiry future. This ratio will be used to determine the stability (and safety) of selling put options on the SPX index."
   ]
  },
  {
   "cell_type": "markdown",
   "metadata": {},
   "source": [
    "### Dataset 3 - CBOE Delayed Futures Quotes"
   ]
  },
  {
   "cell_type": "markdown",
   "metadata": {},
   "source": [
    "#### 1) URL for Scraping\n",
    "\n",
    "Most Recent (15 minute delay) VIX Futures Table:<br>\n",
    "- http://www.cboe.com/delayedquote/futures-quotes\n",
    "\n",
    "#### 2) Dataset Summary\n",
    "CBOE provides 15-minute delayed data on all VIX Futures prices during the data throughout the day. The VX -  Cboe S&P 500 Volatility Index (VIX) Futures table will be scraped to extract the most recent settlement prices.\n",
    "\n",
    "#### 3) Data Usage\n",
    "This latest data will be used in conjunction with the latest quotes data collected from the Alphavantage API above to build a live (15-minute delayed) view of the market during the trading day. The VIX Futures settlement prices from CBOE can be used to calculate the intra-day futures term structure in order to see how quickly market uncertainty is developing or collapsing."
   ]
  },
  {
   "cell_type": "markdown",
   "metadata": {},
   "source": [
    "## Overall Project Goal\n",
    "The data from all three datasets are to be used to develop a dashboard that can be used during trading hours to guage the market trend over the past few days/months. The intra-day data scraped/queried from CBOE/Alphavantage are then used in a secondary visualization to help with timing market entries and exits during the day. Overall, the goal of the data is to determine whether it is safe to enter the market (daily data) and when to make the trade (intra-day data)."
   ]
  }
 ],
 "metadata": {
  "kernelspec": {
   "display_name": "Python 3",
   "language": "python",
   "name": "python3"
  },
  "language_info": {
   "codemirror_mode": {
    "name": "ipython",
    "version": 3
   },
   "file_extension": ".py",
   "mimetype": "text/x-python",
   "name": "python",
   "nbconvert_exporter": "python",
   "pygments_lexer": "ipython3",
   "version": "3.6.5"
  }
 },
 "nbformat": 4,
 "nbformat_minor": 2
}
